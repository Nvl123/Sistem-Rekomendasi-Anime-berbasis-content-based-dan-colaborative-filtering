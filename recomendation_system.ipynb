{
  "nbformat": 4,
  "nbformat_minor": 0,
  "metadata": {
    "colab": {
      "provenance": []
    },
    "kernelspec": {
      "name": "python3",
      "display_name": "Python 3"
    },
    "language_info": {
      "name": "python"
    }
  },
  "cells": [
    {
      "cell_type": "markdown",
      "source": [
        "# **Sistem Rekomendasi Anime Berbasis Content-Based dan Collaborative Filtering** - Moh Novil Maarij"
      ],
      "metadata": {
        "id": "jhyjfUSQNw8h"
      }
    },
    {
      "cell_type": "markdown",
      "source": [
        "![anime](https://figurinemangafrance.fr/cdn/shop/articles/quest-ce-quun-anime.webp?v=1679424987)"
      ],
      "metadata": {
        "id": "zVrDAyubN8NP"
      }
    },
    {
      "cell_type": "markdown",
      "source": [
        "## **Latar Belakang**"
      ],
      "metadata": {
        "id": "vx5iWyu5ODYP"
      }
    },
    {
      "cell_type": "markdown",
      "source": [
        "Sistem rekomendasi menjadi alat penting di berbagai industri untuk membantu pengguna menavigasi informasi yang berlebihan dan mendukung pengambilan keputusan yang lebih baik. Dalam era digital yang penuh data, sistem ini mempersonalisasi pengalaman pengguna dan meningkatkan kepuasan serta hasil bisnis. Perusahaan besar seperti Amazon dan Netflix menggunakan sistem rekomendasi untuk meningkatkan keterlibatan dan keuntungan.\n",
        "\n",
        "Industri anime berkembang pesat, didorong oleh platform streaming global dan minat internasional. Meskipun pasar anime Jepang masih terfokus domestik, potensi pasar global sangat besar, dengan proyeksi pertumbuhan signifikan hingga 2030. Sistem rekomendasi anime yang dipersonalisasi membantu pengguna menemukan anime yang relevan, meningkatkan kepuasan, dan mendorong keterlibatan di platform streaming.\n",
        "\n",
        "Namun, platform streaming anime menghadapi tantangan seperti overload konten, masalah privasi pengguna, sparsitas data, dan kebutuhan untuk personalisasi yang cepat dan akurat.\n"
      ],
      "metadata": {
        "id": "WPt67ifJOPUZ"
      }
    },
    {
      "cell_type": "markdown",
      "source": [
        "## **Import Library**"
      ],
      "metadata": {
        "id": "mlFuT2qZOj2D"
      }
    },
    {
      "cell_type": "markdown",
      "source": [
        "pada bagian ini kita mengimport beberapa library yang di butuh untuk pemrosesan data hingga proses akhir training dan evaluasi model"
      ],
      "metadata": {
        "id": "HScUC4IeOnLW"
      }
    },
    {
      "cell_type": "code",
      "execution_count": 80,
      "metadata": {
        "id": "EMqJQ_JHIje8"
      },
      "outputs": [],
      "source": [
        "import zipfile\n",
        "import numpy as np\n",
        "import pandas as pd\n",
        "import matplotlib.pyplot as plt\n",
        "import seaborn as sns\n",
        "import tensorflow as tf\n",
        "from tensorflow import keras\n",
        "from tensorflow.keras import layers\n",
        "from sklearn.metrics.pairwise import cosine_similarity\n",
        "from sklearn.feature_extraction.text import TfidfVectorizer\n",
        "from sklearn.model_selection import train_test_split\n",
        "from google.colab import files"
      ]
    },
    {
      "cell_type": "markdown",
      "source": [
        "## **Data Understanding**"
      ],
      "metadata": {
        "id": "gzYkvKUdO9VB"
      }
    },
    {
      "cell_type": "markdown",
      "source": [
        "pada bagian ini kita akan melakukan upload dataset yang di gunakan dan kemudiaan melakukan esplorasi untuk memahami kualitas dan masalah-masalah yang ada pada data sehingga kita mengetahui pengeolahan seperti apa yang perlu di trapkan pada tahap selanjutnya (`data preparation`)"
      ],
      "metadata": {
        "id": "PznottZyPBpJ"
      }
    },
    {
      "cell_type": "markdown",
      "source": [
        "### **Data Loading**"
      ],
      "metadata": {
        "id": "ONwgWYQzPrOX"
      }
    },
    {
      "cell_type": "markdown",
      "source": [
        "kode program ini di jalankan di google colab dan proses data loading nya menggunakan API Kaggle sehingga google colab langsung mengambil datasetnya ke kaggle tanpa memasukkannya manual."
      ],
      "metadata": {
        "id": "SNg1htknPyRr"
      }
    },
    {
      "cell_type": "code",
      "source": [
        "files.upload()\n",
        "\n",
        "!mkdir -p ~/.kaggle\n",
        "!cp kaggle.json ~/.kaggle/\n",
        "!chmod 600 ~/.kaggle/kaggle.json\n",
        "\n",
        "!kaggle datasets download -d CooperUnion/anime-recommendations-database\n"
      ],
      "metadata": {
        "colab": {
          "base_uri": "https://localhost:8080/",
          "height": 160
        },
        "id": "Yk8X2o6nIxo9",
        "outputId": "6574324d-4c97-4153-b895-c18ba378b938"
      },
      "execution_count": 2,
      "outputs": [
        {
          "output_type": "display_data",
          "data": {
            "text/plain": [
              "<IPython.core.display.HTML object>"
            ],
            "text/html": [
              "\n",
              "     <input type=\"file\" id=\"files-89e1c828-04e0-4abb-b69b-bef6b3d3af31\" name=\"files[]\" multiple disabled\n",
              "        style=\"border:none\" />\n",
              "     <output id=\"result-89e1c828-04e0-4abb-b69b-bef6b3d3af31\">\n",
              "      Upload widget is only available when the cell has been executed in the\n",
              "      current browser session. Please rerun this cell to enable.\n",
              "      </output>\n",
              "      <script>// Copyright 2017 Google LLC\n",
              "//\n",
              "// Licensed under the Apache License, Version 2.0 (the \"License\");\n",
              "// you may not use this file except in compliance with the License.\n",
              "// You may obtain a copy of the License at\n",
              "//\n",
              "//      http://www.apache.org/licenses/LICENSE-2.0\n",
              "//\n",
              "// Unless required by applicable law or agreed to in writing, software\n",
              "// distributed under the License is distributed on an \"AS IS\" BASIS,\n",
              "// WITHOUT WARRANTIES OR CONDITIONS OF ANY KIND, either express or implied.\n",
              "// See the License for the specific language governing permissions and\n",
              "// limitations under the License.\n",
              "\n",
              "/**\n",
              " * @fileoverview Helpers for google.colab Python module.\n",
              " */\n",
              "(function(scope) {\n",
              "function span(text, styleAttributes = {}) {\n",
              "  const element = document.createElement('span');\n",
              "  element.textContent = text;\n",
              "  for (const key of Object.keys(styleAttributes)) {\n",
              "    element.style[key] = styleAttributes[key];\n",
              "  }\n",
              "  return element;\n",
              "}\n",
              "\n",
              "// Max number of bytes which will be uploaded at a time.\n",
              "const MAX_PAYLOAD_SIZE = 100 * 1024;\n",
              "\n",
              "function _uploadFiles(inputId, outputId) {\n",
              "  const steps = uploadFilesStep(inputId, outputId);\n",
              "  const outputElement = document.getElementById(outputId);\n",
              "  // Cache steps on the outputElement to make it available for the next call\n",
              "  // to uploadFilesContinue from Python.\n",
              "  outputElement.steps = steps;\n",
              "\n",
              "  return _uploadFilesContinue(outputId);\n",
              "}\n",
              "\n",
              "// This is roughly an async generator (not supported in the browser yet),\n",
              "// where there are multiple asynchronous steps and the Python side is going\n",
              "// to poll for completion of each step.\n",
              "// This uses a Promise to block the python side on completion of each step,\n",
              "// then passes the result of the previous step as the input to the next step.\n",
              "function _uploadFilesContinue(outputId) {\n",
              "  const outputElement = document.getElementById(outputId);\n",
              "  const steps = outputElement.steps;\n",
              "\n",
              "  const next = steps.next(outputElement.lastPromiseValue);\n",
              "  return Promise.resolve(next.value.promise).then((value) => {\n",
              "    // Cache the last promise value to make it available to the next\n",
              "    // step of the generator.\n",
              "    outputElement.lastPromiseValue = value;\n",
              "    return next.value.response;\n",
              "  });\n",
              "}\n",
              "\n",
              "/**\n",
              " * Generator function which is called between each async step of the upload\n",
              " * process.\n",
              " * @param {string} inputId Element ID of the input file picker element.\n",
              " * @param {string} outputId Element ID of the output display.\n",
              " * @return {!Iterable<!Object>} Iterable of next steps.\n",
              " */\n",
              "function* uploadFilesStep(inputId, outputId) {\n",
              "  const inputElement = document.getElementById(inputId);\n",
              "  inputElement.disabled = false;\n",
              "\n",
              "  const outputElement = document.getElementById(outputId);\n",
              "  outputElement.innerHTML = '';\n",
              "\n",
              "  const pickedPromise = new Promise((resolve) => {\n",
              "    inputElement.addEventListener('change', (e) => {\n",
              "      resolve(e.target.files);\n",
              "    });\n",
              "  });\n",
              "\n",
              "  const cancel = document.createElement('button');\n",
              "  inputElement.parentElement.appendChild(cancel);\n",
              "  cancel.textContent = 'Cancel upload';\n",
              "  const cancelPromise = new Promise((resolve) => {\n",
              "    cancel.onclick = () => {\n",
              "      resolve(null);\n",
              "    };\n",
              "  });\n",
              "\n",
              "  // Wait for the user to pick the files.\n",
              "  const files = yield {\n",
              "    promise: Promise.race([pickedPromise, cancelPromise]),\n",
              "    response: {\n",
              "      action: 'starting',\n",
              "    }\n",
              "  };\n",
              "\n",
              "  cancel.remove();\n",
              "\n",
              "  // Disable the input element since further picks are not allowed.\n",
              "  inputElement.disabled = true;\n",
              "\n",
              "  if (!files) {\n",
              "    return {\n",
              "      response: {\n",
              "        action: 'complete',\n",
              "      }\n",
              "    };\n",
              "  }\n",
              "\n",
              "  for (const file of files) {\n",
              "    const li = document.createElement('li');\n",
              "    li.append(span(file.name, {fontWeight: 'bold'}));\n",
              "    li.append(span(\n",
              "        `(${file.type || 'n/a'}) - ${file.size} bytes, ` +\n",
              "        `last modified: ${\n",
              "            file.lastModifiedDate ? file.lastModifiedDate.toLocaleDateString() :\n",
              "                                    'n/a'} - `));\n",
              "    const percent = span('0% done');\n",
              "    li.appendChild(percent);\n",
              "\n",
              "    outputElement.appendChild(li);\n",
              "\n",
              "    const fileDataPromise = new Promise((resolve) => {\n",
              "      const reader = new FileReader();\n",
              "      reader.onload = (e) => {\n",
              "        resolve(e.target.result);\n",
              "      };\n",
              "      reader.readAsArrayBuffer(file);\n",
              "    });\n",
              "    // Wait for the data to be ready.\n",
              "    let fileData = yield {\n",
              "      promise: fileDataPromise,\n",
              "      response: {\n",
              "        action: 'continue',\n",
              "      }\n",
              "    };\n",
              "\n",
              "    // Use a chunked sending to avoid message size limits. See b/62115660.\n",
              "    let position = 0;\n",
              "    do {\n",
              "      const length = Math.min(fileData.byteLength - position, MAX_PAYLOAD_SIZE);\n",
              "      const chunk = new Uint8Array(fileData, position, length);\n",
              "      position += length;\n",
              "\n",
              "      const base64 = btoa(String.fromCharCode.apply(null, chunk));\n",
              "      yield {\n",
              "        response: {\n",
              "          action: 'append',\n",
              "          file: file.name,\n",
              "          data: base64,\n",
              "        },\n",
              "      };\n",
              "\n",
              "      let percentDone = fileData.byteLength === 0 ?\n",
              "          100 :\n",
              "          Math.round((position / fileData.byteLength) * 100);\n",
              "      percent.textContent = `${percentDone}% done`;\n",
              "\n",
              "    } while (position < fileData.byteLength);\n",
              "  }\n",
              "\n",
              "  // All done.\n",
              "  yield {\n",
              "    response: {\n",
              "      action: 'complete',\n",
              "    }\n",
              "  };\n",
              "}\n",
              "\n",
              "scope.google = scope.google || {};\n",
              "scope.google.colab = scope.google.colab || {};\n",
              "scope.google.colab._files = {\n",
              "  _uploadFiles,\n",
              "  _uploadFilesContinue,\n",
              "};\n",
              "})(self);\n",
              "</script> "
            ]
          },
          "metadata": {}
        },
        {
          "output_type": "stream",
          "name": "stdout",
          "text": [
            "Saving kaggle.json to kaggle.json\n",
            "Dataset URL: https://www.kaggle.com/datasets/CooperUnion/anime-recommendations-database\n",
            "License(s): CC0-1.0\n",
            "Downloading anime-recommendations-database.zip to /content\n",
            "  0% 0.00/25.0M [00:00<?, ?B/s]\n",
            "100% 25.0M/25.0M [00:00<00:00, 849MB/s]\n"
          ]
        }
      ]
    },
    {
      "cell_type": "markdown",
      "source": [
        "setelah data berhasil di load bentuknya masih berformat `zip` oleh karena itu perlu di `unzip` untuk mengkses file-file yang ada di dalamnya."
      ],
      "metadata": {
        "id": "u8VJr4mDQNt_"
      }
    },
    {
      "cell_type": "code",
      "source": [
        "!unzip anime-recommendations-database.zip"
      ],
      "metadata": {
        "colab": {
          "base_uri": "https://localhost:8080/"
        },
        "id": "xolhN0UaI_PV",
        "outputId": "2dbf0707-b576-4744-db22-d1aa9bc24d3e"
      },
      "execution_count": 3,
      "outputs": [
        {
          "output_type": "stream",
          "name": "stdout",
          "text": [
            "Archive:  anime-recommendations-database.zip\n",
            "  inflating: anime.csv               \n",
            "  inflating: rating.csv              \n"
          ]
        }
      ]
    },
    {
      "cell_type": "markdown",
      "source": [
        "pada dataset yang telah di unzip terdapat 2 file CSV, yaitu anime dan rating, pada dataset anime terdapat informasi tentang anime dan pada rating berisi informasi tentang rating yang di berikan user pada jenis anime tertentu."
      ],
      "metadata": {
        "id": "7Fgr8VJ2TBEC"
      }
    },
    {
      "cell_type": "markdown",
      "source": [
        "### **Dataset Information**"
      ],
      "metadata": {
        "id": "z_oiTAoZR-wV"
      }
    },
    {
      "cell_type": "markdown",
      "source": [
        "| Jenis | Keterangan |\n",
        "|-------|------------|\n",
        "|Nama   | Anime Recommendations Database|\n",
        "|Sumber | [Kaggle](https://www.kaggle.com/datasets/CooperUnion/anime-recommendations-database)|\n",
        "|Pengelola| [Cooper Union](https://www.kaggle.com/organizations/CooperUnion)\n",
        "|Lisensi| [CC0:Public Domain](https://creativecommons.org/publicdomain/zero/1.0/)|\n",
        "|Visibilitas| Publik|\n",
        "|Label| *Movie and TV Show, Anime and Manga, Comic and Animation, Popular Culture*|\n",
        "|Kebergunaan| 8.24|\n"
      ],
      "metadata": {
        "id": "uWfO0UyJSGqj"
      }
    },
    {
      "cell_type": "markdown",
      "source": [
        "### **Variable Description**"
      ],
      "metadata": {
        "id": "EGhOhxUuSTvB"
      }
    },
    {
      "cell_type": "markdown",
      "source": [
        "untuk mempermudah pemrosesan data, 2 dataset yang ada masing-masing di assign pada 2 variabel berbeda, yaitu `anime` dan `rating`"
      ],
      "metadata": {
        "id": "EywE21DlTWZo"
      }
    },
    {
      "cell_type": "code",
      "source": [
        "anime = pd.read_csv('anime.csv')\n",
        "rating = pd.read_csv('rating.csv')"
      ],
      "metadata": {
        "id": "h1XfNDbiJFf1"
      },
      "execution_count": 4,
      "outputs": []
    },
    {
      "cell_type": "markdown",
      "source": [
        "untuk mengetahui variabel yang ada pada tiap dataset kita cukup cetak tiap-tiap kolomnya saja seperti pada kode berikut:"
      ],
      "metadata": {
        "id": "2-e8o8fnUCfR"
      }
    },
    {
      "cell_type": "code",
      "source": [
        "print(\"varibel pada dataset Anime : \", anime.columns)\n",
        "print(\"varibel pada dataset Rating : \", rating.columns)"
      ],
      "metadata": {
        "colab": {
          "base_uri": "https://localhost:8080/"
        },
        "id": "3R3A2Uu2Sybs",
        "outputId": "dfadf8be-5de8-4d69-f13c-57bbe1a5cdd9"
      },
      "execution_count": 5,
      "outputs": [
        {
          "output_type": "stream",
          "name": "stdout",
          "text": [
            "varibel pada dataset Anime :  Index(['anime_id', 'name', 'genre', 'type', 'episodes', 'rating', 'members'], dtype='object')\n",
            "varibel pada dataset Rating :  Index(['user_id', 'anime_id', 'rating'], dtype='object')\n"
          ]
        }
      ]
    },
    {
      "cell_type": "markdown",
      "source": [
        "dari output di atas variabel yang ada pada anime adalah :\n",
        "\n",
        "- `anime_id` - ID unik yang diberikan oleh myanimelist.net untuk mengidentifikasi setiap anime.\n",
        "- `name` - judul anime.\n",
        "- `genre` - Daftar genre yang terkait dengan anime tersebut, dipisahkan dengan koma.\n",
        "- `type` - Jenis anime, seperti movie, TV, OVA, dll.\n",
        "- `episodes` -  Jumlah episode dalam serial anime tersebut. Jika anime berupa film, maka nilainya adalah 1.\n",
        "- `rating` -  Rata-rata rating anime ini, diberikan dalam skala 1 sampai 10.\n",
        "- `members` - Jumlah anggota komunitas yang terdaftar dalam grup anime tersebut.\n",
        "\n",
        "sementara pada rating :\n",
        "\n",
        "- `user_id` - ID pengguna yang dihasilkan secara acak dan tidak dapat diidentifikasi.\n",
        "- `anime_id` - ID anime yang telah diberi rating oleh pengguna.\n",
        "- `rating` - Rating yang diberikan oleh pengguna untuk anime tersebut, dalam skala 1 sampai 10. Jika pengguna menonton anime tetapi tidak memberikan rating, maka nilainya adalah -1."
      ],
      "metadata": {
        "id": "tDj1weQtUN2r"
      }
    },
    {
      "cell_type": "markdown",
      "source": [
        "untuk mengetahui tipe data dari tiap kolom atau variable digunkan fungsi `info()`"
      ],
      "metadata": {
        "id": "h2IDyLbIwZIN"
      }
    },
    {
      "cell_type": "code",
      "source": [
        "anime.info()"
      ],
      "metadata": {
        "colab": {
          "base_uri": "https://localhost:8080/"
        },
        "id": "CC86vwgEJX9O",
        "outputId": "3e7fbd2d-e95b-4ba9-982b-a0e78adf1ecf"
      },
      "execution_count": 7,
      "outputs": [
        {
          "output_type": "stream",
          "name": "stdout",
          "text": [
            "<class 'pandas.core.frame.DataFrame'>\n",
            "RangeIndex: 12294 entries, 0 to 12293\n",
            "Data columns (total 7 columns):\n",
            " #   Column    Non-Null Count  Dtype  \n",
            "---  ------    --------------  -----  \n",
            " 0   anime_id  12294 non-null  int64  \n",
            " 1   name      12294 non-null  object \n",
            " 2   genre     12232 non-null  object \n",
            " 3   type      12269 non-null  object \n",
            " 4   episodes  12294 non-null  object \n",
            " 5   rating    12064 non-null  float64\n",
            " 6   members   12294 non-null  int64  \n",
            "dtypes: float64(1), int64(2), object(4)\n",
            "memory usage: 672.5+ KB\n"
          ]
        }
      ]
    },
    {
      "cell_type": "markdown",
      "source": [
        "dari output di atas menunjukkan bahwa dari 7 kolom yang ada pada variable anime 1 bertipe float `(rating)` 2 bertipe integer `(members dan anime_id)` dan 4 lainnya bertipe object. kemudian kita juga dapat melihat perbedaan jumlah data pada kolom, ini menandakan adanya data duplikat atau missing values pada data"
      ],
      "metadata": {
        "id": "KNmMM-pNwx_I"
      }
    },
    {
      "cell_type": "markdown",
      "source": [
        "mari kita lihat sampel dari dataset anime"
      ],
      "metadata": {
        "id": "io0s-3NKxOq-"
      }
    },
    {
      "cell_type": "code",
      "source": [
        "anime.sample(5)"
      ],
      "metadata": {
        "colab": {
          "base_uri": "https://localhost:8080/",
          "height": 206
        },
        "id": "L5wvkC7QJdWl",
        "outputId": "36d569f8-6bae-4a9e-9d41-d519160e6116"
      },
      "execution_count": 8,
      "outputs": [
        {
          "output_type": "execute_result",
          "data": {
            "text/plain": [
              "       anime_id                                      name  \\\n",
              "2595       1543  Yoake Mae yori Ruriiro na: Crescent Love   \n",
              "11116     15843              Koiito Kinenbi The Animation   \n",
              "7422      29956                                  Swimming   \n",
              "5164       3778                               Yuukan Club   \n",
              "10706     33124              Wakuwaku♥Nukegake Daisakusen   \n",
              "\n",
              "                                 genre   type episodes  rating  members  \n",
              "2595   Comedy, Romance, School, Sci-Fi     TV       12    7.22    22770  \n",
              "11116                           Hentai    OVA        2    7.75     6940  \n",
              "7422                          Dementia  Movie        1    5.45      125  \n",
              "5164   Comedy, Mystery, School, Shoujo    OVA        2    6.54      287  \n",
              "10706                      Cars, Music  Music        1    4.20       59  "
            ],
            "text/html": [
              "\n",
              "  <div id=\"df-36e682e4-8136-4615-a02c-b9be74ccf200\" class=\"colab-df-container\">\n",
              "    <div>\n",
              "<style scoped>\n",
              "    .dataframe tbody tr th:only-of-type {\n",
              "        vertical-align: middle;\n",
              "    }\n",
              "\n",
              "    .dataframe tbody tr th {\n",
              "        vertical-align: top;\n",
              "    }\n",
              "\n",
              "    .dataframe thead th {\n",
              "        text-align: right;\n",
              "    }\n",
              "</style>\n",
              "<table border=\"1\" class=\"dataframe\">\n",
              "  <thead>\n",
              "    <tr style=\"text-align: right;\">\n",
              "      <th></th>\n",
              "      <th>anime_id</th>\n",
              "      <th>name</th>\n",
              "      <th>genre</th>\n",
              "      <th>type</th>\n",
              "      <th>episodes</th>\n",
              "      <th>rating</th>\n",
              "      <th>members</th>\n",
              "    </tr>\n",
              "  </thead>\n",
              "  <tbody>\n",
              "    <tr>\n",
              "      <th>2595</th>\n",
              "      <td>1543</td>\n",
              "      <td>Yoake Mae yori Ruriiro na: Crescent Love</td>\n",
              "      <td>Comedy, Romance, School, Sci-Fi</td>\n",
              "      <td>TV</td>\n",
              "      <td>12</td>\n",
              "      <td>7.22</td>\n",
              "      <td>22770</td>\n",
              "    </tr>\n",
              "    <tr>\n",
              "      <th>11116</th>\n",
              "      <td>15843</td>\n",
              "      <td>Koiito Kinenbi The Animation</td>\n",
              "      <td>Hentai</td>\n",
              "      <td>OVA</td>\n",
              "      <td>2</td>\n",
              "      <td>7.75</td>\n",
              "      <td>6940</td>\n",
              "    </tr>\n",
              "    <tr>\n",
              "      <th>7422</th>\n",
              "      <td>29956</td>\n",
              "      <td>Swimming</td>\n",
              "      <td>Dementia</td>\n",
              "      <td>Movie</td>\n",
              "      <td>1</td>\n",
              "      <td>5.45</td>\n",
              "      <td>125</td>\n",
              "    </tr>\n",
              "    <tr>\n",
              "      <th>5164</th>\n",
              "      <td>3778</td>\n",
              "      <td>Yuukan Club</td>\n",
              "      <td>Comedy, Mystery, School, Shoujo</td>\n",
              "      <td>OVA</td>\n",
              "      <td>2</td>\n",
              "      <td>6.54</td>\n",
              "      <td>287</td>\n",
              "    </tr>\n",
              "    <tr>\n",
              "      <th>10706</th>\n",
              "      <td>33124</td>\n",
              "      <td>Wakuwaku♥Nukegake Daisakusen</td>\n",
              "      <td>Cars, Music</td>\n",
              "      <td>Music</td>\n",
              "      <td>1</td>\n",
              "      <td>4.20</td>\n",
              "      <td>59</td>\n",
              "    </tr>\n",
              "  </tbody>\n",
              "</table>\n",
              "</div>\n",
              "    <div class=\"colab-df-buttons\">\n",
              "\n",
              "  <div class=\"colab-df-container\">\n",
              "    <button class=\"colab-df-convert\" onclick=\"convertToInteractive('df-36e682e4-8136-4615-a02c-b9be74ccf200')\"\n",
              "            title=\"Convert this dataframe to an interactive table.\"\n",
              "            style=\"display:none;\">\n",
              "\n",
              "  <svg xmlns=\"http://www.w3.org/2000/svg\" height=\"24px\" viewBox=\"0 -960 960 960\">\n",
              "    <path d=\"M120-120v-720h720v720H120Zm60-500h600v-160H180v160Zm220 220h160v-160H400v160Zm0 220h160v-160H400v160ZM180-400h160v-160H180v160Zm440 0h160v-160H620v160ZM180-180h160v-160H180v160Zm440 0h160v-160H620v160Z\"/>\n",
              "  </svg>\n",
              "    </button>\n",
              "\n",
              "  <style>\n",
              "    .colab-df-container {\n",
              "      display:flex;\n",
              "      gap: 12px;\n",
              "    }\n",
              "\n",
              "    .colab-df-convert {\n",
              "      background-color: #E8F0FE;\n",
              "      border: none;\n",
              "      border-radius: 50%;\n",
              "      cursor: pointer;\n",
              "      display: none;\n",
              "      fill: #1967D2;\n",
              "      height: 32px;\n",
              "      padding: 0 0 0 0;\n",
              "      width: 32px;\n",
              "    }\n",
              "\n",
              "    .colab-df-convert:hover {\n",
              "      background-color: #E2EBFA;\n",
              "      box-shadow: 0px 1px 2px rgba(60, 64, 67, 0.3), 0px 1px 3px 1px rgba(60, 64, 67, 0.15);\n",
              "      fill: #174EA6;\n",
              "    }\n",
              "\n",
              "    .colab-df-buttons div {\n",
              "      margin-bottom: 4px;\n",
              "    }\n",
              "\n",
              "    [theme=dark] .colab-df-convert {\n",
              "      background-color: #3B4455;\n",
              "      fill: #D2E3FC;\n",
              "    }\n",
              "\n",
              "    [theme=dark] .colab-df-convert:hover {\n",
              "      background-color: #434B5C;\n",
              "      box-shadow: 0px 1px 3px 1px rgba(0, 0, 0, 0.15);\n",
              "      filter: drop-shadow(0px 1px 2px rgba(0, 0, 0, 0.3));\n",
              "      fill: #FFFFFF;\n",
              "    }\n",
              "  </style>\n",
              "\n",
              "    <script>\n",
              "      const buttonEl =\n",
              "        document.querySelector('#df-36e682e4-8136-4615-a02c-b9be74ccf200 button.colab-df-convert');\n",
              "      buttonEl.style.display =\n",
              "        google.colab.kernel.accessAllowed ? 'block' : 'none';\n",
              "\n",
              "      async function convertToInteractive(key) {\n",
              "        const element = document.querySelector('#df-36e682e4-8136-4615-a02c-b9be74ccf200');\n",
              "        const dataTable =\n",
              "          await google.colab.kernel.invokeFunction('convertToInteractive',\n",
              "                                                    [key], {});\n",
              "        if (!dataTable) return;\n",
              "\n",
              "        const docLinkHtml = 'Like what you see? Visit the ' +\n",
              "          '<a target=\"_blank\" href=https://colab.research.google.com/notebooks/data_table.ipynb>data table notebook</a>'\n",
              "          + ' to learn more about interactive tables.';\n",
              "        element.innerHTML = '';\n",
              "        dataTable['output_type'] = 'display_data';\n",
              "        await google.colab.output.renderOutput(dataTable, element);\n",
              "        const docLink = document.createElement('div');\n",
              "        docLink.innerHTML = docLinkHtml;\n",
              "        element.appendChild(docLink);\n",
              "      }\n",
              "    </script>\n",
              "  </div>\n",
              "\n",
              "\n",
              "    <div id=\"df-54024f52-b2f0-4f32-9c1a-a4609fec1247\">\n",
              "      <button class=\"colab-df-quickchart\" onclick=\"quickchart('df-54024f52-b2f0-4f32-9c1a-a4609fec1247')\"\n",
              "                title=\"Suggest charts\"\n",
              "                style=\"display:none;\">\n",
              "\n",
              "<svg xmlns=\"http://www.w3.org/2000/svg\" height=\"24px\"viewBox=\"0 0 24 24\"\n",
              "     width=\"24px\">\n",
              "    <g>\n",
              "        <path d=\"M19 3H5c-1.1 0-2 .9-2 2v14c0 1.1.9 2 2 2h14c1.1 0 2-.9 2-2V5c0-1.1-.9-2-2-2zM9 17H7v-7h2v7zm4 0h-2V7h2v10zm4 0h-2v-4h2v4z\"/>\n",
              "    </g>\n",
              "</svg>\n",
              "      </button>\n",
              "\n",
              "<style>\n",
              "  .colab-df-quickchart {\n",
              "      --bg-color: #E8F0FE;\n",
              "      --fill-color: #1967D2;\n",
              "      --hover-bg-color: #E2EBFA;\n",
              "      --hover-fill-color: #174EA6;\n",
              "      --disabled-fill-color: #AAA;\n",
              "      --disabled-bg-color: #DDD;\n",
              "  }\n",
              "\n",
              "  [theme=dark] .colab-df-quickchart {\n",
              "      --bg-color: #3B4455;\n",
              "      --fill-color: #D2E3FC;\n",
              "      --hover-bg-color: #434B5C;\n",
              "      --hover-fill-color: #FFFFFF;\n",
              "      --disabled-bg-color: #3B4455;\n",
              "      --disabled-fill-color: #666;\n",
              "  }\n",
              "\n",
              "  .colab-df-quickchart {\n",
              "    background-color: var(--bg-color);\n",
              "    border: none;\n",
              "    border-radius: 50%;\n",
              "    cursor: pointer;\n",
              "    display: none;\n",
              "    fill: var(--fill-color);\n",
              "    height: 32px;\n",
              "    padding: 0;\n",
              "    width: 32px;\n",
              "  }\n",
              "\n",
              "  .colab-df-quickchart:hover {\n",
              "    background-color: var(--hover-bg-color);\n",
              "    box-shadow: 0 1px 2px rgba(60, 64, 67, 0.3), 0 1px 3px 1px rgba(60, 64, 67, 0.15);\n",
              "    fill: var(--button-hover-fill-color);\n",
              "  }\n",
              "\n",
              "  .colab-df-quickchart-complete:disabled,\n",
              "  .colab-df-quickchart-complete:disabled:hover {\n",
              "    background-color: var(--disabled-bg-color);\n",
              "    fill: var(--disabled-fill-color);\n",
              "    box-shadow: none;\n",
              "  }\n",
              "\n",
              "  .colab-df-spinner {\n",
              "    border: 2px solid var(--fill-color);\n",
              "    border-color: transparent;\n",
              "    border-bottom-color: var(--fill-color);\n",
              "    animation:\n",
              "      spin 1s steps(1) infinite;\n",
              "  }\n",
              "\n",
              "  @keyframes spin {\n",
              "    0% {\n",
              "      border-color: transparent;\n",
              "      border-bottom-color: var(--fill-color);\n",
              "      border-left-color: var(--fill-color);\n",
              "    }\n",
              "    20% {\n",
              "      border-color: transparent;\n",
              "      border-left-color: var(--fill-color);\n",
              "      border-top-color: var(--fill-color);\n",
              "    }\n",
              "    30% {\n",
              "      border-color: transparent;\n",
              "      border-left-color: var(--fill-color);\n",
              "      border-top-color: var(--fill-color);\n",
              "      border-right-color: var(--fill-color);\n",
              "    }\n",
              "    40% {\n",
              "      border-color: transparent;\n",
              "      border-right-color: var(--fill-color);\n",
              "      border-top-color: var(--fill-color);\n",
              "    }\n",
              "    60% {\n",
              "      border-color: transparent;\n",
              "      border-right-color: var(--fill-color);\n",
              "    }\n",
              "    80% {\n",
              "      border-color: transparent;\n",
              "      border-right-color: var(--fill-color);\n",
              "      border-bottom-color: var(--fill-color);\n",
              "    }\n",
              "    90% {\n",
              "      border-color: transparent;\n",
              "      border-bottom-color: var(--fill-color);\n",
              "    }\n",
              "  }\n",
              "</style>\n",
              "\n",
              "      <script>\n",
              "        async function quickchart(key) {\n",
              "          const quickchartButtonEl =\n",
              "            document.querySelector('#' + key + ' button');\n",
              "          quickchartButtonEl.disabled = true;  // To prevent multiple clicks.\n",
              "          quickchartButtonEl.classList.add('colab-df-spinner');\n",
              "          try {\n",
              "            const charts = await google.colab.kernel.invokeFunction(\n",
              "                'suggestCharts', [key], {});\n",
              "          } catch (error) {\n",
              "            console.error('Error during call to suggestCharts:', error);\n",
              "          }\n",
              "          quickchartButtonEl.classList.remove('colab-df-spinner');\n",
              "          quickchartButtonEl.classList.add('colab-df-quickchart-complete');\n",
              "        }\n",
              "        (() => {\n",
              "          let quickchartButtonEl =\n",
              "            document.querySelector('#df-54024f52-b2f0-4f32-9c1a-a4609fec1247 button');\n",
              "          quickchartButtonEl.style.display =\n",
              "            google.colab.kernel.accessAllowed ? 'block' : 'none';\n",
              "        })();\n",
              "      </script>\n",
              "    </div>\n",
              "\n",
              "    </div>\n",
              "  </div>\n"
            ],
            "application/vnd.google.colaboratory.intrinsic+json": {
              "type": "dataframe",
              "summary": "{\n  \"name\": \"anime\",\n  \"rows\": 5,\n  \"fields\": [\n    {\n      \"column\": \"anime_id\",\n      \"properties\": {\n        \"dtype\": \"number\",\n        \"std\": 14515,\n        \"min\": 1543,\n        \"max\": 33124,\n        \"num_unique_values\": 5,\n        \"samples\": [\n          15843,\n          33124,\n          29956\n        ],\n        \"semantic_type\": \"\",\n        \"description\": \"\"\n      }\n    },\n    {\n      \"column\": \"name\",\n      \"properties\": {\n        \"dtype\": \"string\",\n        \"num_unique_values\": 5,\n        \"samples\": [\n          \"Koiito Kinenbi The Animation\",\n          \"Wakuwaku\\u2665Nukegake Daisakusen\",\n          \"Swimming\"\n        ],\n        \"semantic_type\": \"\",\n        \"description\": \"\"\n      }\n    },\n    {\n      \"column\": \"genre\",\n      \"properties\": {\n        \"dtype\": \"string\",\n        \"num_unique_values\": 5,\n        \"samples\": [\n          \"Hentai\",\n          \"Cars, Music\",\n          \"Dementia\"\n        ],\n        \"semantic_type\": \"\",\n        \"description\": \"\"\n      }\n    },\n    {\n      \"column\": \"type\",\n      \"properties\": {\n        \"dtype\": \"string\",\n        \"num_unique_values\": 4,\n        \"samples\": [\n          \"OVA\",\n          \"Music\",\n          \"TV\"\n        ],\n        \"semantic_type\": \"\",\n        \"description\": \"\"\n      }\n    },\n    {\n      \"column\": \"episodes\",\n      \"properties\": {\n        \"dtype\": \"string\",\n        \"num_unique_values\": 3,\n        \"samples\": [\n          \"12\",\n          \"2\",\n          \"1\"\n        ],\n        \"semantic_type\": \"\",\n        \"description\": \"\"\n      }\n    },\n    {\n      \"column\": \"rating\",\n      \"properties\": {\n        \"dtype\": \"number\",\n        \"std\": 1.4244191798764856,\n        \"min\": 4.2,\n        \"max\": 7.75,\n        \"num_unique_values\": 5,\n        \"samples\": [\n          7.75,\n          4.2,\n          5.45\n        ],\n        \"semantic_type\": \"\",\n        \"description\": \"\"\n      }\n    },\n    {\n      \"column\": \"members\",\n      \"properties\": {\n        \"dtype\": \"number\",\n        \"std\": 9805,\n        \"min\": 59,\n        \"max\": 22770,\n        \"num_unique_values\": 5,\n        \"samples\": [\n          6940,\n          59,\n          125\n        ],\n        \"semantic_type\": \"\",\n        \"description\": \"\"\n      }\n    }\n  ]\n}"
            }
          },
          "metadata": {},
          "execution_count": 8
        }
      ]
    },
    {
      "cell_type": "markdown",
      "source": [
        "dari sample di atas kita dapat mendapat informasi bahwa genre dari anime bisa lebih dari 1 dan masing-masing di pisa oleh tanda koma, dan kemudian rating di sini cukup beragam di karekana bentuknya yang float"
      ],
      "metadata": {
        "id": "uJ6Ct2b6xVyU"
      }
    },
    {
      "cell_type": "markdown",
      "source": [
        "mari kita lakukan hal yanng sama pada dataset rating, di mulai dari tipe data kolomnya"
      ],
      "metadata": {
        "id": "hqMxA1eFxqS7"
      }
    },
    {
      "cell_type": "code",
      "source": [
        "rating.info()"
      ],
      "metadata": {
        "colab": {
          "base_uri": "https://localhost:8080/"
        },
        "id": "fiENFfwnwGYR",
        "outputId": "43138b5c-825d-43b7-f1b9-80099a4ef176"
      },
      "execution_count": 9,
      "outputs": [
        {
          "output_type": "stream",
          "name": "stdout",
          "text": [
            "<class 'pandas.core.frame.DataFrame'>\n",
            "RangeIndex: 7813737 entries, 0 to 7813736\n",
            "Data columns (total 3 columns):\n",
            " #   Column    Dtype\n",
            "---  ------    -----\n",
            " 0   user_id   int64\n",
            " 1   anime_id  int64\n",
            " 2   rating    int64\n",
            "dtypes: int64(3)\n",
            "memory usage: 178.8 MB\n"
          ]
        }
      ]
    },
    {
      "cell_type": "markdown",
      "source": [
        "semua kolom dari rating bertipe integer, kolom rating pada rating juga berbentuk integer berbeda dengan rating yang ada di dataset anime yang berbentuk float. pada rating tidak muncul jumlah kolom, ini artinya jumlah kolomnya relatif sama"
      ],
      "metadata": {
        "id": "bV1Y3CB2xwJ3"
      }
    },
    {
      "cell_type": "markdown",
      "source": [
        "mari kita lihat juga beberapa sample datanya"
      ],
      "metadata": {
        "id": "sloVlmXbx-Au"
      }
    },
    {
      "cell_type": "code",
      "source": [
        "rating.sample(3)"
      ],
      "metadata": {
        "colab": {
          "base_uri": "https://localhost:8080/",
          "height": 143
        },
        "id": "POiI08xVwUW7",
        "outputId": "ecb96557-f4bf-41d0-eb95-389818c01090"
      },
      "execution_count": 10,
      "outputs": [
        {
          "output_type": "execute_result",
          "data": {
            "text/plain": [
              "         user_id  anime_id  rating\n",
              "410229      4216     20853       7\n",
              "2148909    20793      1696       7\n",
              "7457432    69604     11757       7"
            ],
            "text/html": [
              "\n",
              "  <div id=\"df-daabfdc5-4b7d-4381-ac97-82745c7d5269\" class=\"colab-df-container\">\n",
              "    <div>\n",
              "<style scoped>\n",
              "    .dataframe tbody tr th:only-of-type {\n",
              "        vertical-align: middle;\n",
              "    }\n",
              "\n",
              "    .dataframe tbody tr th {\n",
              "        vertical-align: top;\n",
              "    }\n",
              "\n",
              "    .dataframe thead th {\n",
              "        text-align: right;\n",
              "    }\n",
              "</style>\n",
              "<table border=\"1\" class=\"dataframe\">\n",
              "  <thead>\n",
              "    <tr style=\"text-align: right;\">\n",
              "      <th></th>\n",
              "      <th>user_id</th>\n",
              "      <th>anime_id</th>\n",
              "      <th>rating</th>\n",
              "    </tr>\n",
              "  </thead>\n",
              "  <tbody>\n",
              "    <tr>\n",
              "      <th>410229</th>\n",
              "      <td>4216</td>\n",
              "      <td>20853</td>\n",
              "      <td>7</td>\n",
              "    </tr>\n",
              "    <tr>\n",
              "      <th>2148909</th>\n",
              "      <td>20793</td>\n",
              "      <td>1696</td>\n",
              "      <td>7</td>\n",
              "    </tr>\n",
              "    <tr>\n",
              "      <th>7457432</th>\n",
              "      <td>69604</td>\n",
              "      <td>11757</td>\n",
              "      <td>7</td>\n",
              "    </tr>\n",
              "  </tbody>\n",
              "</table>\n",
              "</div>\n",
              "    <div class=\"colab-df-buttons\">\n",
              "\n",
              "  <div class=\"colab-df-container\">\n",
              "    <button class=\"colab-df-convert\" onclick=\"convertToInteractive('df-daabfdc5-4b7d-4381-ac97-82745c7d5269')\"\n",
              "            title=\"Convert this dataframe to an interactive table.\"\n",
              "            style=\"display:none;\">\n",
              "\n",
              "  <svg xmlns=\"http://www.w3.org/2000/svg\" height=\"24px\" viewBox=\"0 -960 960 960\">\n",
              "    <path d=\"M120-120v-720h720v720H120Zm60-500h600v-160H180v160Zm220 220h160v-160H400v160Zm0 220h160v-160H400v160ZM180-400h160v-160H180v160Zm440 0h160v-160H620v160ZM180-180h160v-160H180v160Zm440 0h160v-160H620v160Z\"/>\n",
              "  </svg>\n",
              "    </button>\n",
              "\n",
              "  <style>\n",
              "    .colab-df-container {\n",
              "      display:flex;\n",
              "      gap: 12px;\n",
              "    }\n",
              "\n",
              "    .colab-df-convert {\n",
              "      background-color: #E8F0FE;\n",
              "      border: none;\n",
              "      border-radius: 50%;\n",
              "      cursor: pointer;\n",
              "      display: none;\n",
              "      fill: #1967D2;\n",
              "      height: 32px;\n",
              "      padding: 0 0 0 0;\n",
              "      width: 32px;\n",
              "    }\n",
              "\n",
              "    .colab-df-convert:hover {\n",
              "      background-color: #E2EBFA;\n",
              "      box-shadow: 0px 1px 2px rgba(60, 64, 67, 0.3), 0px 1px 3px 1px rgba(60, 64, 67, 0.15);\n",
              "      fill: #174EA6;\n",
              "    }\n",
              "\n",
              "    .colab-df-buttons div {\n",
              "      margin-bottom: 4px;\n",
              "    }\n",
              "\n",
              "    [theme=dark] .colab-df-convert {\n",
              "      background-color: #3B4455;\n",
              "      fill: #D2E3FC;\n",
              "    }\n",
              "\n",
              "    [theme=dark] .colab-df-convert:hover {\n",
              "      background-color: #434B5C;\n",
              "      box-shadow: 0px 1px 3px 1px rgba(0, 0, 0, 0.15);\n",
              "      filter: drop-shadow(0px 1px 2px rgba(0, 0, 0, 0.3));\n",
              "      fill: #FFFFFF;\n",
              "    }\n",
              "  </style>\n",
              "\n",
              "    <script>\n",
              "      const buttonEl =\n",
              "        document.querySelector('#df-daabfdc5-4b7d-4381-ac97-82745c7d5269 button.colab-df-convert');\n",
              "      buttonEl.style.display =\n",
              "        google.colab.kernel.accessAllowed ? 'block' : 'none';\n",
              "\n",
              "      async function convertToInteractive(key) {\n",
              "        const element = document.querySelector('#df-daabfdc5-4b7d-4381-ac97-82745c7d5269');\n",
              "        const dataTable =\n",
              "          await google.colab.kernel.invokeFunction('convertToInteractive',\n",
              "                                                    [key], {});\n",
              "        if (!dataTable) return;\n",
              "\n",
              "        const docLinkHtml = 'Like what you see? Visit the ' +\n",
              "          '<a target=\"_blank\" href=https://colab.research.google.com/notebooks/data_table.ipynb>data table notebook</a>'\n",
              "          + ' to learn more about interactive tables.';\n",
              "        element.innerHTML = '';\n",
              "        dataTable['output_type'] = 'display_data';\n",
              "        await google.colab.output.renderOutput(dataTable, element);\n",
              "        const docLink = document.createElement('div');\n",
              "        docLink.innerHTML = docLinkHtml;\n",
              "        element.appendChild(docLink);\n",
              "      }\n",
              "    </script>\n",
              "  </div>\n",
              "\n",
              "\n",
              "    <div id=\"df-5172361b-f553-4374-a67a-910fc8f7ca46\">\n",
              "      <button class=\"colab-df-quickchart\" onclick=\"quickchart('df-5172361b-f553-4374-a67a-910fc8f7ca46')\"\n",
              "                title=\"Suggest charts\"\n",
              "                style=\"display:none;\">\n",
              "\n",
              "<svg xmlns=\"http://www.w3.org/2000/svg\" height=\"24px\"viewBox=\"0 0 24 24\"\n",
              "     width=\"24px\">\n",
              "    <g>\n",
              "        <path d=\"M19 3H5c-1.1 0-2 .9-2 2v14c0 1.1.9 2 2 2h14c1.1 0 2-.9 2-2V5c0-1.1-.9-2-2-2zM9 17H7v-7h2v7zm4 0h-2V7h2v10zm4 0h-2v-4h2v4z\"/>\n",
              "    </g>\n",
              "</svg>\n",
              "      </button>\n",
              "\n",
              "<style>\n",
              "  .colab-df-quickchart {\n",
              "      --bg-color: #E8F0FE;\n",
              "      --fill-color: #1967D2;\n",
              "      --hover-bg-color: #E2EBFA;\n",
              "      --hover-fill-color: #174EA6;\n",
              "      --disabled-fill-color: #AAA;\n",
              "      --disabled-bg-color: #DDD;\n",
              "  }\n",
              "\n",
              "  [theme=dark] .colab-df-quickchart {\n",
              "      --bg-color: #3B4455;\n",
              "      --fill-color: #D2E3FC;\n",
              "      --hover-bg-color: #434B5C;\n",
              "      --hover-fill-color: #FFFFFF;\n",
              "      --disabled-bg-color: #3B4455;\n",
              "      --disabled-fill-color: #666;\n",
              "  }\n",
              "\n",
              "  .colab-df-quickchart {\n",
              "    background-color: var(--bg-color);\n",
              "    border: none;\n",
              "    border-radius: 50%;\n",
              "    cursor: pointer;\n",
              "    display: none;\n",
              "    fill: var(--fill-color);\n",
              "    height: 32px;\n",
              "    padding: 0;\n",
              "    width: 32px;\n",
              "  }\n",
              "\n",
              "  .colab-df-quickchart:hover {\n",
              "    background-color: var(--hover-bg-color);\n",
              "    box-shadow: 0 1px 2px rgba(60, 64, 67, 0.3), 0 1px 3px 1px rgba(60, 64, 67, 0.15);\n",
              "    fill: var(--button-hover-fill-color);\n",
              "  }\n",
              "\n",
              "  .colab-df-quickchart-complete:disabled,\n",
              "  .colab-df-quickchart-complete:disabled:hover {\n",
              "    background-color: var(--disabled-bg-color);\n",
              "    fill: var(--disabled-fill-color);\n",
              "    box-shadow: none;\n",
              "  }\n",
              "\n",
              "  .colab-df-spinner {\n",
              "    border: 2px solid var(--fill-color);\n",
              "    border-color: transparent;\n",
              "    border-bottom-color: var(--fill-color);\n",
              "    animation:\n",
              "      spin 1s steps(1) infinite;\n",
              "  }\n",
              "\n",
              "  @keyframes spin {\n",
              "    0% {\n",
              "      border-color: transparent;\n",
              "      border-bottom-color: var(--fill-color);\n",
              "      border-left-color: var(--fill-color);\n",
              "    }\n",
              "    20% {\n",
              "      border-color: transparent;\n",
              "      border-left-color: var(--fill-color);\n",
              "      border-top-color: var(--fill-color);\n",
              "    }\n",
              "    30% {\n",
              "      border-color: transparent;\n",
              "      border-left-color: var(--fill-color);\n",
              "      border-top-color: var(--fill-color);\n",
              "      border-right-color: var(--fill-color);\n",
              "    }\n",
              "    40% {\n",
              "      border-color: transparent;\n",
              "      border-right-color: var(--fill-color);\n",
              "      border-top-color: var(--fill-color);\n",
              "    }\n",
              "    60% {\n",
              "      border-color: transparent;\n",
              "      border-right-color: var(--fill-color);\n",
              "    }\n",
              "    80% {\n",
              "      border-color: transparent;\n",
              "      border-right-color: var(--fill-color);\n",
              "      border-bottom-color: var(--fill-color);\n",
              "    }\n",
              "    90% {\n",
              "      border-color: transparent;\n",
              "      border-bottom-color: var(--fill-color);\n",
              "    }\n",
              "  }\n",
              "</style>\n",
              "\n",
              "      <script>\n",
              "        async function quickchart(key) {\n",
              "          const quickchartButtonEl =\n",
              "            document.querySelector('#' + key + ' button');\n",
              "          quickchartButtonEl.disabled = true;  // To prevent multiple clicks.\n",
              "          quickchartButtonEl.classList.add('colab-df-spinner');\n",
              "          try {\n",
              "            const charts = await google.colab.kernel.invokeFunction(\n",
              "                'suggestCharts', [key], {});\n",
              "          } catch (error) {\n",
              "            console.error('Error during call to suggestCharts:', error);\n",
              "          }\n",
              "          quickchartButtonEl.classList.remove('colab-df-spinner');\n",
              "          quickchartButtonEl.classList.add('colab-df-quickchart-complete');\n",
              "        }\n",
              "        (() => {\n",
              "          let quickchartButtonEl =\n",
              "            document.querySelector('#df-5172361b-f553-4374-a67a-910fc8f7ca46 button');\n",
              "          quickchartButtonEl.style.display =\n",
              "            google.colab.kernel.accessAllowed ? 'block' : 'none';\n",
              "        })();\n",
              "      </script>\n",
              "    </div>\n",
              "\n",
              "    </div>\n",
              "  </div>\n"
            ],
            "application/vnd.google.colaboratory.intrinsic+json": {
              "type": "dataframe",
              "summary": "{\n  \"name\": \"rating\",\n  \"rows\": 3,\n  \"fields\": [\n    {\n      \"column\": \"user_id\",\n      \"properties\": {\n        \"dtype\": \"number\",\n        \"std\": 33992,\n        \"min\": 4216,\n        \"max\": 69604,\n        \"num_unique_values\": 3,\n        \"samples\": [\n          4216,\n          20793,\n          69604\n        ],\n        \"semantic_type\": \"\",\n        \"description\": \"\"\n      }\n    },\n    {\n      \"column\": \"anime_id\",\n      \"properties\": {\n        \"dtype\": \"number\",\n        \"std\": 9582,\n        \"min\": 1696,\n        \"max\": 20853,\n        \"num_unique_values\": 3,\n        \"samples\": [\n          20853,\n          1696,\n          11757\n        ],\n        \"semantic_type\": \"\",\n        \"description\": \"\"\n      }\n    },\n    {\n      \"column\": \"rating\",\n      \"properties\": {\n        \"dtype\": \"number\",\n        \"std\": 0,\n        \"min\": 7,\n        \"max\": 7,\n        \"num_unique_values\": 1,\n        \"samples\": [\n          7\n        ],\n        \"semantic_type\": \"\",\n        \"description\": \"\"\n      }\n    }\n  ]\n}"
            }
          },
          "metadata": {},
          "execution_count": 10
        }
      ]
    },
    {
      "cell_type": "markdown",
      "source": [
        "dari sample ini pada kolom rating terdapat nilai minus, apakah ini outlier? bukan, nilai ini sudah di jelaskan pada informas dataset bahwa nilai -1 menandakan user sudah menonton anime tertentu namun tidak memberikan penilaian"
      ],
      "metadata": {
        "id": "a6KYJ43myH-o"
      }
    },
    {
      "cell_type": "markdown",
      "source": [
        "### **Exploratory Anime**"
      ],
      "metadata": {
        "id": "bB21QgYr26Ca"
      }
    },
    {
      "cell_type": "markdown",
      "source": [
        "pada bagian ini kita akan melakukan eksplorasi pada dataset anime untuk mendapatkan lebih banyak informasi"
      ],
      "metadata": {
        "id": "TaX4bD7byt5L"
      }
    },
    {
      "cell_type": "markdown",
      "source": [
        "kita awali dengan mendapatkan deskripsi statistik singkat datasetnya"
      ],
      "metadata": {
        "id": "mcFfvRMzy0LG"
      }
    },
    {
      "cell_type": "code",
      "source": [
        "anime.describe()"
      ],
      "metadata": {
        "colab": {
          "base_uri": "https://localhost:8080/",
          "height": 300
        },
        "id": "qgTu761T3Ggt",
        "outputId": "07200c9a-ee10-444a-8ac7-852c648db0f8"
      },
      "execution_count": 6,
      "outputs": [
        {
          "output_type": "execute_result",
          "data": {
            "text/plain": [
              "           anime_id        rating       members\n",
              "count  12294.000000  12064.000000  1.229400e+04\n",
              "mean   14058.221653      6.473902  1.807134e+04\n",
              "std    11455.294701      1.026746  5.482068e+04\n",
              "min        1.000000      1.670000  5.000000e+00\n",
              "25%     3484.250000      5.880000  2.250000e+02\n",
              "50%    10260.500000      6.570000  1.550000e+03\n",
              "75%    24794.500000      7.180000  9.437000e+03\n",
              "max    34527.000000     10.000000  1.013917e+06"
            ],
            "text/html": [
              "\n",
              "  <div id=\"df-cc7393c6-a8a1-42d2-932f-996aa46c5325\" class=\"colab-df-container\">\n",
              "    <div>\n",
              "<style scoped>\n",
              "    .dataframe tbody tr th:only-of-type {\n",
              "        vertical-align: middle;\n",
              "    }\n",
              "\n",
              "    .dataframe tbody tr th {\n",
              "        vertical-align: top;\n",
              "    }\n",
              "\n",
              "    .dataframe thead th {\n",
              "        text-align: right;\n",
              "    }\n",
              "</style>\n",
              "<table border=\"1\" class=\"dataframe\">\n",
              "  <thead>\n",
              "    <tr style=\"text-align: right;\">\n",
              "      <th></th>\n",
              "      <th>anime_id</th>\n",
              "      <th>rating</th>\n",
              "      <th>members</th>\n",
              "    </tr>\n",
              "  </thead>\n",
              "  <tbody>\n",
              "    <tr>\n",
              "      <th>count</th>\n",
              "      <td>12294.000000</td>\n",
              "      <td>12064.000000</td>\n",
              "      <td>1.229400e+04</td>\n",
              "    </tr>\n",
              "    <tr>\n",
              "      <th>mean</th>\n",
              "      <td>14058.221653</td>\n",
              "      <td>6.473902</td>\n",
              "      <td>1.807134e+04</td>\n",
              "    </tr>\n",
              "    <tr>\n",
              "      <th>std</th>\n",
              "      <td>11455.294701</td>\n",
              "      <td>1.026746</td>\n",
              "      <td>5.482068e+04</td>\n",
              "    </tr>\n",
              "    <tr>\n",
              "      <th>min</th>\n",
              "      <td>1.000000</td>\n",
              "      <td>1.670000</td>\n",
              "      <td>5.000000e+00</td>\n",
              "    </tr>\n",
              "    <tr>\n",
              "      <th>25%</th>\n",
              "      <td>3484.250000</td>\n",
              "      <td>5.880000</td>\n",
              "      <td>2.250000e+02</td>\n",
              "    </tr>\n",
              "    <tr>\n",
              "      <th>50%</th>\n",
              "      <td>10260.500000</td>\n",
              "      <td>6.570000</td>\n",
              "      <td>1.550000e+03</td>\n",
              "    </tr>\n",
              "    <tr>\n",
              "      <th>75%</th>\n",
              "      <td>24794.500000</td>\n",
              "      <td>7.180000</td>\n",
              "      <td>9.437000e+03</td>\n",
              "    </tr>\n",
              "    <tr>\n",
              "      <th>max</th>\n",
              "      <td>34527.000000</td>\n",
              "      <td>10.000000</td>\n",
              "      <td>1.013917e+06</td>\n",
              "    </tr>\n",
              "  </tbody>\n",
              "</table>\n",
              "</div>\n",
              "    <div class=\"colab-df-buttons\">\n",
              "\n",
              "  <div class=\"colab-df-container\">\n",
              "    <button class=\"colab-df-convert\" onclick=\"convertToInteractive('df-cc7393c6-a8a1-42d2-932f-996aa46c5325')\"\n",
              "            title=\"Convert this dataframe to an interactive table.\"\n",
              "            style=\"display:none;\">\n",
              "\n",
              "  <svg xmlns=\"http://www.w3.org/2000/svg\" height=\"24px\" viewBox=\"0 -960 960 960\">\n",
              "    <path d=\"M120-120v-720h720v720H120Zm60-500h600v-160H180v160Zm220 220h160v-160H400v160Zm0 220h160v-160H400v160ZM180-400h160v-160H180v160Zm440 0h160v-160H620v160ZM180-180h160v-160H180v160Zm440 0h160v-160H620v160Z\"/>\n",
              "  </svg>\n",
              "    </button>\n",
              "\n",
              "  <style>\n",
              "    .colab-df-container {\n",
              "      display:flex;\n",
              "      gap: 12px;\n",
              "    }\n",
              "\n",
              "    .colab-df-convert {\n",
              "      background-color: #E8F0FE;\n",
              "      border: none;\n",
              "      border-radius: 50%;\n",
              "      cursor: pointer;\n",
              "      display: none;\n",
              "      fill: #1967D2;\n",
              "      height: 32px;\n",
              "      padding: 0 0 0 0;\n",
              "      width: 32px;\n",
              "    }\n",
              "\n",
              "    .colab-df-convert:hover {\n",
              "      background-color: #E2EBFA;\n",
              "      box-shadow: 0px 1px 2px rgba(60, 64, 67, 0.3), 0px 1px 3px 1px rgba(60, 64, 67, 0.15);\n",
              "      fill: #174EA6;\n",
              "    }\n",
              "\n",
              "    .colab-df-buttons div {\n",
              "      margin-bottom: 4px;\n",
              "    }\n",
              "\n",
              "    [theme=dark] .colab-df-convert {\n",
              "      background-color: #3B4455;\n",
              "      fill: #D2E3FC;\n",
              "    }\n",
              "\n",
              "    [theme=dark] .colab-df-convert:hover {\n",
              "      background-color: #434B5C;\n",
              "      box-shadow: 0px 1px 3px 1px rgba(0, 0, 0, 0.15);\n",
              "      filter: drop-shadow(0px 1px 2px rgba(0, 0, 0, 0.3));\n",
              "      fill: #FFFFFF;\n",
              "    }\n",
              "  </style>\n",
              "\n",
              "    <script>\n",
              "      const buttonEl =\n",
              "        document.querySelector('#df-cc7393c6-a8a1-42d2-932f-996aa46c5325 button.colab-df-convert');\n",
              "      buttonEl.style.display =\n",
              "        google.colab.kernel.accessAllowed ? 'block' : 'none';\n",
              "\n",
              "      async function convertToInteractive(key) {\n",
              "        const element = document.querySelector('#df-cc7393c6-a8a1-42d2-932f-996aa46c5325');\n",
              "        const dataTable =\n",
              "          await google.colab.kernel.invokeFunction('convertToInteractive',\n",
              "                                                    [key], {});\n",
              "        if (!dataTable) return;\n",
              "\n",
              "        const docLinkHtml = 'Like what you see? Visit the ' +\n",
              "          '<a target=\"_blank\" href=https://colab.research.google.com/notebooks/data_table.ipynb>data table notebook</a>'\n",
              "          + ' to learn more about interactive tables.';\n",
              "        element.innerHTML = '';\n",
              "        dataTable['output_type'] = 'display_data';\n",
              "        await google.colab.output.renderOutput(dataTable, element);\n",
              "        const docLink = document.createElement('div');\n",
              "        docLink.innerHTML = docLinkHtml;\n",
              "        element.appendChild(docLink);\n",
              "      }\n",
              "    </script>\n",
              "  </div>\n",
              "\n",
              "\n",
              "    <div id=\"df-98c32a44-627e-4409-9844-c3188144d9b6\">\n",
              "      <button class=\"colab-df-quickchart\" onclick=\"quickchart('df-98c32a44-627e-4409-9844-c3188144d9b6')\"\n",
              "                title=\"Suggest charts\"\n",
              "                style=\"display:none;\">\n",
              "\n",
              "<svg xmlns=\"http://www.w3.org/2000/svg\" height=\"24px\"viewBox=\"0 0 24 24\"\n",
              "     width=\"24px\">\n",
              "    <g>\n",
              "        <path d=\"M19 3H5c-1.1 0-2 .9-2 2v14c0 1.1.9 2 2 2h14c1.1 0 2-.9 2-2V5c0-1.1-.9-2-2-2zM9 17H7v-7h2v7zm4 0h-2V7h2v10zm4 0h-2v-4h2v4z\"/>\n",
              "    </g>\n",
              "</svg>\n",
              "      </button>\n",
              "\n",
              "<style>\n",
              "  .colab-df-quickchart {\n",
              "      --bg-color: #E8F0FE;\n",
              "      --fill-color: #1967D2;\n",
              "      --hover-bg-color: #E2EBFA;\n",
              "      --hover-fill-color: #174EA6;\n",
              "      --disabled-fill-color: #AAA;\n",
              "      --disabled-bg-color: #DDD;\n",
              "  }\n",
              "\n",
              "  [theme=dark] .colab-df-quickchart {\n",
              "      --bg-color: #3B4455;\n",
              "      --fill-color: #D2E3FC;\n",
              "      --hover-bg-color: #434B5C;\n",
              "      --hover-fill-color: #FFFFFF;\n",
              "      --disabled-bg-color: #3B4455;\n",
              "      --disabled-fill-color: #666;\n",
              "  }\n",
              "\n",
              "  .colab-df-quickchart {\n",
              "    background-color: var(--bg-color);\n",
              "    border: none;\n",
              "    border-radius: 50%;\n",
              "    cursor: pointer;\n",
              "    display: none;\n",
              "    fill: var(--fill-color);\n",
              "    height: 32px;\n",
              "    padding: 0;\n",
              "    width: 32px;\n",
              "  }\n",
              "\n",
              "  .colab-df-quickchart:hover {\n",
              "    background-color: var(--hover-bg-color);\n",
              "    box-shadow: 0 1px 2px rgba(60, 64, 67, 0.3), 0 1px 3px 1px rgba(60, 64, 67, 0.15);\n",
              "    fill: var(--button-hover-fill-color);\n",
              "  }\n",
              "\n",
              "  .colab-df-quickchart-complete:disabled,\n",
              "  .colab-df-quickchart-complete:disabled:hover {\n",
              "    background-color: var(--disabled-bg-color);\n",
              "    fill: var(--disabled-fill-color);\n",
              "    box-shadow: none;\n",
              "  }\n",
              "\n",
              "  .colab-df-spinner {\n",
              "    border: 2px solid var(--fill-color);\n",
              "    border-color: transparent;\n",
              "    border-bottom-color: var(--fill-color);\n",
              "    animation:\n",
              "      spin 1s steps(1) infinite;\n",
              "  }\n",
              "\n",
              "  @keyframes spin {\n",
              "    0% {\n",
              "      border-color: transparent;\n",
              "      border-bottom-color: var(--fill-color);\n",
              "      border-left-color: var(--fill-color);\n",
              "    }\n",
              "    20% {\n",
              "      border-color: transparent;\n",
              "      border-left-color: var(--fill-color);\n",
              "      border-top-color: var(--fill-color);\n",
              "    }\n",
              "    30% {\n",
              "      border-color: transparent;\n",
              "      border-left-color: var(--fill-color);\n",
              "      border-top-color: var(--fill-color);\n",
              "      border-right-color: var(--fill-color);\n",
              "    }\n",
              "    40% {\n",
              "      border-color: transparent;\n",
              "      border-right-color: var(--fill-color);\n",
              "      border-top-color: var(--fill-color);\n",
              "    }\n",
              "    60% {\n",
              "      border-color: transparent;\n",
              "      border-right-color: var(--fill-color);\n",
              "    }\n",
              "    80% {\n",
              "      border-color: transparent;\n",
              "      border-right-color: var(--fill-color);\n",
              "      border-bottom-color: var(--fill-color);\n",
              "    }\n",
              "    90% {\n",
              "      border-color: transparent;\n",
              "      border-bottom-color: var(--fill-color);\n",
              "    }\n",
              "  }\n",
              "</style>\n",
              "\n",
              "      <script>\n",
              "        async function quickchart(key) {\n",
              "          const quickchartButtonEl =\n",
              "            document.querySelector('#' + key + ' button');\n",
              "          quickchartButtonEl.disabled = true;  // To prevent multiple clicks.\n",
              "          quickchartButtonEl.classList.add('colab-df-spinner');\n",
              "          try {\n",
              "            const charts = await google.colab.kernel.invokeFunction(\n",
              "                'suggestCharts', [key], {});\n",
              "          } catch (error) {\n",
              "            console.error('Error during call to suggestCharts:', error);\n",
              "          }\n",
              "          quickchartButtonEl.classList.remove('colab-df-spinner');\n",
              "          quickchartButtonEl.classList.add('colab-df-quickchart-complete');\n",
              "        }\n",
              "        (() => {\n",
              "          let quickchartButtonEl =\n",
              "            document.querySelector('#df-98c32a44-627e-4409-9844-c3188144d9b6 button');\n",
              "          quickchartButtonEl.style.display =\n",
              "            google.colab.kernel.accessAllowed ? 'block' : 'none';\n",
              "        })();\n",
              "      </script>\n",
              "    </div>\n",
              "\n",
              "    </div>\n",
              "  </div>\n"
            ],
            "application/vnd.google.colaboratory.intrinsic+json": {
              "type": "dataframe",
              "summary": "{\n  \"name\": \"anime\",\n  \"rows\": 8,\n  \"fields\": [\n    {\n      \"column\": \"anime_id\",\n      \"properties\": {\n        \"dtype\": \"number\",\n        \"std\": 11133.263547568791,\n        \"min\": 1.0,\n        \"max\": 34527.0,\n        \"num_unique_values\": 8,\n        \"samples\": [\n          14058.221652838783,\n          10260.5,\n          12294.0\n        ],\n        \"semantic_type\": \"\",\n        \"description\": \"\"\n      }\n    },\n    {\n      \"column\": \"rating\",\n      \"properties\": {\n        \"dtype\": \"number\",\n        \"std\": 4263.309380308144,\n        \"min\": 1.0267463068980598,\n        \"max\": 12064.0,\n        \"num_unique_values\": 8,\n        \"samples\": [\n          6.473901690981432,\n          6.57,\n          12064.0\n        ],\n        \"semantic_type\": \"\",\n        \"description\": \"\"\n      }\n    },\n    {\n      \"column\": \"members\",\n      \"properties\": {\n        \"dtype\": \"number\",\n        \"std\": 354058.2878098787,\n        \"min\": 5.0,\n        \"max\": 1013917.0,\n        \"num_unique_values\": 8,\n        \"samples\": [\n          18071.33886448674,\n          1550.0,\n          12294.0\n        ],\n        \"semantic_type\": \"\",\n        \"description\": \"\"\n      }\n    }\n  ]\n}"
            }
          },
          "metadata": {},
          "execution_count": 6
        }
      ]
    },
    {
      "cell_type": "markdown",
      "source": [
        "dari output di atas maka kita mendapatkan informasi\n",
        "\n",
        "1. `anime_id`: Rentang ID anime dari 1 hingga 34,527, dengan variasi yang sangat besar.\n",
        "2. `rating`: Rentang rating dari 1.67 hingga 10, mayoritas anime memiliki rating antara 5 hingga 7.\n",
        "3. `members`: Rentang jumlah anggota dari 5 hingga 1,013,917, dengan mayoritas anime memiliki komunitas yang lebih kecil (dibawah 9,437 anggota)."
      ],
      "metadata": {
        "id": "ZYZ9IpX_y82z"
      }
    },
    {
      "cell_type": "markdown",
      "source": [
        "sekarang kita akan melihat rentang episode anime yang ada pada dataset degan fungsi `unique()` dan `len()` untuk mendapatkan jumlah"
      ],
      "metadata": {
        "id": "eiB9lbyjzZdi"
      }
    },
    {
      "cell_type": "code",
      "source": [
        "anime['episodes'].unique()"
      ],
      "metadata": {
        "colab": {
          "base_uri": "https://localhost:8080/"
        },
        "id": "1Rl7cGzBJjtc",
        "outputId": "f4ec43be-4a94-4e39-f8ed-9e208f5c60cf"
      },
      "execution_count": null,
      "outputs": [
        {
          "output_type": "execute_result",
          "data": {
            "text/plain": [
              "array(['1', '64', '51', '24', '10', '148', '110', '13', '201', '25', '22',\n",
              "       '75', '4', '26', '12', '27', '43', '74', '37', '2', '11', '99',\n",
              "       'Unknown', '39', '101', '47', '50', '62', '33', '112', '23', '3',\n",
              "       '94', '6', '8', '14', '7', '40', '15', '203', '77', '291', '120',\n",
              "       '102', '96', '38', '79', '175', '103', '70', '153', '45', '5',\n",
              "       '21', '63', '52', '28', '145', '36', '69', '60', '178', '114',\n",
              "       '35', '61', '34', '109', '20', '9', '49', '366', '97', '48', '78',\n",
              "       '358', '155', '104', '113', '54', '167', '161', '42', '142', '31',\n",
              "       '373', '220', '46', '195', '17', '1787', '73', '147', '127', '16',\n",
              "       '19', '98', '150', '76', '53', '124', '29', '115', '224', '44',\n",
              "       '58', '93', '154', '92', '67', '172', '86', '30', '276', '59',\n",
              "       '72', '330', '41', '105', '128', '137', '56', '55', '65', '243',\n",
              "       '193', '18', '191', '180', '91', '192', '66', '182', '32', '164',\n",
              "       '100', '296', '694', '95', '68', '117', '151', '130', '87', '170',\n",
              "       '119', '84', '108', '156', '140', '331', '305', '300', '510',\n",
              "       '200', '88', '1471', '526', '143', '726', '136', '1818', '237',\n",
              "       '1428', '365', '163', '283', '71', '260', '199', '225', '312',\n",
              "       '240', '1306', '1565', '773', '1274', '90', '475', '263', '83',\n",
              "       '85', '1006', '80', '162', '132', '141', '125'], dtype=object)"
            ]
          },
          "metadata": {},
          "execution_count": 64
        }
      ]
    },
    {
      "cell_type": "code",
      "source": [
        "len(anime['episodes'].unique())"
      ],
      "metadata": {
        "colab": {
          "base_uri": "https://localhost:8080/"
        },
        "id": "7nlt56_tJnR_",
        "outputId": "bb56ceed-90f7-469a-878e-2a6751b49b6a"
      },
      "execution_count": null,
      "outputs": [
        {
          "output_type": "execute_result",
          "data": {
            "text/plain": [
              "187"
            ]
          },
          "metadata": {},
          "execution_count": 65
        }
      ]
    },
    {
      "cell_type": "markdown",
      "source": [
        "dari kedua output di atas meunjukkan rentang acak dari episode yang ada dan totalnya ada 187 episode berbeda, untuk mengetahui rentangnya lebih detail kita akan membuat kolom baru untuk episode dengan tipe data integer untuk memudahkan proses eksplorasi"
      ],
      "metadata": {
        "id": "N644ZNSL0DJW"
      }
    },
    {
      "cell_type": "code",
      "source": [
        "# Membuat kolom baru 'episodes_int' dengan tipe data int\n",
        "anime['episodes_int'] = pd.to_numeric(anime['episodes'], errors='coerce').astype('Int64')\n",
        "\n",
        "# Menampilkan tipe data dari kolom baru\n",
        "print(anime['episodes_int'].dtype)"
      ],
      "metadata": {
        "colab": {
          "base_uri": "https://localhost:8080/"
        },
        "id": "qWfRytre0dS3",
        "outputId": "a2cf3e41-5d39-4323-bde7-eb3774020730"
      },
      "execution_count": 11,
      "outputs": [
        {
          "output_type": "stream",
          "name": "stdout",
          "text": [
            "Int64\n"
          ]
        }
      ]
    },
    {
      "cell_type": "markdown",
      "source": [
        "pda kode di atas kita sudah berhasil membuat kolom baru bernama `episodes_int` yang berisi data episode sebelumnya namun dengan tipe data Integer"
      ],
      "metadata": {
        "id": "9TRDwrc100tY"
      }
    },
    {
      "cell_type": "code",
      "source": [
        "print('episode terkecil :', np.min(anime['episodes_int']))\n",
        "print('episode terbesar :', np.max(anime['episodes_int']))"
      ],
      "metadata": {
        "colab": {
          "base_uri": "https://localhost:8080/"
        },
        "id": "56aHRfGd0qMy",
        "outputId": "77d0a09f-6bbc-4140-b7de-9611c357fde0"
      },
      "execution_count": 16,
      "outputs": [
        {
          "output_type": "stream",
          "name": "stdout",
          "text": [
            "episode terkecil : 1\n",
            "episode terbesar : 1818\n"
          ]
        }
      ]
    },
    {
      "cell_type": "markdown",
      "source": [
        "dari output di atas kita mendapatkan informasi bahwa episode anime terpendek adalah 1 dan terpanjang adalah 1818, anime dengan 1 episode ini kemungkinan besar anime movie seperti yang telah di jelaskan di atas, nah sementara anime trpanjang ini anime apa kira kira? untuk mengetahui judul animenya kita bisa menggunakan kode di bawah ini:"
      ],
      "metadata": {
        "id": "lgPWJfLo5zN6"
      }
    },
    {
      "cell_type": "code",
      "source": [
        "anime[anime['episodes_int'] == 1818]"
      ],
      "metadata": {
        "colab": {
          "base_uri": "https://localhost:8080/",
          "height": 81
        },
        "id": "kYUaf06t3yB0",
        "outputId": "4426bbb3-a037-4fcd-870d-4feeccd0dab1"
      },
      "execution_count": 18,
      "outputs": [
        {
          "output_type": "execute_result",
          "data": {
            "text/plain": [
              "      anime_id        name                  genre type episodes  rating  \\\n",
              "6296     12393  Oyako Club  Comedy, Slice of Life   TV     1818    6.18   \n",
              "\n",
              "      members  episodes_int  \n",
              "6296      160          1818  "
            ],
            "text/html": [
              "\n",
              "  <div id=\"df-d333cd9e-29f1-4aac-bf2d-cce9517684ad\" class=\"colab-df-container\">\n",
              "    <div>\n",
              "<style scoped>\n",
              "    .dataframe tbody tr th:only-of-type {\n",
              "        vertical-align: middle;\n",
              "    }\n",
              "\n",
              "    .dataframe tbody tr th {\n",
              "        vertical-align: top;\n",
              "    }\n",
              "\n",
              "    .dataframe thead th {\n",
              "        text-align: right;\n",
              "    }\n",
              "</style>\n",
              "<table border=\"1\" class=\"dataframe\">\n",
              "  <thead>\n",
              "    <tr style=\"text-align: right;\">\n",
              "      <th></th>\n",
              "      <th>anime_id</th>\n",
              "      <th>name</th>\n",
              "      <th>genre</th>\n",
              "      <th>type</th>\n",
              "      <th>episodes</th>\n",
              "      <th>rating</th>\n",
              "      <th>members</th>\n",
              "      <th>episodes_int</th>\n",
              "    </tr>\n",
              "  </thead>\n",
              "  <tbody>\n",
              "    <tr>\n",
              "      <th>6296</th>\n",
              "      <td>12393</td>\n",
              "      <td>Oyako Club</td>\n",
              "      <td>Comedy, Slice of Life</td>\n",
              "      <td>TV</td>\n",
              "      <td>1818</td>\n",
              "      <td>6.18</td>\n",
              "      <td>160</td>\n",
              "      <td>1818</td>\n",
              "    </tr>\n",
              "  </tbody>\n",
              "</table>\n",
              "</div>\n",
              "    <div class=\"colab-df-buttons\">\n",
              "\n",
              "  <div class=\"colab-df-container\">\n",
              "    <button class=\"colab-df-convert\" onclick=\"convertToInteractive('df-d333cd9e-29f1-4aac-bf2d-cce9517684ad')\"\n",
              "            title=\"Convert this dataframe to an interactive table.\"\n",
              "            style=\"display:none;\">\n",
              "\n",
              "  <svg xmlns=\"http://www.w3.org/2000/svg\" height=\"24px\" viewBox=\"0 -960 960 960\">\n",
              "    <path d=\"M120-120v-720h720v720H120Zm60-500h600v-160H180v160Zm220 220h160v-160H400v160Zm0 220h160v-160H400v160ZM180-400h160v-160H180v160Zm440 0h160v-160H620v160ZM180-180h160v-160H180v160Zm440 0h160v-160H620v160Z\"/>\n",
              "  </svg>\n",
              "    </button>\n",
              "\n",
              "  <style>\n",
              "    .colab-df-container {\n",
              "      display:flex;\n",
              "      gap: 12px;\n",
              "    }\n",
              "\n",
              "    .colab-df-convert {\n",
              "      background-color: #E8F0FE;\n",
              "      border: none;\n",
              "      border-radius: 50%;\n",
              "      cursor: pointer;\n",
              "      display: none;\n",
              "      fill: #1967D2;\n",
              "      height: 32px;\n",
              "      padding: 0 0 0 0;\n",
              "      width: 32px;\n",
              "    }\n",
              "\n",
              "    .colab-df-convert:hover {\n",
              "      background-color: #E2EBFA;\n",
              "      box-shadow: 0px 1px 2px rgba(60, 64, 67, 0.3), 0px 1px 3px 1px rgba(60, 64, 67, 0.15);\n",
              "      fill: #174EA6;\n",
              "    }\n",
              "\n",
              "    .colab-df-buttons div {\n",
              "      margin-bottom: 4px;\n",
              "    }\n",
              "\n",
              "    [theme=dark] .colab-df-convert {\n",
              "      background-color: #3B4455;\n",
              "      fill: #D2E3FC;\n",
              "    }\n",
              "\n",
              "    [theme=dark] .colab-df-convert:hover {\n",
              "      background-color: #434B5C;\n",
              "      box-shadow: 0px 1px 3px 1px rgba(0, 0, 0, 0.15);\n",
              "      filter: drop-shadow(0px 1px 2px rgba(0, 0, 0, 0.3));\n",
              "      fill: #FFFFFF;\n",
              "    }\n",
              "  </style>\n",
              "\n",
              "    <script>\n",
              "      const buttonEl =\n",
              "        document.querySelector('#df-d333cd9e-29f1-4aac-bf2d-cce9517684ad button.colab-df-convert');\n",
              "      buttonEl.style.display =\n",
              "        google.colab.kernel.accessAllowed ? 'block' : 'none';\n",
              "\n",
              "      async function convertToInteractive(key) {\n",
              "        const element = document.querySelector('#df-d333cd9e-29f1-4aac-bf2d-cce9517684ad');\n",
              "        const dataTable =\n",
              "          await google.colab.kernel.invokeFunction('convertToInteractive',\n",
              "                                                    [key], {});\n",
              "        if (!dataTable) return;\n",
              "\n",
              "        const docLinkHtml = 'Like what you see? Visit the ' +\n",
              "          '<a target=\"_blank\" href=https://colab.research.google.com/notebooks/data_table.ipynb>data table notebook</a>'\n",
              "          + ' to learn more about interactive tables.';\n",
              "        element.innerHTML = '';\n",
              "        dataTable['output_type'] = 'display_data';\n",
              "        await google.colab.output.renderOutput(dataTable, element);\n",
              "        const docLink = document.createElement('div');\n",
              "        docLink.innerHTML = docLinkHtml;\n",
              "        element.appendChild(docLink);\n",
              "      }\n",
              "    </script>\n",
              "  </div>\n",
              "\n",
              "\n",
              "    </div>\n",
              "  </div>\n"
            ],
            "application/vnd.google.colaboratory.intrinsic+json": {
              "type": "dataframe",
              "repr_error": "0"
            }
          },
          "metadata": {},
          "execution_count": 18
        }
      ]
    },
    {
      "cell_type": "markdown",
      "source": [
        "jadi dari output di atas kita tahu ternyata anime terpanjang nya berjudul `oyako club` dengan rating `6.18`"
      ],
      "metadata": {
        "id": "JHrTZPTi6zpH"
      }
    },
    {
      "cell_type": "markdown",
      "source": [
        "selanjutnya kita akan melakukan ekplorasi pada kolom genre. Pertama mari kita cari tahu total jenis genre dan jenis-jenis genrenya dengan kode berikut:"
      ],
      "metadata": {
        "id": "6CLi8CfGFr1E"
      }
    },
    {
      "cell_type": "code",
      "source": [
        "print('Jumlag genre', len(anime['genre'].unique()))\n",
        "print('jenis genre', anime['genre'].unique())"
      ],
      "metadata": {
        "colab": {
          "base_uri": "https://localhost:8080/"
        },
        "id": "WOZhJ8EhJrcU",
        "outputId": "717b49de-e7bf-46e3-aa43-e261fedf9ae4"
      },
      "execution_count": 19,
      "outputs": [
        {
          "output_type": "stream",
          "name": "stdout",
          "text": [
            "Jumlag genre 3265\n",
            "jenis genre ['Drama, Romance, School, Supernatural'\n",
            " 'Action, Adventure, Drama, Fantasy, Magic, Military, Shounen'\n",
            " 'Action, Comedy, Historical, Parody, Samurai, Sci-Fi, Shounen' ...\n",
            " 'Hentai, Sports' 'Drama, Romance, School, Yuri' 'Hentai, Slice of Life']\n"
          ]
        }
      ]
    },
    {
      "cell_type": "markdown",
      "source": [
        "dari output di atas kita mendapatkan informasi bahwa ada total `3.265` jenis genre, namun outputnya menunjukkaan ada perulangan genre. Hal ini di karenakan tipe daa genre yang bertipe object dan setiap anim dapat memiliki 1 atau lebih genre yang di pisah oleh koma, sehingga genre 'action, drama' dengan 'action' akan dianggap sebagai data berbeda oleh karena itu kita perlu melakukan processing pada genre."
      ],
      "metadata": {
        "id": "CEWNkoMXGGZ8"
      }
    },
    {
      "cell_type": "markdown",
      "source": [
        "pada kode di bawah kita membuat sebuah fungsi preprocess_genre yang akan digunakan untuk mengonversi tipe data genre menjadi list. Jika genre sudah berupa list, maka tidak ada perubahan. Jika berupa string, maka akan dipisah menjadi list berdasarkan koma dan spasi. Jika bukan keduanya, akan mengembalikan list kosong. padafungsi ini juga terdapat flag untuk memberikan tanda fungsi mana yang di terapkan apakah split atau list"
      ],
      "metadata": {
        "id": "tpzZy5AGIC0V"
      }
    },
    {
      "cell_type": "code",
      "source": [
        "def preprocess_genre(genre, printed_flag):\n",
        "    if isinstance(genre, list):\n",
        "        if not printed_flag[0]:  # Jika flag belum dicetak\n",
        "            print('genre bertipe list')\n",
        "            printed_flag[0] = True  # Mengubah flag menjadi True setelah print\n",
        "        return genre\n",
        "    elif isinstance(genre, str):\n",
        "        if not printed_flag[0]:  # Jika flag belum dicetak\n",
        "            print('genre bertipe string')\n",
        "            printed_flag[0] = True  # Mengubah flag menjadi True setelah print\n",
        "        return genre.split(', ')\n",
        "    else:\n",
        "        if not printed_flag[0]:  # Jika flag belum dicetak\n",
        "            print('fungsi gagal')\n",
        "            printed_flag[0] = True  # Mengubah flag menjadi True setelah print\n",
        "        return []\n",
        "\n",
        "# Memulai flag sebagai list dengan satu elemen False\n",
        "printed_flag = [False]"
      ],
      "metadata": {
        "id": "yLHyIMNKNyh_"
      },
      "execution_count": 35,
      "outputs": []
    },
    {
      "cell_type": "markdown",
      "source": [
        "setelah fungsi sudah di buat selanjutnya kita harus mnerapkan fungsinya ke dataset dengan menggunkan fungsi `apply` dengan variabel printed flag"
      ],
      "metadata": {
        "id": "Hok6wk9jI6L6"
      }
    },
    {
      "cell_type": "code",
      "source": [
        "anime['genre'] = anime['genre'].apply(preprocess_genre, printed_flag=printed_flag)"
      ],
      "metadata": {
        "id": "0JZ2Sf4ROlGV",
        "colab": {
          "base_uri": "https://localhost:8080/"
        },
        "outputId": "78fc6848-a80b-47bf-83c8-a86e1edb6bc4"
      },
      "execution_count": 37,
      "outputs": [
        {
          "output_type": "stream",
          "name": "stdout",
          "text": [
            "genre bertipe list\n"
          ]
        }
      ]
    },
    {
      "cell_type": "markdown",
      "source": [
        "hasil dari apply fungsi menunjukkan bahwa sekarang kolom genre bertipe list"
      ],
      "metadata": {
        "id": "hqJSXgUeLboh"
      }
    },
    {
      "cell_type": "markdown",
      "source": [
        "Pada kode ini, dibuat variabel **`genre_counts`** untuk menghitung frekuensi kemunculan setiap genre. Fungsi **`explode()`** digunakan untuk memisahkan genre yang ada dalam list menjadi baris terpisah, kemudian **`value_counts()`** menghitung jumlah kemunculannya, dan **`reset_index()`** menyusun ulang indeks untuk hasil yang lebih rapi dalam bentuk DataFrame.\n"
      ],
      "metadata": {
        "id": "LtZDXeKTNDT_"
      }
    },
    {
      "cell_type": "code",
      "source": [
        "genre_counts = anime['genre'].explode().value_counts().reset_index()"
      ],
      "metadata": {
        "id": "haUBCC95PKUV"
      },
      "execution_count": 41,
      "outputs": []
    },
    {
      "cell_type": "markdown",
      "source": [
        "untuk mempermudah pemahaman pada dataframe `genre_counts`nama kolom di genre_counts diubah menjadi genre dan count. Ini membuat DataFrame lebih mudah dibaca, di mana kolom pertama menunjukkan nama genre dan kolom kedua menunjukkan jumlah kemunculannya."
      ],
      "metadata": {
        "id": "KXTUzzwgNOB-"
      }
    },
    {
      "cell_type": "code",
      "source": [
        "genre_counts.columns = ['genre', 'count']"
      ],
      "metadata": {
        "id": "oi2pOSRbREqV"
      },
      "execution_count": 42,
      "outputs": []
    },
    {
      "cell_type": "markdown",
      "source": [
        "untuk mengetahui total genre yang ada kita bisa menggunakan fungsi `len`"
      ],
      "metadata": {
        "id": "0XDucvDlNeqH"
      }
    },
    {
      "cell_type": "code",
      "source": [
        "len(genre_counts)"
      ],
      "metadata": {
        "colab": {
          "base_uri": "https://localhost:8080/"
        },
        "id": "fKPnYkAVN3eA",
        "outputId": "92e858f7-04b3-4871-c675-f939df888ee7"
      },
      "execution_count": 44,
      "outputs": [
        {
          "output_type": "execute_result",
          "data": {
            "text/plain": [
              "43"
            ]
          },
          "metadata": {},
          "execution_count": 44
        }
      ]
    },
    {
      "cell_type": "markdown",
      "source": [
        "hasilnya menunjukkan bahwa terdapat `42` jenis genre yang berbeda."
      ],
      "metadata": {
        "id": "G1sSEmudNlG8"
      }
    },
    {
      "cell_type": "markdown",
      "source": [
        "kemudian kita akan melakukan visualisasi untuk meengetahui anime genre apa yang paling banyak hingga ke yang paling sedikit"
      ],
      "metadata": {
        "id": "b1FONqTxQFrj"
      }
    },
    {
      "cell_type": "code",
      "source": [
        "plt.figure(figsize=(12, 6))\n",
        "genre_counts.plot(kind='bar', x='genre', y='count', legend=False)\n",
        "plt.title('Distribution of Genres')\n",
        "plt.xlabel('Genre')\n",
        "plt.ylabel('Count')"
      ],
      "metadata": {
        "colab": {
          "base_uri": "https://localhost:8080/",
          "height": 586
        },
        "id": "JpkcEIQoPML0",
        "outputId": "3eadef14-2dab-4b53-8393-b4fc52e01ef7"
      },
      "execution_count": 43,
      "outputs": [
        {
          "output_type": "execute_result",
          "data": {
            "text/plain": [
              "Text(0, 0.5, 'Count')"
            ]
          },
          "metadata": {},
          "execution_count": 43
        },
        {
          "output_type": "display_data",
          "data": {
            "text/plain": [
              "<Figure size 1200x600 with 0 Axes>"
            ]
          },
          "metadata": {}
        },
        {
          "output_type": "display_data",
          "data": {
            "text/plain": [
              "<Figure size 640x480 with 1 Axes>"
            ],
            "image/png": "[encoded data removed]"
          },
          "metadata": {}
        }
      ]
    },
    {
      "cell_type": "markdown",
      "source": [
        "dari output di atas kita mendapat informasi bahwa anime comedy memiliki jumlah terbanyak dan anime bergende Yaoi paling sedikit"
      ],
      "metadata": {
        "id": "8ISiUeGGQV1X"
      }
    },
    {
      "cell_type": "markdown",
      "source": [
        "selanjutnya kita akan mengeksplorasi tipe persebaran tipe animenya dengan menggunakan kokde berikut:"
      ],
      "metadata": {
        "id": "YHchzRfpS82I"
      }
    },
    {
      "cell_type": "code",
      "source": [
        "anime['type'].value_counts()"
      ],
      "metadata": {
        "colab": {
          "base_uri": "https://localhost:8080/",
          "height": 303
        },
        "id": "VkPyJbWdRadM",
        "outputId": "e0caa2f9-92f3-490a-def4-11dea07d1a9c"
      },
      "execution_count": 45,
      "outputs": [
        {
          "output_type": "execute_result",
          "data": {
            "text/plain": [
              "type\n",
              "TV         3787\n",
              "OVA        3311\n",
              "Movie      2348\n",
              "Special    1676\n",
              "ONA         659\n",
              "Music       488\n",
              "Name: count, dtype: int64"
            ],
            "text/html": [
              "<div>\n",
              "<style scoped>\n",
              "    .dataframe tbody tr th:only-of-type {\n",
              "        vertical-align: middle;\n",
              "    }\n",
              "\n",
              "    .dataframe tbody tr th {\n",
              "        vertical-align: top;\n",
              "    }\n",
              "\n",
              "    .dataframe thead th {\n",
              "        text-align: right;\n",
              "    }\n",
              "</style>\n",
              "<table border=\"1\" class=\"dataframe\">\n",
              "  <thead>\n",
              "    <tr style=\"text-align: right;\">\n",
              "      <th></th>\n",
              "      <th>count</th>\n",
              "    </tr>\n",
              "    <tr>\n",
              "      <th>type</th>\n",
              "      <th></th>\n",
              "    </tr>\n",
              "  </thead>\n",
              "  <tbody>\n",
              "    <tr>\n",
              "      <th>TV</th>\n",
              "      <td>3787</td>\n",
              "    </tr>\n",
              "    <tr>\n",
              "      <th>OVA</th>\n",
              "      <td>3311</td>\n",
              "    </tr>\n",
              "    <tr>\n",
              "      <th>Movie</th>\n",
              "      <td>2348</td>\n",
              "    </tr>\n",
              "    <tr>\n",
              "      <th>Special</th>\n",
              "      <td>1676</td>\n",
              "    </tr>\n",
              "    <tr>\n",
              "      <th>ONA</th>\n",
              "      <td>659</td>\n",
              "    </tr>\n",
              "    <tr>\n",
              "      <th>Music</th>\n",
              "      <td>488</td>\n",
              "    </tr>\n",
              "  </tbody>\n",
              "</table>\n",
              "</div><br><label><b>dtype:</b> int64</label>"
            ]
          },
          "metadata": {},
          "execution_count": 45
        }
      ]
    },
    {
      "cell_type": "markdown",
      "source": [
        "output dari kode di atas menunjukkab bahwa anime dengan tipe TV adalah yang paling banyak dan anime bertipe musik yang paling sedikit, untuk mendapatkaan informasi yang lebih jelas berikut visualisasi."
      ],
      "metadata": {
        "id": "XsyJcKHJTG0-"
      }
    },
    {
      "cell_type": "code",
      "source": [
        "plt.figure(figsize=(12, 6))\n",
        "anime['type'].value_counts().plot(kind='bar')\n",
        "plt.title('Distribution of Types')\n",
        "plt.xlabel('Type')\n",
        "plt.ylabel('Count')"
      ],
      "metadata": {
        "colab": {
          "base_uri": "https://localhost:8080/",
          "height": 617
        },
        "id": "ZXVIRhkSRucW",
        "outputId": "88442c29-086b-4c8f-ed31-92e23e2523a2"
      },
      "execution_count": null,
      "outputs": [
        {
          "output_type": "execute_result",
          "data": {
            "text/plain": [
              "Text(0, 0.5, 'Count')"
            ]
          },
          "metadata": {},
          "execution_count": 93
        },
        {
          "output_type": "display_data",
          "data": {
            "text/plain": [
              "<Figure size 1200x600 with 1 Axes>"
            ],
            "image/png": "[encoded data removed]"
          },
          "metadata": {}
        }
      ]
    },
    {
      "cell_type": "markdown",
      "source": [
        "terakhir kita akan melakukan menari tahu persebaran data rating\n"
      ],
      "metadata": {
        "id": "jOWmSrwpUpkC"
      }
    },
    {
      "cell_type": "code",
      "source": [
        "anime['rating'].value_counts()"
      ],
      "metadata": {
        "colab": {
          "base_uri": "https://localhost:8080/",
          "height": 489
        },
        "id": "IvqV2mQ1U32T",
        "outputId": "505c0474-7a96-485c-f182-bd06bc92fea9"
      },
      "execution_count": 47,
      "outputs": [
        {
          "output_type": "execute_result",
          "data": {
            "text/plain": [
              "rating\n",
              "6.00    141\n",
              "7.00     99\n",
              "6.50     90\n",
              "6.25     84\n",
              "5.00     76\n",
              "       ... \n",
              "2.98      1\n",
              "3.44      1\n",
              "1.92      1\n",
              "2.86      1\n",
              "3.14      1\n",
              "Name: count, Length: 598, dtype: int64"
            ],
            "text/html": [
              "<div>\n",
              "<style scoped>\n",
              "    .dataframe tbody tr th:only-of-type {\n",
              "        vertical-align: middle;\n",
              "    }\n",
              "\n",
              "    .dataframe tbody tr th {\n",
              "        vertical-align: top;\n",
              "    }\n",
              "\n",
              "    .dataframe thead th {\n",
              "        text-align: right;\n",
              "    }\n",
              "</style>\n",
              "<table border=\"1\" class=\"dataframe\">\n",
              "  <thead>\n",
              "    <tr style=\"text-align: right;\">\n",
              "      <th></th>\n",
              "      <th>count</th>\n",
              "    </tr>\n",
              "    <tr>\n",
              "      <th>rating</th>\n",
              "      <th></th>\n",
              "    </tr>\n",
              "  </thead>\n",
              "  <tbody>\n",
              "    <tr>\n",
              "      <th>6.00</th>\n",
              "      <td>141</td>\n",
              "    </tr>\n",
              "    <tr>\n",
              "      <th>7.00</th>\n",
              "      <td>99</td>\n",
              "    </tr>\n",
              "    <tr>\n",
              "      <th>6.50</th>\n",
              "      <td>90</td>\n",
              "    </tr>\n",
              "    <tr>\n",
              "      <th>6.25</th>\n",
              "      <td>84</td>\n",
              "    </tr>\n",
              "    <tr>\n",
              "      <th>5.00</th>\n",
              "      <td>76</td>\n",
              "    </tr>\n",
              "    <tr>\n",
              "      <th>...</th>\n",
              "      <td>...</td>\n",
              "    </tr>\n",
              "    <tr>\n",
              "      <th>2.98</th>\n",
              "      <td>1</td>\n",
              "    </tr>\n",
              "    <tr>\n",
              "      <th>3.44</th>\n",
              "      <td>1</td>\n",
              "    </tr>\n",
              "    <tr>\n",
              "      <th>1.92</th>\n",
              "      <td>1</td>\n",
              "    </tr>\n",
              "    <tr>\n",
              "      <th>2.86</th>\n",
              "      <td>1</td>\n",
              "    </tr>\n",
              "    <tr>\n",
              "      <th>3.14</th>\n",
              "      <td>1</td>\n",
              "    </tr>\n",
              "  </tbody>\n",
              "</table>\n",
              "<p>598 rows × 1 columns</p>\n",
              "</div><br><label><b>dtype:</b> int64</label>"
            ]
          },
          "metadata": {},
          "execution_count": 47
        }
      ]
    },
    {
      "cell_type": "markdown",
      "source": [
        "output di atas menjukkan bahwa ada 598 data rating."
      ],
      "metadata": {
        "id": "lZ2yse4KU_mD"
      }
    },
    {
      "cell_type": "markdown",
      "source": [
        "### **Exploratory Rating**"
      ],
      "metadata": {
        "id": "LgNXmEzrUHK6"
      }
    },
    {
      "cell_type": "code",
      "source": [
        "rating.describe()"
      ],
      "metadata": {
        "colab": {
          "base_uri": "https://localhost:8080/",
          "height": 300
        },
        "id": "D_QJHz3uWQK7",
        "outputId": "8789319f-94b8-4009-dbe0-4f8e9e54532b"
      },
      "execution_count": 48,
      "outputs": [
        {
          "output_type": "execute_result",
          "data": {
            "text/plain": [
              "            user_id      anime_id        rating\n",
              "count  7.813737e+06  7.813737e+06  7.813737e+06\n",
              "mean   3.672796e+04  8.909072e+03  6.144030e+00\n",
              "std    2.099795e+04  8.883950e+03  3.727800e+00\n",
              "min    1.000000e+00  1.000000e+00 -1.000000e+00\n",
              "25%    1.897400e+04  1.240000e+03  6.000000e+00\n",
              "50%    3.679100e+04  6.213000e+03  7.000000e+00\n",
              "75%    5.475700e+04  1.409300e+04  9.000000e+00\n",
              "max    7.351600e+04  3.451900e+04  1.000000e+01"
            ],
            "text/html": [
              "\n",
              "  <div id=\"df-05c2a706-cd0c-41c1-b93d-72a43f7a22e4\" class=\"colab-df-container\">\n",
              "    <div>\n",
              "<style scoped>\n",
              "    .dataframe tbody tr th:only-of-type {\n",
              "        vertical-align: middle;\n",
              "    }\n",
              "\n",
              "    .dataframe tbody tr th {\n",
              "        vertical-align: top;\n",
              "    }\n",
              "\n",
              "    .dataframe thead th {\n",
              "        text-align: right;\n",
              "    }\n",
              "</style>\n",
              "<table border=\"1\" class=\"dataframe\">\n",
              "  <thead>\n",
              "    <tr style=\"text-align: right;\">\n",
              "      <th></th>\n",
              "      <th>user_id</th>\n",
              "      <th>anime_id</th>\n",
              "      <th>rating</th>\n",
              "    </tr>\n",
              "  </thead>\n",
              "  <tbody>\n",
              "    <tr>\n",
              "      <th>count</th>\n",
              "      <td>7.813737e+06</td>\n",
              "      <td>7.813737e+06</td>\n",
              "      <td>7.813737e+06</td>\n",
              "    </tr>\n",
              "    <tr>\n",
              "      <th>mean</th>\n",
              "      <td>3.672796e+04</td>\n",
              "      <td>8.909072e+03</td>\n",
              "      <td>6.144030e+00</td>\n",
              "    </tr>\n",
              "    <tr>\n",
              "      <th>std</th>\n",
              "      <td>2.099795e+04</td>\n",
              "      <td>8.883950e+03</td>\n",
              "      <td>3.727800e+00</td>\n",
              "    </tr>\n",
              "    <tr>\n",
              "      <th>min</th>\n",
              "      <td>1.000000e+00</td>\n",
              "      <td>1.000000e+00</td>\n",
              "      <td>-1.000000e+00</td>\n",
              "    </tr>\n",
              "    <tr>\n",
              "      <th>25%</th>\n",
              "      <td>1.897400e+04</td>\n",
              "      <td>1.240000e+03</td>\n",
              "      <td>6.000000e+00</td>\n",
              "    </tr>\n",
              "    <tr>\n",
              "      <th>50%</th>\n",
              "      <td>3.679100e+04</td>\n",
              "      <td>6.213000e+03</td>\n",
              "      <td>7.000000e+00</td>\n",
              "    </tr>\n",
              "    <tr>\n",
              "      <th>75%</th>\n",
              "      <td>5.475700e+04</td>\n",
              "      <td>1.409300e+04</td>\n",
              "      <td>9.000000e+00</td>\n",
              "    </tr>\n",
              "    <tr>\n",
              "      <th>max</th>\n",
              "      <td>7.351600e+04</td>\n",
              "      <td>3.451900e+04</td>\n",
              "      <td>1.000000e+01</td>\n",
              "    </tr>\n",
              "  </tbody>\n",
              "</table>\n",
              "</div>\n",
              "    <div class=\"colab-df-buttons\">\n",
              "\n",
              "  <div class=\"colab-df-container\">\n",
              "    <button class=\"colab-df-convert\" onclick=\"convertToInteractive('df-05c2a706-cd0c-41c1-b93d-72a43f7a22e4')\"\n",
              "            title=\"Convert this dataframe to an interactive table.\"\n",
              "            style=\"display:none;\">\n",
              "\n",
              "  <svg xmlns=\"http://www.w3.org/2000/svg\" height=\"24px\" viewBox=\"0 -960 960 960\">\n",
              "    <path d=\"M120-120v-720h720v720H120Zm60-500h600v-160H180v160Zm220 220h160v-160H400v160Zm0 220h160v-160H400v160ZM180-400h160v-160H180v160Zm440 0h160v-160H620v160ZM180-180h160v-160H180v160Zm440 0h160v-160H620v160Z\"/>\n",
              "  </svg>\n",
              "    </button>\n",
              "\n",
              "  <style>\n",
              "    .colab-df-container {\n",
              "      display:flex;\n",
              "      gap: 12px;\n",
              "    }\n",
              "\n",
              "    .colab-df-convert {\n",
              "      background-color: #E8F0FE;\n",
              "      border: none;\n",
              "      border-radius: 50%;\n",
              "      cursor: pointer;\n",
              "      display: none;\n",
              "      fill: #1967D2;\n",
              "      height: 32px;\n",
              "      padding: 0 0 0 0;\n",
              "      width: 32px;\n",
              "    }\n",
              "\n",
              "    .colab-df-convert:hover {\n",
              "      background-color: #E2EBFA;\n",
              "      box-shadow: 0px 1px 2px rgba(60, 64, 67, 0.3), 0px 1px 3px 1px rgba(60, 64, 67, 0.15);\n",
              "      fill: #174EA6;\n",
              "    }\n",
              "\n",
              "    .colab-df-buttons div {\n",
              "      margin-bottom: 4px;\n",
              "    }\n",
              "\n",
              "    [theme=dark] .colab-df-convert {\n",
              "      background-color: #3B4455;\n",
              "      fill: #D2E3FC;\n",
              "    }\n",
              "\n",
              "    [theme=dark] .colab-df-convert:hover {\n",
              "      background-color: #434B5C;\n",
              "      box-shadow: 0px 1px 3px 1px rgba(0, 0, 0, 0.15);\n",
              "      filter: drop-shadow(0px 1px 2px rgba(0, 0, 0, 0.3));\n",
              "      fill: #FFFFFF;\n",
              "    }\n",
              "  </style>\n",
              "\n",
              "    <script>\n",
              "      const buttonEl =\n",
              "        document.querySelector('#df-05c2a706-cd0c-41c1-b93d-72a43f7a22e4 button.colab-df-convert');\n",
              "      buttonEl.style.display =\n",
              "        google.colab.kernel.accessAllowed ? 'block' : 'none';\n",
              "\n",
              "      async function convertToInteractive(key) {\n",
              "        const element = document.querySelector('#df-05c2a706-cd0c-41c1-b93d-72a43f7a22e4');\n",
              "        const dataTable =\n",
              "          await google.colab.kernel.invokeFunction('convertToInteractive',\n",
              "                                                    [key], {});\n",
              "        if (!dataTable) return;\n",
              "\n",
              "        const docLinkHtml = 'Like what you see? Visit the ' +\n",
              "          '<a target=\"_blank\" href=https://colab.research.google.com/notebooks/data_table.ipynb>data table notebook</a>'\n",
              "          + ' to learn more about interactive tables.';\n",
              "        element.innerHTML = '';\n",
              "        dataTable['output_type'] = 'display_data';\n",
              "        await google.colab.output.renderOutput(dataTable, element);\n",
              "        const docLink = document.createElement('div');\n",
              "        docLink.innerHTML = docLinkHtml;\n",
              "        element.appendChild(docLink);\n",
              "      }\n",
              "    </script>\n",
              "  </div>\n",
              "\n",
              "\n",
              "    <div id=\"df-081882fc-bd77-4692-8344-3e67450dbf58\">\n",
              "      <button class=\"colab-df-quickchart\" onclick=\"quickchart('df-081882fc-bd77-4692-8344-3e67450dbf58')\"\n",
              "                title=\"Suggest charts\"\n",
              "                style=\"display:none;\">\n",
              "\n",
              "<svg xmlns=\"http://www.w3.org/2000/svg\" height=\"24px\"viewBox=\"0 0 24 24\"\n",
              "     width=\"24px\">\n",
              "    <g>\n",
              "        <path d=\"M19 3H5c-1.1 0-2 .9-2 2v14c0 1.1.9 2 2 2h14c1.1 0 2-.9 2-2V5c0-1.1-.9-2-2-2zM9 17H7v-7h2v7zm4 0h-2V7h2v10zm4 0h-2v-4h2v4z\"/>\n",
              "    </g>\n",
              "</svg>\n",
              "      </button>\n",
              "\n",
              "<style>\n",
              "  .colab-df-quickchart {\n",
              "      --bg-color: #E8F0FE;\n",
              "      --fill-color: #1967D2;\n",
              "      --hover-bg-color: #E2EBFA;\n",
              "      --hover-fill-color: #174EA6;\n",
              "      --disabled-fill-color: #AAA;\n",
              "      --disabled-bg-color: #DDD;\n",
              "  }\n",
              "\n",
              "  [theme=dark] .colab-df-quickchart {\n",
              "      --bg-color: #3B4455;\n",
              "      --fill-color: #D2E3FC;\n",
              "      --hover-bg-color: #434B5C;\n",
              "      --hover-fill-color: #FFFFFF;\n",
              "      --disabled-bg-color: #3B4455;\n",
              "      --disabled-fill-color: #666;\n",
              "  }\n",
              "\n",
              "  .colab-df-quickchart {\n",
              "    background-color: var(--bg-color);\n",
              "    border: none;\n",
              "    border-radius: 50%;\n",
              "    cursor: pointer;\n",
              "    display: none;\n",
              "    fill: var(--fill-color);\n",
              "    height: 32px;\n",
              "    padding: 0;\n",
              "    width: 32px;\n",
              "  }\n",
              "\n",
              "  .colab-df-quickchart:hover {\n",
              "    background-color: var(--hover-bg-color);\n",
              "    box-shadow: 0 1px 2px rgba(60, 64, 67, 0.3), 0 1px 3px 1px rgba(60, 64, 67, 0.15);\n",
              "    fill: var(--button-hover-fill-color);\n",
              "  }\n",
              "\n",
              "  .colab-df-quickchart-complete:disabled,\n",
              "  .colab-df-quickchart-complete:disabled:hover {\n",
              "    background-color: var(--disabled-bg-color);\n",
              "    fill: var(--disabled-fill-color);\n",
              "    box-shadow: none;\n",
              "  }\n",
              "\n",
              "  .colab-df-spinner {\n",
              "    border: 2px solid var(--fill-color);\n",
              "    border-color: transparent;\n",
              "    border-bottom-color: var(--fill-color);\n",
              "    animation:\n",
              "      spin 1s steps(1) infinite;\n",
              "  }\n",
              "\n",
              "  @keyframes spin {\n",
              "    0% {\n",
              "      border-color: transparent;\n",
              "      border-bottom-color: var(--fill-color);\n",
              "      border-left-color: var(--fill-color);\n",
              "    }\n",
              "    20% {\n",
              "      border-color: transparent;\n",
              "      border-left-color: var(--fill-color);\n",
              "      border-top-color: var(--fill-color);\n",
              "    }\n",
              "    30% {\n",
              "      border-color: transparent;\n",
              "      border-left-color: var(--fill-color);\n",
              "      border-top-color: var(--fill-color);\n",
              "      border-right-color: var(--fill-color);\n",
              "    }\n",
              "    40% {\n",
              "      border-color: transparent;\n",
              "      border-right-color: var(--fill-color);\n",
              "      border-top-color: var(--fill-color);\n",
              "    }\n",
              "    60% {\n",
              "      border-color: transparent;\n",
              "      border-right-color: var(--fill-color);\n",
              "    }\n",
              "    80% {\n",
              "      border-color: transparent;\n",
              "      border-right-color: var(--fill-color);\n",
              "      border-bottom-color: var(--fill-color);\n",
              "    }\n",
              "    90% {\n",
              "      border-color: transparent;\n",
              "      border-bottom-color: var(--fill-color);\n",
              "    }\n",
              "  }\n",
              "</style>\n",
              "\n",
              "      <script>\n",
              "        async function quickchart(key) {\n",
              "          const quickchartButtonEl =\n",
              "            document.querySelector('#' + key + ' button');\n",
              "          quickchartButtonEl.disabled = true;  // To prevent multiple clicks.\n",
              "          quickchartButtonEl.classList.add('colab-df-spinner');\n",
              "          try {\n",
              "            const charts = await google.colab.kernel.invokeFunction(\n",
              "                'suggestCharts', [key], {});\n",
              "          } catch (error) {\n",
              "            console.error('Error during call to suggestCharts:', error);\n",
              "          }\n",
              "          quickchartButtonEl.classList.remove('colab-df-spinner');\n",
              "          quickchartButtonEl.classList.add('colab-df-quickchart-complete');\n",
              "        }\n",
              "        (() => {\n",
              "          let quickchartButtonEl =\n",
              "            document.querySelector('#df-081882fc-bd77-4692-8344-3e67450dbf58 button');\n",
              "          quickchartButtonEl.style.display =\n",
              "            google.colab.kernel.accessAllowed ? 'block' : 'none';\n",
              "        })();\n",
              "      </script>\n",
              "    </div>\n",
              "\n",
              "    </div>\n",
              "  </div>\n"
            ],
            "application/vnd.google.colaboratory.intrinsic+json": {
              "type": "dataframe",
              "summary": "{\n  \"name\": \"rating\",\n  \"rows\": 8,\n  \"fields\": [\n    {\n      \"column\": \"user_id\",\n      \"properties\": {\n        \"dtype\": \"number\",\n        \"std\": 2750454.5967114996,\n        \"min\": 1.0,\n        \"max\": 7813737.0,\n        \"num_unique_values\": 8,\n        \"samples\": [\n          36727.956744640884,\n          36791.0,\n          7813737.0\n        ],\n        \"semantic_type\": \"\",\n        \"description\": \"\"\n      }\n    },\n    {\n      \"column\": \"anime_id\",\n      \"properties\": {\n        \"dtype\": \"number\",\n        \"std\": 2758863.7189715956,\n        \"min\": 1.0,\n        \"max\": 7813737.0,\n        \"num_unique_values\": 8,\n        \"samples\": [\n          8909.072104295294,\n          6213.0,\n          7813737.0\n        ],\n        \"semantic_type\": \"\",\n        \"description\": \"\"\n      }\n    },\n    {\n      \"column\": \"rating\",\n      \"properties\": {\n        \"dtype\": \"number\",\n        \"std\": 2762571.1452170317,\n        \"min\": -1.0,\n        \"max\": 7813737.0,\n        \"num_unique_values\": 8,\n        \"samples\": [\n          6.144029546937656,\n          7.0,\n          7813737.0\n        ],\n        \"semantic_type\": \"\",\n        \"description\": \"\"\n      }\n    }\n  ]\n}"
            }
          },
          "metadata": {},
          "execution_count": 48
        }
      ]
    },
    {
      "cell_type": "markdown",
      "source": [
        "dari tabel di atas kita dapat mendapat informasi :\n",
        "\n",
        "1. `user_id`: Jumlah total pengguna adalah sekitar 7,8 juta, dengan nilai user_id bervariasi dari 1 hingga 73,516.\n",
        "2. `anime_id`: Terdapat lebih dari 34.000 anime dalam dataset, dengan anime_id berkisar dari 1 hingga 34.519.\n",
        "3. rating: Rating diberikan oleh pengguna dengan rentang nilai antara -1 hingga 10. Rata-rata rating adalah 6.14, dengan sebagian besar rating berada di sekitar angka 6 hingga 9.\n",
        "\n",
        "Secara keseluruhan, data ini menunjukkan variasi besar dalam jumlah pengguna, anime, dan rating yang diberikan, dengan mayoritas rating berada di sisi positif (6-9)."
      ],
      "metadata": {
        "id": "QOqGzTX0XwRd"
      }
    },
    {
      "cell_type": "markdown",
      "source": [
        "untuk mendapatkan informasi persebaran data rating kita akan menggunaka fungi `count()` beserta visualisasinya:"
      ],
      "metadata": {
        "id": "JuXBAQH_X5Kq"
      }
    },
    {
      "cell_type": "code",
      "source": [
        "rating['rating'].value_counts()"
      ],
      "metadata": {
        "colab": {
          "base_uri": "https://localhost:8080/",
          "height": 460
        },
        "id": "nb-ynKuUXzjW",
        "outputId": "3c440a7c-3216-4466-b88a-5a396c871b78"
      },
      "execution_count": 49,
      "outputs": [
        {
          "output_type": "execute_result",
          "data": {
            "text/plain": [
              "rating\n",
              " 8     1646019\n",
              "-1     1476496\n",
              " 7     1375287\n",
              " 9     1254096\n",
              " 10     955715\n",
              " 6      637775\n",
              " 5      282806\n",
              " 4      104291\n",
              " 3       41453\n",
              " 2       23150\n",
              " 1       16649\n",
              "Name: count, dtype: int64"
            ],
            "text/html": [
              "<div>\n",
              "<style scoped>\n",
              "    .dataframe tbody tr th:only-of-type {\n",
              "        vertical-align: middle;\n",
              "    }\n",
              "\n",
              "    .dataframe tbody tr th {\n",
              "        vertical-align: top;\n",
              "    }\n",
              "\n",
              "    .dataframe thead th {\n",
              "        text-align: right;\n",
              "    }\n",
              "</style>\n",
              "<table border=\"1\" class=\"dataframe\">\n",
              "  <thead>\n",
              "    <tr style=\"text-align: right;\">\n",
              "      <th></th>\n",
              "      <th>count</th>\n",
              "    </tr>\n",
              "    <tr>\n",
              "      <th>rating</th>\n",
              "      <th></th>\n",
              "    </tr>\n",
              "  </thead>\n",
              "  <tbody>\n",
              "    <tr>\n",
              "      <th>8</th>\n",
              "      <td>1646019</td>\n",
              "    </tr>\n",
              "    <tr>\n",
              "      <th>-1</th>\n",
              "      <td>1476496</td>\n",
              "    </tr>\n",
              "    <tr>\n",
              "      <th>7</th>\n",
              "      <td>1375287</td>\n",
              "    </tr>\n",
              "    <tr>\n",
              "      <th>9</th>\n",
              "      <td>1254096</td>\n",
              "    </tr>\n",
              "    <tr>\n",
              "      <th>10</th>\n",
              "      <td>955715</td>\n",
              "    </tr>\n",
              "    <tr>\n",
              "      <th>6</th>\n",
              "      <td>637775</td>\n",
              "    </tr>\n",
              "    <tr>\n",
              "      <th>5</th>\n",
              "      <td>282806</td>\n",
              "    </tr>\n",
              "    <tr>\n",
              "      <th>4</th>\n",
              "      <td>104291</td>\n",
              "    </tr>\n",
              "    <tr>\n",
              "      <th>3</th>\n",
              "      <td>41453</td>\n",
              "    </tr>\n",
              "    <tr>\n",
              "      <th>2</th>\n",
              "      <td>23150</td>\n",
              "    </tr>\n",
              "    <tr>\n",
              "      <th>1</th>\n",
              "      <td>16649</td>\n",
              "    </tr>\n",
              "  </tbody>\n",
              "</table>\n",
              "</div><br><label><b>dtype:</b> int64</label>"
            ]
          },
          "metadata": {},
          "execution_count": 49
        }
      ]
    },
    {
      "cell_type": "code",
      "source": [
        "plt.figure(figsize=(12, 6))\n",
        "rating['rating'].value_counts().plot(kind='bar')\n",
        "plt.title('Distribution of Rating')\n",
        "plt.xlabel('Rating')\n",
        "plt.xticks(rotation=0)\n",
        "plt.ylabel('Count')"
      ],
      "metadata": {
        "colab": {
          "base_uri": "https://localhost:8080/",
          "height": 581
        },
        "id": "bbd-I7p-YE7j",
        "outputId": "d8c8b95a-970a-46fd-83da-640231c47efe"
      },
      "execution_count": 53,
      "outputs": [
        {
          "output_type": "execute_result",
          "data": {
            "text/plain": [
              "Text(0, 0.5, 'Count')"
            ]
          },
          "metadata": {},
          "execution_count": 53
        },
        {
          "output_type": "display_data",
          "data": {
            "text/plain": [
              "<Figure size 1200x600 with 1 Axes>"
            ],
            "image/png": "[encoded data removed]"
          },
          "metadata": {}
        }
      ]
    },
    {
      "cell_type": "markdown",
      "source": [
        "## **Data Preparation**"
      ],
      "metadata": {
        "id": "H5M3d3dvZoKG"
      }
    },
    {
      "cell_type": "markdown",
      "source": [
        "setelah melakukan berbagai eksplorasi selanjutnya akan di lakukan pemrosesan pada data untuk persiapan pelatihan model nantinya."
      ],
      "metadata": {
        "id": "jhoOAqqeZra6"
      }
    },
    {
      "cell_type": "markdown",
      "source": [
        "### **Remove Missing Values**"
      ],
      "metadata": {
        "id": "ccJjLV9YaZrt"
      }
    },
    {
      "cell_type": "markdown",
      "source": [
        "Pengecekan dan penanganan **missing values** sangat penting dalam tahap **preprocessing** sebelum melatih model. Hal ini dilakukan untuk memastikan bahwa data yang digunakan bersih dan tidak mengandung nilai yang hilang, yang dapat menyebabkan kesalahan atau bias dalam model. Data yang tidak lengkap dapat mempengaruhi akurasi dan performa model, sehingga penanganan yang tepat diperlukan untuk meningkatkan kualitas data dan hasil prediksi yang lebih akurat.\n"
      ],
      "metadata": {
        "id": "atDuMrcuaqM7"
      }
    },
    {
      "cell_type": "markdown",
      "source": [
        "untuk mengetahui jumlah missing values kita menggunakan fungsi `isnull()` dan `sum()` , mari kita terapkan 2 fungsi ini pada dataset"
      ],
      "metadata": {
        "id": "CrERY5Aja2b8"
      }
    },
    {
      "cell_type": "code",
      "source": [
        "anime.isnull().sum()"
      ],
      "metadata": {
        "colab": {
          "base_uri": "https://localhost:8080/",
          "height": 303
        },
        "id": "0ZP6yo99LFxE",
        "outputId": "dd2ae6c0-96c6-47ed-c1b2-eaf4d589f85a"
      },
      "execution_count": null,
      "outputs": [
        {
          "output_type": "execute_result",
          "data": {
            "text/plain": [
              "anime_id      0\n",
              "name          0\n",
              "genre        62\n",
              "type         25\n",
              "episodes      0\n",
              "rating      230\n",
              "members       0\n",
              "dtype: int64"
            ],
            "text/html": [
              "<div>\n",
              "<style scoped>\n",
              "    .dataframe tbody tr th:only-of-type {\n",
              "        vertical-align: middle;\n",
              "    }\n",
              "\n",
              "    .dataframe tbody tr th {\n",
              "        vertical-align: top;\n",
              "    }\n",
              "\n",
              "    .dataframe thead th {\n",
              "        text-align: right;\n",
              "    }\n",
              "</style>\n",
              "<table border=\"1\" class=\"dataframe\">\n",
              "  <thead>\n",
              "    <tr style=\"text-align: right;\">\n",
              "      <th></th>\n",
              "      <th>0</th>\n",
              "    </tr>\n",
              "  </thead>\n",
              "  <tbody>\n",
              "    <tr>\n",
              "      <th>anime_id</th>\n",
              "      <td>0</td>\n",
              "    </tr>\n",
              "    <tr>\n",
              "      <th>name</th>\n",
              "      <td>0</td>\n",
              "    </tr>\n",
              "    <tr>\n",
              "      <th>genre</th>\n",
              "      <td>62</td>\n",
              "    </tr>\n",
              "    <tr>\n",
              "      <th>type</th>\n",
              "      <td>25</td>\n",
              "    </tr>\n",
              "    <tr>\n",
              "      <th>episodes</th>\n",
              "      <td>0</td>\n",
              "    </tr>\n",
              "    <tr>\n",
              "      <th>rating</th>\n",
              "      <td>230</td>\n",
              "    </tr>\n",
              "    <tr>\n",
              "      <th>members</th>\n",
              "      <td>0</td>\n",
              "    </tr>\n",
              "  </tbody>\n",
              "</table>\n",
              "</div><br><label><b>dtype:</b> int64</label>"
            ]
          },
          "metadata": {},
          "execution_count": 30
        }
      ]
    },
    {
      "cell_type": "markdown",
      "source": [
        "dari output di atas maka kita mendapat iformasi bahwa missing values pada kolom type, genre dan rating"
      ],
      "metadata": {
        "id": "32VFv1vUbCn4"
      }
    },
    {
      "cell_type": "code",
      "source": [
        "rating.isnull().sum()"
      ],
      "metadata": {
        "colab": {
          "base_uri": "https://localhost:8080/",
          "height": 178
        },
        "id": "IKmFEfaaMJLq",
        "outputId": "4b3c3185-55ed-465f-a4b1-b7866ce1519e"
      },
      "execution_count": null,
      "outputs": [
        {
          "output_type": "execute_result",
          "data": {
            "text/plain": [
              "user_id     0\n",
              "anime_id    0\n",
              "rating      0\n",
              "dtype: int64"
            ],
            "text/html": [
              "<div>\n",
              "<style scoped>\n",
              "    .dataframe tbody tr th:only-of-type {\n",
              "        vertical-align: middle;\n",
              "    }\n",
              "\n",
              "    .dataframe tbody tr th {\n",
              "        vertical-align: top;\n",
              "    }\n",
              "\n",
              "    .dataframe thead th {\n",
              "        text-align: right;\n",
              "    }\n",
              "</style>\n",
              "<table border=\"1\" class=\"dataframe\">\n",
              "  <thead>\n",
              "    <tr style=\"text-align: right;\">\n",
              "      <th></th>\n",
              "      <th>0</th>\n",
              "    </tr>\n",
              "  </thead>\n",
              "  <tbody>\n",
              "    <tr>\n",
              "      <th>user_id</th>\n",
              "      <td>0</td>\n",
              "    </tr>\n",
              "    <tr>\n",
              "      <th>anime_id</th>\n",
              "      <td>0</td>\n",
              "    </tr>\n",
              "    <tr>\n",
              "      <th>rating</th>\n",
              "      <td>0</td>\n",
              "    </tr>\n",
              "  </tbody>\n",
              "</table>\n",
              "</div><br><label><b>dtype:</b> int64</label>"
            ]
          },
          "metadata": {},
          "execution_count": 32
        }
      ]
    },
    {
      "cell_type": "markdown",
      "source": [
        "sementara output dari dataset rating menunjukkan tidak adanya missing values"
      ],
      "metadata": {
        "id": "OFF3AYTwbaP5"
      }
    },
    {
      "cell_type": "markdown",
      "source": [
        "missing values terbanyak ada pada kolom rating yaitu sekitar 230 sedangkan jumlah total data yang ada adalah 12 ribuan sehingga missing value terbilang sangat sedikit , oleh karena itu penghapusan dapat menjadi pilihan yang terbaik. untuk menghapus missing value pada dataset anime kita gunakan kode berikut :"
      ],
      "metadata": {
        "id": "kGXXdlOIbh4L"
      }
    },
    {
      "cell_type": "code",
      "source": [
        "anime.dropna(inplace=True)"
      ],
      "metadata": {
        "id": "2Ac3RnhjSqX0"
      },
      "execution_count": 54,
      "outputs": []
    },
    {
      "cell_type": "markdown",
      "source": [
        "untuk memastikan missing value benar-benar sudah tidak ada kita bisa mengulangi kode sebelumnya"
      ],
      "metadata": {
        "id": "RVRlgBJVcIPI"
      }
    },
    {
      "cell_type": "code",
      "source": [
        "anime.isnull().sum()"
      ],
      "metadata": {
        "colab": {
          "base_uri": "https://localhost:8080/",
          "height": 335
        },
        "id": "6RIgWGjoSwJB",
        "outputId": "d1ef7d32-6bf3-4287-b261-39100a1feab4"
      },
      "execution_count": 56,
      "outputs": [
        {
          "output_type": "execute_result",
          "data": {
            "text/plain": [
              "anime_id        0\n",
              "name            0\n",
              "genre           0\n",
              "type            0\n",
              "episodes        0\n",
              "rating          0\n",
              "members         0\n",
              "episodes_int    0\n",
              "dtype: int64"
            ],
            "text/html": [
              "<div>\n",
              "<style scoped>\n",
              "    .dataframe tbody tr th:only-of-type {\n",
              "        vertical-align: middle;\n",
              "    }\n",
              "\n",
              "    .dataframe tbody tr th {\n",
              "        vertical-align: top;\n",
              "    }\n",
              "\n",
              "    .dataframe thead th {\n",
              "        text-align: right;\n",
              "    }\n",
              "</style>\n",
              "<table border=\"1\" class=\"dataframe\">\n",
              "  <thead>\n",
              "    <tr style=\"text-align: right;\">\n",
              "      <th></th>\n",
              "      <th>0</th>\n",
              "    </tr>\n",
              "  </thead>\n",
              "  <tbody>\n",
              "    <tr>\n",
              "      <th>anime_id</th>\n",
              "      <td>0</td>\n",
              "    </tr>\n",
              "    <tr>\n",
              "      <th>name</th>\n",
              "      <td>0</td>\n",
              "    </tr>\n",
              "    <tr>\n",
              "      <th>genre</th>\n",
              "      <td>0</td>\n",
              "    </tr>\n",
              "    <tr>\n",
              "      <th>type</th>\n",
              "      <td>0</td>\n",
              "    </tr>\n",
              "    <tr>\n",
              "      <th>episodes</th>\n",
              "      <td>0</td>\n",
              "    </tr>\n",
              "    <tr>\n",
              "      <th>rating</th>\n",
              "      <td>0</td>\n",
              "    </tr>\n",
              "    <tr>\n",
              "      <th>members</th>\n",
              "      <td>0</td>\n",
              "    </tr>\n",
              "    <tr>\n",
              "      <th>episodes_int</th>\n",
              "      <td>0</td>\n",
              "    </tr>\n",
              "  </tbody>\n",
              "</table>\n",
              "</div><br><label><b>dtype:</b> int64</label>"
            ]
          },
          "metadata": {},
          "execution_count": 56
        }
      ]
    },
    {
      "cell_type": "markdown",
      "source": [
        "hasilnya sekarang sudah tidak ada lagi missing value pada data"
      ],
      "metadata": {
        "id": "4DLVLYq_cN92"
      }
    },
    {
      "cell_type": "markdown",
      "source": [
        "### **Removing Duplicates**"
      ],
      "metadata": {
        "id": "YlfxhYridjzL"
      }
    },
    {
      "cell_type": "markdown",
      "source": [
        "Pengecekan dan penanganan **data duplikat** juga penting dalam tahap **preprocessing** sebelum melatih model. Data duplikat dapat menyebabkan model belajar pola yang salah atau memberikan bobot berlebih pada data yang sama, yang bisa mengurangi akurasi model. Dengan menghapus atau menangani duplikat, kita memastikan bahwa data yang digunakan lebih representatif dan mencegah model overfitting. Ini membantu dalam menghasilkan model yang lebih general dan akurat.\n"
      ],
      "metadata": {
        "id": "NjjDJM23eFp7"
      }
    },
    {
      "cell_type": "markdown",
      "source": [
        "untuk menemukan data duplikat pada dataset kita bisa menggunakan fungsi `duplicated()` pada kedua dataset"
      ],
      "metadata": {
        "id": "OOGy8BHteK6b"
      }
    },
    {
      "cell_type": "markdown",
      "source": [
        "namun sebelum melakukan pengecekan duplikat pada dataset kitaa harus merubah kembali kolom genre yang sudah berubah menjadi list menjadi berbentuk string, hal ini di karenakan kolom yang berbentuk list tidak bisa di bandingkan secara langsung sehingga akan menyebabkan eror jika tidak di rubah ke bentuk string."
      ],
      "metadata": {
        "id": "869TVzZFe2N4"
      }
    },
    {
      "cell_type": "markdown",
      "source": [
        "untuk merubah kolom genre ke bentuk string kita menggunakan fungsi lambda, pada fungsi di lambda ini setiap element list akan di gabungkan menjadi string tunggal dan dipisahkan dengan spasi"
      ],
      "metadata": {
        "id": "JXQ-BCqIfE6y"
      }
    },
    {
      "cell_type": "code",
      "source": [
        "anime['genre'] = anime['genre'].apply(lambda x: ' '.join(x))"
      ],
      "metadata": {
        "id": "sSpZLMdWfRzb"
      },
      "execution_count": 60,
      "outputs": []
    },
    {
      "cell_type": "markdown",
      "source": [
        "setelah fungsi lambda di jalankan kemudian kita akan melakukan pengecekan data duplikat pada kedua dataset:"
      ],
      "metadata": {
        "id": "JO5CASzogK63"
      }
    },
    {
      "cell_type": "code",
      "source": [
        "anime.duplicated().sum()"
      ],
      "metadata": {
        "colab": {
          "base_uri": "https://localhost:8080/"
        },
        "id": "UqheDcNFME6_",
        "outputId": "e47f198e-ab2b-4102-c4e3-17a5a24b89f4"
      },
      "execution_count": 61,
      "outputs": [
        {
          "output_type": "execute_result",
          "data": {
            "text/plain": [
              "np.int64(0)"
            ]
          },
          "metadata": {},
          "execution_count": 61
        }
      ]
    },
    {
      "cell_type": "markdown",
      "source": [
        "output di atas mengindikasikan bahwa dataset anime tidak memiliki duplikat"
      ],
      "metadata": {
        "id": "NCl96tS9gT3J"
      }
    },
    {
      "cell_type": "code",
      "source": [
        "rating.duplicated().sum()"
      ],
      "metadata": {
        "colab": {
          "base_uri": "https://localhost:8080/"
        },
        "id": "cubrtRSoMjt7",
        "outputId": "7c674e8d-1d5b-4310-ac9b-3888a6b28938"
      },
      "execution_count": 62,
      "outputs": [
        {
          "output_type": "execute_result",
          "data": {
            "text/plain": [
              "np.int64(1)"
            ]
          },
          "metadata": {},
          "execution_count": 62
        }
      ]
    },
    {
      "cell_type": "markdown",
      "source": [
        "sementara pada dataset rating terdapat 1 duplikat"
      ],
      "metadata": {
        "id": "ZboBOM0ggeqV"
      }
    },
    {
      "cell_type": "markdown",
      "source": [
        "untuk penanganan yang di pilih pada kasus duplikat ini adalah penghapusan hal ini di karenakan jumlag duplikat yang sangat kecil. untuk menghapus duplikat kita bisa menggunakan kode berikut :"
      ],
      "metadata": {
        "id": "Mohj4uDFgj6r"
      }
    },
    {
      "cell_type": "code",
      "source": [
        "rating.drop_duplicates(inplace=True)"
      ],
      "metadata": {
        "id": "ua17kVXlSzca"
      },
      "execution_count": 63,
      "outputs": []
    },
    {
      "cell_type": "markdown",
      "source": [
        "setelah duplikat di hapus mari kita pastikaan lagi apakah duplikatnya sudah tidak ada dengan mengulangi kode sebelumnya"
      ],
      "metadata": {
        "id": "83aOfIpMg5dl"
      }
    },
    {
      "cell_type": "code",
      "source": [
        "rating.duplicated().sum()"
      ],
      "metadata": {
        "colab": {
          "base_uri": "https://localhost:8080/"
        },
        "id": "jrnJgWsDS3Dn",
        "outputId": "955ed56e-542b-4d7a-aed5-871390521205"
      },
      "execution_count": 64,
      "outputs": [
        {
          "output_type": "execute_result",
          "data": {
            "text/plain": [
              "np.int64(0)"
            ]
          },
          "metadata": {},
          "execution_count": 64
        }
      ]
    },
    {
      "cell_type": "markdown",
      "source": [
        "hasilnya sekarang sudah tidak ada lagi data duplikat pada dataset rating"
      ],
      "metadata": {
        "id": "cE-lbKi1hA4e"
      }
    },
    {
      "cell_type": "markdown",
      "source": [
        "### **Prepocesing for development cosine similiarity**"
      ],
      "metadata": {
        "id": "m_yt1cvlirYN"
      }
    },
    {
      "cell_type": "markdown",
      "source": [
        "Pada tahap ini, kita melakukan vektorisasi teks menggunakan TF-IDF Vectorizer untuk mengubah data teks (genre anime) menjadi bentuk numerik yang bisa diproses oleh model pembelajaran mesin. Fungsi TfidfVectorizer digunakan untuk mengonversi setiap kata atau frasa dalam kolom genre menjadi representasi vektor numerik berdasarkan Term Frequency-Inverse Document Frequency (TF-IDF). TF-IDF mengukur seberapa penting suatu kata dalam dokumen tertentu relatif terhadap seluruh dataset, dengan tujuan memberikan bobot lebih pada kata-kata yang lebih jarang muncul namun relevan dalam konteks."
      ],
      "metadata": {
        "id": "GFoN9L3Si7ut"
      }
    },
    {
      "cell_type": "markdown",
      "source": [
        "Melalui proses ini, kolom **genre**, yang sebelumnya berisi teks, diubah menjadi matriks TF-IDF yang menggambarkan pentingnya setiap kata dalam genre relatif terhadap keseluruhan dataset. Matriks TF-IDF ini sangat berguna untuk perhitungan kemiripan antar item pada tahap modeling nantinya"
      ],
      "metadata": {
        "id": "VW-WI_C_jFvX"
      }
    },
    {
      "cell_type": "code",
      "source": [
        "# Inisialisasi TF-IDF Vectorizer\n",
        "tfidf_vectorizer = TfidfVectorizer(stop_words='english')\n",
        "\n",
        "# Vektorisasi genre menjadi matriks TF-IDF\n",
        "tfidf_matrix = tfidf_vectorizer.fit_transform(anime['genre'])\n",
        "\n",
        "# Cek bentuk matriks TF-IDF\n",
        "print(tfidf_matrix.shape)  # (n_samples, n_features)\n"
      ],
      "metadata": {
        "colab": {
          "base_uri": "https://localhost:8080/"
        },
        "id": "pFM_sH3wUOyL",
        "outputId": "7ba979b4-2b51-4bd4-8ae0-6adfc15b57da"
      },
      "execution_count": 65,
      "outputs": [
        {
          "output_type": "stream",
          "name": "stdout",
          "text": [
            "(11876, 46)\n"
          ]
        }
      ]
    },
    {
      "cell_type": "markdown",
      "source": [
        "output di atas menunjukkan bahwa ada 11876 jumlah baris judul anime dan 46 jumlah kolom genre anime"
      ],
      "metadata": {
        "id": "S979yivukoI9"
      }
    },
    {
      "cell_type": "markdown",
      "source": [
        "untuk mengetahui 46 kolom yang ada pada matrik maka kita bisa menggunakan kode berikut:"
      ],
      "metadata": {
        "id": "v8fTIzLimNnF"
      }
    },
    {
      "cell_type": "code",
      "source": [
        "tfidf_vectorizer.get_feature_names_out()"
      ],
      "metadata": {
        "colab": {
          "base_uri": "https://localhost:8080/"
        },
        "id": "sMlZogKpUbtu",
        "outputId": "4cdb74a8-28d4-4087-cbb4-517072d08d93"
      },
      "execution_count": null,
      "outputs": [
        {
          "output_type": "execute_result",
          "data": {
            "text/plain": [
              "array(['action', 'adventure', 'ai', 'arts', 'cars', 'comedy', 'dementia',\n",
              "       'demons', 'drama', 'ecchi', 'fantasy', 'fi', 'game', 'harem',\n",
              "       'hentai', 'historical', 'horror', 'josei', 'kids', 'life', 'magic',\n",
              "       'martial', 'mecha', 'military', 'music', 'mystery', 'parody',\n",
              "       'police', 'power', 'psychological', 'romance', 'samurai', 'school',\n",
              "       'sci', 'seinen', 'shoujo', 'shounen', 'slice', 'space', 'sports',\n",
              "       'super', 'supernatural', 'thriller', 'vampire', 'yaoi', 'yuri'],\n",
              "      dtype=object)"
            ]
          },
          "metadata": {},
          "execution_count": 106
        }
      ]
    },
    {
      "cell_type": "markdown",
      "source": [
        "### **Prepocesing for development model deep learning**"
      ],
      "metadata": {
        "id": "Hbb_QZ86meYd"
      }
    },
    {
      "cell_type": "markdown",
      "source": [
        "pada tahap ini kita akan melakukan beberapa pemrosesan untuk mempersiapkan data untuk proses training model deeplearning pada colaborative filtering."
      ],
      "metadata": {
        "id": "BDiQBzOxm8v4"
      }
    },
    {
      "cell_type": "markdown",
      "source": [
        "pertama kita perlu Membentuk **user_id** menjadi list sebelum proses pelatihan model deep learning untuk **colaborative filtering** bertujuan untuk memudahkan manipulasi dan pemrosesan data. Dengan mengonversi **user_id** yang unik menjadi list, kita dapat dengan mudah mengakses setiap ID pengguna untuk membuat representasi data yang diperlukan, seperti memetakan preferensi pengguna atau melakukan encoding ID pengguna."
      ],
      "metadata": {
        "id": "DlxvwLWBni-e"
      }
    },
    {
      "cell_type": "code",
      "source": [
        "user_ids = rating['user_id'].unique().tolist()"
      ],
      "metadata": {
        "id": "o9YAelC4VtiI"
      },
      "execution_count": 66,
      "outputs": []
    },
    {
      "cell_type": "markdown",
      "source": [
        "Pada bagian ini, **1000 pengguna** diambil secara acak dari total **7.813.736 pengguna** yang ada dalam dataset. Hal ini dilakukan dengan menggunakan **`np.random.choice()`** untuk memilih 1000 **user\\_id** secara acak, tanpa pengulangan (`replace=False`).\n",
        "\n",
        "Penyaringan ini bertujuan untuk mengurangi ukuran data yang digunakan dalam tahap eksperimen atau pelatihan model, karena **keterbatasan komputasi** yang dimiliki. Dengan hanya menggunakan sebagian data, proses pelatihan menjadi lebih cepat dan efisien, serta menghindari overfitting jika hanya ingin menguji algoritma atau model dalam skala yang lebih kecil. Setelah itu, data rating untuk 1000 pengguna yang terpilih diambil menggunakan **`isin()`**, yang memungkinkan kita memfilter rating hanya untuk pengguna yang ada dalam sample tersebut.\n"
      ],
      "metadata": {
        "id": "993eH7wqoKHv"
      }
    },
    {
      "cell_type": "code",
      "source": [
        "# Mengambil 1000 pengguna secara acak\n",
        "sample_users = np.random.choice(user_ids, 1000, replace=False)\n",
        "\n",
        "# Mengambil data rating untuk 1000 pengguna terpilih\n",
        "ratings_subset = rating[rating['user_id'].isin(sample_users)]"
      ],
      "metadata": {
        "id": "7ehTyy2ca-9L"
      },
      "execution_count": 68,
      "outputs": []
    },
    {
      "cell_type": "markdown",
      "source": [
        "Kode ini digunakan untuk memeriksa rentang nilai rating dalam dataset agar memastikan nilai rating yang diberikan berada dalam batas yang diharapkan (antara 1 hingga 10). Dengan memeriksa nilai **`min()`** dan **`max()`**, kita dapat mengidentifikasi apakah ada rating yang berada di luar rentang yang diinginkan, seperti **`-1`**, yang menandakan pengguna telah menonton anime tetapi belum memberikan rating.\n",
        "\n",
        "Pengecekan rentang ini penting untuk memastikan bahwa data yang digunakan dalam proses rekomendasi tidak melampaui batas yang ditentukan. Hal ini mencegah masalah dalam perhitungan kemiripan dan membantu model memberikan rekomendasi yang valid dan akurat.\n"
      ],
      "metadata": {
        "id": "nHkxj7zzooFj"
      }
    },
    {
      "cell_type": "code",
      "source": [
        "min_rating = ratings_subset['rating'].min()\n",
        "max_rating = ratings_subset['rating'].max()\n",
        "print(f\"Rating range: {min_rating} - {max_rating}\")"
      ],
      "metadata": {
        "colab": {
          "base_uri": "https://localhost:8080/"
        },
        "id": "FcKE13UgfeUl",
        "outputId": "296468a4-d712-4462-a3ea-684df6d863ba"
      },
      "execution_count": 69,
      "outputs": [
        {
          "output_type": "stream",
          "name": "stdout",
          "text": [
            "Rating range: -1 - 10\n"
          ]
        }
      ]
    },
    {
      "cell_type": "markdown",
      "source": [
        "Kode ini melakukan normalisasi pada nilai rating dengan rentang [0, 1], agar nilai rating berada dalam skala yang seragam. Proses normalisasi ini sangat penting karena model deep learning yang digunakan untuk sistem rekomendasi biasanya bekerja lebih baik dengan data yang berada dalam skala yang konsisten. Dalam hal ini, rating yang awalnya berada di rentang 1 hingga 10 diubah menjadi rentang 0 hingga 1 menggunakan rumus: rating_normalize = (rating - min_rating)/ (max_rating - min_rating)"
      ],
      "metadata": {
        "id": "OqEWt36cpjRr"
      }
    },
    {
      "cell_type": "markdown",
      "source": [
        "Normalisasi ini dilakukan karena model deep learning sering kali bekerja dengan binary classification atau output kontinu dalam rentang 0 hingga 1, sehingga sangat membantu untuk menjaga stabilitas pelatihan dan memastikan bahwa model dapat menginterpretasikan nilai rating dengan benar dalam proses pembelajaran."
      ],
      "metadata": {
        "id": "HFRZSphUptkl"
      }
    },
    {
      "cell_type": "code",
      "source": [
        "# Normalisasi rating ke [0, 1]\n",
        "ratings_subset['rating_normalized'] = (ratings_subset['rating'] - min_rating) / (max_rating - min_rating)"
      ],
      "metadata": {
        "colab": {
          "base_uri": "https://localhost:8080/"
        },
        "id": "BVuaza19fjlS",
        "outputId": "489a4e81-7c18-4198-ab06-df7be88216a7"
      },
      "execution_count": 70,
      "outputs": [
        {
          "output_type": "stream",
          "name": "stderr",
          "text": [
            "<ipython-input-70-204146937>:2: SettingWithCopyWarning: \n",
            "A value is trying to be set on a copy of a slice from a DataFrame.\n",
            "Try using .loc[row_indexer,col_indexer] = value instead\n",
            "\n",
            "See the caveats in the documentation: https://pandas.pydata.org/pandas-docs/stable/user_guide/indexing.html#returning-a-view-versus-a-copy\n",
            "  ratings_subset['rating_normalized'] = (ratings_subset['rating'] - min_rating) / (max_rating - min_rating)\n"
          ]
        }
      ]
    },
    {
      "cell_type": "markdown",
      "source": [
        "Kode ini mengambil **`anime_id`** yang unik dari subset **ratings\\_subset**, yang hanya mencakup anime yang ada dalam subset tersebut, dan menyimpan **`sample_users`** sebagai **`user_ids_subset`** untuk digunakan dalam proses selanjutnya.\n"
      ],
      "metadata": {
        "id": "9mfzVmcFp9-N"
      }
    },
    {
      "cell_type": "code",
      "source": [
        "anime_ids = ratings_subset['anime_id'].unique()  # Hanya anime yang ada di subset\n",
        "user_ids_subset = sample_users"
      ],
      "metadata": {
        "id": "5KDSh4Qgfmea"
      },
      "execution_count": 71,
      "outputs": []
    },
    {
      "cell_type": "markdown",
      "source": [
        "Kode ini membuat dua dictionary, **`anime_to_idx`** dan **`user_to_idx`**, yang memetakan **`anime_id`** dan **`user_id`** ke indeks numerik unik. Hal ini dilakukan dengan menggunakan fungsi **`enumerate()`**, yang memberikan pasangan indeks dan nilai dari masing-masing daftar **`anime_ids`** dan **`user_ids_subset`**. Pemetaan ini penting untuk mengonversi ID yang berbentuk string atau objek menjadi representasi numerik yang lebih mudah diproses oleh model deep learning dalam tahap pelatihan.\n"
      ],
      "metadata": {
        "id": "c-y7HhKJqICV"
      }
    },
    {
      "cell_type": "code",
      "source": [
        "anime_to_idx = {anime_id: idx for idx, anime_id in enumerate(anime_ids)}\n",
        "user_to_idx = {user_id: idx for idx, user_id in enumerate(user_ids_subset)}"
      ],
      "metadata": {
        "id": "8eAGH7MjfokK"
      },
      "execution_count": 72,
      "outputs": []
    },
    {
      "cell_type": "markdown",
      "source": [
        "Kode ini menambahkan dua kolom baru pada **`ratings_subset`**:\n",
        "\n",
        "1. **`anime_idx`**: Kolom ini berisi indeks numerik untuk setiap **`anime_id`**, yang dipetakan menggunakan dictionary **`anime_to_idx`**.\n",
        "2. **`user_idx`**: Kolom ini berisi indeks numerik untuk setiap **`user_id`**, yang dipetakan menggunakan dictionary **`user_to_idx`**.\n",
        "\n",
        "Pemetaan ini mengonversi **`anime_id`** dan **`user_id`** yang awalnya berbentuk ID menjadi representasi numerik, yang mempermudah pemrosesan data dalam model deep learning.\n"
      ],
      "metadata": {
        "id": "BqAQXGSBqTfb"
      }
    },
    {
      "cell_type": "code",
      "source": [
        "ratings_subset['anime_idx'] = ratings_subset['anime_id'].map(anime_to_idx)\n",
        "ratings_subset['user_idx'] = ratings_subset['user_id'].map(user_to_idx)"
      ],
      "metadata": {
        "colab": {
          "base_uri": "https://localhost:8080/"
        },
        "id": "GgXzo6KrfrUQ",
        "outputId": "6a74a88c-f0b7-4396-b82e-813faf92d68b"
      },
      "execution_count": 73,
      "outputs": [
        {
          "output_type": "stream",
          "name": "stderr",
          "text": [
            "<ipython-input-73-3070710567>:1: SettingWithCopyWarning: \n",
            "A value is trying to be set on a copy of a slice from a DataFrame.\n",
            "Try using .loc[row_indexer,col_indexer] = value instead\n",
            "\n",
            "See the caveats in the documentation: https://pandas.pydata.org/pandas-docs/stable/user_guide/indexing.html#returning-a-view-versus-a-copy\n",
            "  ratings_subset['anime_idx'] = ratings_subset['anime_id'].map(anime_to_idx)\n",
            "<ipython-input-73-3070710567>:2: SettingWithCopyWarning: \n",
            "A value is trying to be set on a copy of a slice from a DataFrame.\n",
            "Try using .loc[row_indexer,col_indexer] = value instead\n",
            "\n",
            "See the caveats in the documentation: https://pandas.pydata.org/pandas-docs/stable/user_guide/indexing.html#returning-a-view-versus-a-copy\n",
            "  ratings_subset['user_idx'] = ratings_subset['user_id'].map(user_to_idx)\n"
          ]
        }
      ]
    },
    {
      "cell_type": "markdown",
      "source": [
        "Kode ini menghapus baris-baris dalam **`ratings_subset`** yang memiliki nilai **`NaN`** pada kolom **`anime_idx`** atau **`user_idx`**, yang berarti data tersebut tidak ter-mapping dengan benar ke indeks numerik. Hal ini dilakukan untuk memastikan bahwa hanya data yang valid dan ter-mapping dengan benar yang digunakan dalam proses pelatihan model.\n"
      ],
      "metadata": {
        "id": "GBmgHvoaqj9O"
      }
    },
    {
      "cell_type": "code",
      "source": [
        "# Hapus data yang tidak ter-mapping\n",
        "ratings_subset = ratings_subset.dropna(subset=['anime_idx', 'user_idx'])"
      ],
      "metadata": {
        "id": "vXZj61ylftzD"
      },
      "execution_count": 76,
      "outputs": []
    },
    {
      "cell_type": "markdown",
      "source": [
        "Kode ini menampilkan informasi tentang jumlah data yang telah diproses setelah tahap preprocessing:\n",
        "\n",
        "Tujuan dari kode ini adalah untuk memberikan gambaran tentang ukuran data yang telah disaring dan siap digunakan untuk pelatihan model.\n"
      ],
      "metadata": {
        "id": "I9n0ZvYXq7XM"
      }
    },
    {
      "cell_type": "code",
      "source": [
        "print(f\"Data setelah preprocessing: {len(ratings_subset)} ratings\")\n",
        "print(f\"Jumlah users: {len(user_ids_subset)}\")\n",
        "print(f\"Jumlah anime: {len(anime_ids)}\")"
      ],
      "metadata": {
        "colab": {
          "base_uri": "https://localhost:8080/"
        },
        "id": "TWH1UZYLfxOK",
        "outputId": "3077ede0-dfe5-413a-82aa-c6771c6f6d6c"
      },
      "execution_count": 75,
      "outputs": [
        {
          "output_type": "stream",
          "name": "stdout",
          "text": [
            "Data setelah preprocessing: 100892 ratings\n",
            "Jumlah users: 1000\n",
            "Jumlah anime: 5389\n"
          ]
        }
      ]
    },
    {
      "cell_type": "markdown",
      "source": [
        "Output ini menunjukkan setelah preprocessing, terdapat **102,252 rating** yang valid, dengan **1000 pengguna** dan **5496 anime** yang terdaftar. Data ini sudah disaring dan siap digunakan untuk pelatihan model.\n"
      ],
      "metadata": {
        "id": "SfBGjOJoq3Fc"
      }
    },
    {
      "cell_type": "markdown",
      "source": [
        "Kode ini menyiapkan data untuk pelatihan model. **`x_train_val`** berisi pasangan **`user_idx`** dan **`anime_idx`** sebagai fitur (input), sementara **`y_train_val`** berisi **rating yang sudah dinormalisasi** sebagai target (output). Kedua variabel ini akan digunakan untuk melatih model deep learning.\n"
      ],
      "metadata": {
        "id": "3TJYieq6rKF0"
      }
    },
    {
      "cell_type": "code",
      "source": [
        "x_train_val = ratings_subset[['user_idx', 'anime_idx']].values\n",
        "y_train_val = ratings_subset['rating_normalized'].values  # Gunakan yang sudah dinormalisasi"
      ],
      "metadata": {
        "id": "-0Ph2j7Pfyuc"
      },
      "execution_count": 78,
      "outputs": []
    },
    {
      "cell_type": "markdown",
      "source": [
        "Kode ini membagi data menjadi **training set** dan **validation set** menggunakan fungsi **`train_test_split`**. Data **`x_train_val`** (fitur) dan **`y_train_val`** (target) dibagi dengan proporsi 80% untuk **training** dan 20% untuk **validation** (`test_size=0.2`). **`random_state=42`** memastikan bahwa pembagian data dilakukan secara konsisten setiap kali kode dijalankan. Hasilnya, data pelatihan disimpan dalam **`x_train`** dan **`y_train`**, sementara data validasi disimpan dalam **`x_val`** dan **`y_val`**.\n"
      ],
      "metadata": {
        "id": "CtMMeIQNrn-k"
      }
    },
    {
      "cell_type": "code",
      "source": [
        "x_train, x_val, y_train, y_val = train_test_split(\n",
        "    x_train_val, y_train_val,\n",
        "    test_size=0.2,\n",
        "    random_state=42\n",
        ")"
      ],
      "metadata": {
        "id": "DXZ_YHRNf2UW"
      },
      "execution_count": 81,
      "outputs": []
    },
    {
      "cell_type": "markdown",
      "source": [
        "## **Modelling and Result**"
      ],
      "metadata": {
        "id": "ffNwcoWs0Wwk"
      }
    },
    {
      "cell_type": "markdown",
      "source": [
        "pada tahap ini kita akan membuat 2 model yaitu content based yang akan menggunakan cosine similiarity dan colaborative menggunakan deep learing"
      ],
      "metadata": {
        "id": "DOXVpDEJ0apK"
      }
    },
    {
      "cell_type": "markdown",
      "source": [
        "### **Content Based**"
      ],
      "metadata": {
        "id": "UO47y4JZ0pW_"
      }
    },
    {
      "cell_type": "markdown",
      "source": [
        "Kode ini menghitung **cosine similarity** antara anime berdasarkan genre yang telah diubah menjadi matriks **TF-IDF**. Fungsi **`cosine_similarity()`** mengukur kemiripan antara setiap pasangan anime dalam dataset. Hasilnya adalah matriks yang menunjukkan seberapa mirip genre setiap anime, dengan ukuran **(n\\_samples, n\\_samples)**, di mana **n\\_samples** adalah jumlah anime. Matriks ini kemudian digunakan untuk memberikan rekomendasi anime berdasarkan kesamaan genre.\n"
      ],
      "metadata": {
        "id": "ZBlrL9Oa1Hq9"
      }
    },
    {
      "cell_type": "code",
      "source": [
        "# Menghitung cosine similarity antara anime berdasarkan genre\n",
        "cosine_sim = cosine_similarity(tfidf_matrix, tfidf_matrix)\n",
        "\n",
        "# Cek bentuk matriks cosine similarity\n",
        "print(cosine_sim.shape)  # (n_samples, n_samples)\n"
      ],
      "metadata": {
        "colab": {
          "base_uri": "https://localhost:8080/"
        },
        "id": "VWNJh1nnUkUh",
        "outputId": "4572ddc2-77cf-4fa5-e5ce-b021c860ef6c"
      },
      "execution_count": 84,
      "outputs": [
        {
          "output_type": "stream",
          "name": "stdout",
          "text": [
            "(11876, 11876)\n"
          ]
        }
      ]
    },
    {
      "cell_type": "markdown",
      "source": [
        "Output **(11876, 11876)** menunjukkan ukuran matriks **cosine similarity** yang dihasilkan, di mana **11876** adalah jumlah anime dalam dataset. Matriks ini berisi nilai kemiripan antara setiap pasangan anime, dengan setiap elemen matriks menunjukkan tingkat kemiripan antara dua anime berdasarkan genre mereka. Jadi, setiap anime dibandingkan dengan semua anime lainnya dalam dataset.\n"
      ],
      "metadata": {
        "id": "_bYwda9s1PHX"
      }
    },
    {
      "cell_type": "markdown",
      "source": [
        "Fungsi **`get_recommendations_fixed(title, cosine_sim)`** memberikan rekomendasi anime berdasarkan **cosine similarity**. Fungsi ini menerima dua argumen: **`title`** (judul anime yang ingin dicari rekomendasinya) dan **`cosine_sim`** (matriks kemiripan antar anime).\n",
        "\n",
        "1. Fungsi mencari indeks anime berdasarkan **`title`**.\n",
        "2. Kemudian, menghitung kemiripan anime tersebut dengan semua anime lainnya menggunakan matriks **cosine\\_sim**.\n",
        "3. Anime yang paling mirip diurutkan berdasarkan skor kemiripan, dan 10 anime teratas (selain anime itu sendiri) diambil sebagai rekomendasi.\n",
        "4. Fungsi mengembalikan DataFrame yang berisi nama anime, genre, dan **similarity score** untuk menunjukkan seberapa mirip anime tersebut dengan yang diminta.\n",
        "\n",
        "Jika judul anime tidak ditemukan, fungsi akan menampilkan pesan error.\n"
      ],
      "metadata": {
        "id": "ouQ9C9Yl1q1o"
      }
    },
    {
      "cell_type": "code",
      "source": [
        "def get_recommendations_fixed(title, cosine_sim=cosine_sim):\n",
        "    try:\n",
        "        # Mendapatkan indeks anime berdasarkan judul\n",
        "        idx = anime[anime['name'] == title].index[0]\n",
        "\n",
        "        # Mendapatkan skor similarity untuk anime yang diminta\n",
        "        sim_scores = list(enumerate(cosine_sim[idx]))\n",
        "\n",
        "        # Mengurutkan anime berdasarkan kemiripan (skor tertinggi)\n",
        "        sim_scores = sorted(sim_scores, key=lambda x: x[1], reverse=True)\n",
        "\n",
        "        # Mengambil 10 anime teratas (selain anime itu sendiri)\n",
        "        sim_scores = sim_scores[1:11]\n",
        "\n",
        "        # Mendapatkan indeks anime yang direkomendasikan\n",
        "        anime_indices = [i[0] for i in sim_scores]\n",
        "\n",
        "        # Membuat DataFrame dengan anime_id, name, genre\n",
        "        recommended_anime = anime[['anime_id', 'name', 'genre']].iloc[anime_indices].copy()\n",
        "\n",
        "        # Menambahkan skor similarity\n",
        "        recommended_anime['similarity_score'] = [i[1] for i in sim_scores]\n",
        "\n",
        "        return recommended_anime\n",
        "\n",
        "    except IndexError:\n",
        "        print(f\"Error: Judul anime '{title}' tidak ditemukan dalam data.\")\n",
        "        return pd.DataFrame()"
      ],
      "metadata": {
        "id": "XpR6PzADUva0"
      },
      "execution_count": 140,
      "outputs": []
    },
    {
      "cell_type": "markdown",
      "source": [
        "setelah fungsi sudah di buat kita dapat melakukan uji coba rekomendasi, di bawah ini di lakukan input judul anime `Fairy Tail (2014)`"
      ],
      "metadata": {
        "id": "xh7SHDV912mm"
      }
    },
    {
      "cell_type": "code",
      "source": [
        "# Contoh penggunaan: mendapatkan rekomendasi berdasarkan anime 'One Piece'\n",
        "recs = get_recommendations_fixed('Fairy Tail (2014)')\n",
        "print(recs)"
      ],
      "metadata": {
        "colab": {
          "base_uri": "https://localhost:8080/"
        },
        "id": "YKMPKXblVKHW",
        "outputId": "185392c7-eaec-4138-be0e-93c966f24ea3"
      },
      "execution_count": 147,
      "outputs": [
        {
          "output_type": "stream",
          "name": "stdout",
          "text": [
            "      anime_id                                               name  \\\n",
            "257      20899       JoJo no Kimyou na Bouken: Stardust Crusaders   \n",
            "2598       762                       Bleach: Memories in the Rain   \n",
            "76       31933     JoJo no Kimyou na Bouken: Diamond wa Kudakenai   \n",
            "803        154                                        Shaman King   \n",
            "113      30503                                   Noragami Aragoto   \n",
            "339      20507                                           Noragami   \n",
            "1274      2889  Bleach Movie 2: The DiamondDust Rebellion - Mo...   \n",
            "1648      2125                     Yuu☆Yuu☆Hakusho: Eizou Hakusho   \n",
            "7180      1052                                   Tokyo Juushouden   \n",
            "7285     25591             Tokyo Juushouden: Fuuma Gogyou Denshou   \n",
            "\n",
            "                                                  genre  similarity_score  \n",
            "257         Action Adventure Drama Shounen Supernatural          1.000000  \n",
            "2598        Action Adventure Drama Shounen Supernatural          1.000000  \n",
            "76    Action Adventure Comedy Drama Shounen Supernat...          0.956163  \n",
            "803   Action Adventure Comedy Drama Shounen Supernat...          0.956163  \n",
            "113               Action Adventure Shounen Supernatural          0.901095  \n",
            "339               Action Adventure Shounen Supernatural          0.901095  \n",
            "1274              Action Adventure Shounen Supernatural          0.901095  \n",
            "1648              Action Adventure Shounen Supernatural          0.901095  \n",
            "7180              Action Adventure Shounen Supernatural          0.901095  \n",
            "7285              Action Adventure Shounen Supernatural          0.901095  \n"
          ]
        }
      ]
    },
    {
      "cell_type": "markdown",
      "source": [
        "hasil rekomendasi menunjukkab bahwa anime yang genrenya mirip engan fairy tail adalah\n",
        "- JoJo no Kimyou na Bouken: Stardust Crusaders   \n",
        "- Bleach: - Memories in the Rain   \n",
        "- JoJo no Kimyou na Bouken: Diamond wa Kudakenai   \n",
        "- Shaman King   \n",
        "- Noragami Aragoto   \n",
        "- Noragami   \n",
        "- Bleach Movie 2: The DiamondDust - -Rebellion - Mo...   \n",
        "- Yuu☆Yuu☆Hakusho: Eizou Hakusho   \n",
        "- Tokyo Juushouden   \n",
        "- Tokyo Juushouden: Fuuma Gogyou Denshou\n"
      ],
      "metadata": {
        "id": "UjWvHvpf2D9Z"
      }
    },
    {
      "cell_type": "markdown",
      "source": [
        "Kode ini digunakan untuk menghitung **Precision\\@K** dan **Recall\\@K** dalam sistem rekomendasi anime berbasis **anime\\_id**. Fungsi **`precision_at_k_fixed()`** menghitung proporsi anime relevan di dalam **K rekomendasi teratas**, yang mengukur seberapa baik sistem memberikan rekomendasi yang sesuai dengan preferensi pengguna. Sedangkan, fungsi **`recall_at_k_fixed()`** mengukur seberapa banyak anime relevan ditemukan dalam **K rekomendasi teratas** dibandingkan dengan **total anime relevan** yang telah dinilai oleh pengguna.\n",
        "\n",
        "Pada bagian ini, **`recommended_anime_ids`** digunakan untuk mendapatkan **anime\\_id** dari rekomendasi teratas, dan dibandingkan dengan **user\\_rated\\_animes** untuk menentukan relevansi. Fungsi ini memastikan evaluasi dilakukan dengan cara yang sesuai, bahkan ketika pengguna tidak memberikan rating untuk anime tertentu, menghindari pembagian dengan nol dengan memberikan nilai **0.0** pada recall jika tidak ada anime yang dinilai.\n"
      ],
      "metadata": {
        "id": "eGeFmn9VTSMk"
      }
    },
    {
      "cell_type": "code",
      "source": [
        "# Perbaikan fungsi evaluasi\n",
        "def precision_at_k_fixed(recommended_anime, user_rated_animes, k=10):\n",
        "    if recommended_anime.empty:\n",
        "        return 0.0\n",
        "\n",
        "    # Gunakan anime_id untuk perbandingan\n",
        "    recommended_anime_ids = set(recommended_anime.head(k)['anime_id'])\n",
        "    relevant_animes = recommended_anime_ids.intersection(user_rated_animes)\n",
        "    return len(relevant_animes) / k\n",
        "\n",
        "def recall_at_k_fixed(recommended_anime, user_rated_animes, k=10):\n",
        "    if recommended_anime.empty:\n",
        "        return 0.0\n",
        "\n",
        "    # Gunakan anime_id untuk perbandingan\n",
        "    recommended_anime_ids = set(recommended_anime.head(k)['anime_id'])\n",
        "    relevant_animes = recommended_anime_ids.intersection(user_rated_animes)\n",
        "    return len(relevant_animes) / len(user_rated_animes) if len(user_rated_animes) > 0 else 0.0\n"
      ],
      "metadata": {
        "id": "54SGv9MgLJtw"
      },
      "execution_count": 150,
      "outputs": []
    },
    {
      "cell_type": "markdown",
      "source": [
        "Kode ini digunakan untuk evaluasi sistem rekomendasi dengan pendekatan yang lebih terperinci. Fungsi evaluate_recommendation_system() melakukan evaluasi precision dan recall pada sistem rekomendasi berbasis Content-Based Filtering untuk pengguna tertentu. Fungsi ini melakukan evaluasi dengan menggunakan anime yang sudah dinilai oleh pengguna sebagai data uji, menghitung rata-rata precision@10 dan recall@10, serta menampilkan F1-Score yang menggabungkan kedua metrik tersebut."
      ],
      "metadata": {
        "id": "RUpqPtTHTifO"
      }
    },
    {
      "cell_type": "code",
      "source": [
        "\n",
        "# Testing dengan pendekatan yang lebih baik\n",
        "def evaluate_recommendation_system(user_id, n_test_animes=5):\n",
        "    \"\"\"\n",
        "    Evaluasi sistem rekomendasi dengan cara yang lebih tepat\n",
        "    \"\"\"\n",
        "    # Ambil anime yang sudah dinilai oleh user\n",
        "    user_rated_animes = set(rating[rating['user_id'] == user_id]['anime_id'].values)\n",
        "\n",
        "    if len(user_rated_animes) < 2:\n",
        "        print(f\"User {user_id} belum menilai cukup anime untuk testing.\")\n",
        "        return\n",
        "\n",
        "    # Ambil beberapa anime yang sudah dinilai sebagai test set\n",
        "    test_animes = list(user_rated_animes)[:n_test_animes]\n",
        "\n",
        "    total_precision = 0\n",
        "    total_recall = 0\n",
        "    valid_tests = 0\n",
        "\n",
        "    print(f\"Evaluasi untuk User {user_id}:\")\n",
        "    print(f\"Total anime yang sudah dinilai: {len(user_rated_animes)}\")\n",
        "    print(\"-\" * 50)\n",
        "\n",
        "    for anime_id in test_animes:\n",
        "        # Cari nama anime\n",
        "        anime_name_row = anime[anime['anime_id'] == anime_id]\n",
        "        if anime_name_row.empty:\n",
        "            continue\n",
        "\n",
        "        anime_name = anime_name_row['name'].iloc[0]\n",
        "\n",
        "        # Dapatkan rekomendasi\n",
        "        recommendations = get_recommendations_fixed(anime_name, cosine_sim=cosine_sim)\n",
        "\n",
        "        if not recommendations.empty:\n",
        "            precision = precision_at_k_fixed(recommendations, user_rated_animes, k=10)\n",
        "            recall = recall_at_k_fixed(recommendations, user_rated_animes, k=10)\n",
        "\n",
        "            total_precision += precision\n",
        "            total_recall += recall\n",
        "            valid_tests += 1\n",
        "\n",
        "            print(f\"Anime: {anime_name}\")\n",
        "            print(f\"  Precision@10: {precision:.4f}\")\n",
        "            print(f\"  Recall@10: {recall:.4f}\")\n",
        "            print()\n",
        "\n",
        "    if valid_tests > 0:\n",
        "        avg_precision = total_precision / valid_tests\n",
        "        avg_recall = total_recall / valid_tests\n",
        "\n",
        "        print(\"=\" * 50)\n",
        "        print(f\"Rata-rata Precision@10: {avg_precision:.4f}\")\n",
        "        print(f\"Rata-rata Recall@10: {avg_recall:.4f}\")\n",
        "        print(f\"F1-Score: {2 * (avg_precision * avg_recall) / (avg_precision + avg_recall) if (avg_precision + avg_recall) > 0 else 0:.4f}\")\n",
        "    else:\n",
        "        print(\"Tidak ada test yang valid.\")\n",
        "\n",
        "# Testing dengan user yang berbeda\n",
        "test_user_id = 57620\n",
        "evaluate_recommendation_system(test_user_id)"
      ],
      "metadata": {
        "colab": {
          "base_uri": "https://localhost:8080/"
        },
        "id": "vcK-MRAHS7M8",
        "outputId": "c1ab1360-fcc7-42b3-a0a0-5440aa78194a"
      },
      "execution_count": 154,
      "outputs": [
        {
          "output_type": "stream",
          "name": "stdout",
          "text": [
            "Evaluasi untuk User 57620:\n",
            "Total anime yang sudah dinilai: 2702\n",
            "--------------------------------------------------\n",
            "Anime: Cowboy Bebop\n",
            "  Precision@10: 0.3000\n",
            "  Recall@10: 0.0011\n",
            "\n",
            "Anime: Dog Days&#039;&#039;\n",
            "  Precision@10: 0.3000\n",
            "  Recall@10: 0.0011\n",
            "\n",
            "Anime: Cowboy Bebop: Tengoku no Tobira\n",
            "  Precision@10: 0.4000\n",
            "  Recall@10: 0.0015\n",
            "\n",
            "Anime: Trigun\n",
            "  Precision@10: 1.0000\n",
            "  Recall@10: 0.0037\n",
            "\n",
            "Anime: Witch Hunter Robin\n",
            "  Precision@10: 0.5000\n",
            "  Recall@10: 0.0019\n",
            "\n",
            "==================================================\n",
            "Rata-rata Precision@10: 0.5000\n",
            "Rata-rata Recall@10: 0.0019\n",
            "F1-Score: 0.0037\n"
          ]
        }
      ]
    },
    {
      "cell_type": "markdown",
      "source": [
        "Output menunjukkan evaluasi sistem rekomendasi untuk **User 57620**.\n",
        "\n",
        "* **Precision\\@10** rata-rata adalah **0.5000**, artinya **50%** dari rekomendasi yang diberikan relevan.\n",
        "* **Recall\\@10** rata-rata adalah **0.0019**, yang sangat rendah, artinya hanya **0.19%** dari anime relevan yang ditemukan dalam **10 rekomendasi teratas**.\n",
        "* **F1-Score** yang rendah (**0.0037**) mencerminkan ketidakseimbangan antara **precision** yang lebih baik dan **recall** yang buruk.\n",
        "\n",
        "Secara keseluruhan, meskipun sistem mampu memberikan beberapa rekomendasi yang relevan, sistem ini kesulitan menemukan banyak anime relevan dalam **10 rekomendasi teratas**, yang menyebabkan skor **recall** dan **F1-Score** yang sangat rendah.\n"
      ],
      "metadata": {
        "id": "_abJx8e4UdKQ"
      }
    },
    {
      "cell_type": "markdown",
      "source": [
        "### **Colaborative Filtering**"
      ],
      "metadata": {
        "id": "QJpIy9mo3dpQ"
      }
    },
    {
      "cell_type": "markdown",
      "source": [
        "Kode ini mendefinisikan model **RecommenderNet** untuk sistem rekomendasi berbasis **deep learning** menggunakan TensorFlow. Model ini menggunakan teknik **embedding** untuk mempelajari representasi vektor dari pengguna dan anime.\n",
        "\n",
        "Pada bagian awal, model ini menginisialisasi **embedding** untuk **user** dan **anime**, di mana setiap pengguna dan anime dipetakan ke vektor berdimensi **embedding\\_size**. Regularisasi **L2** yang sangat kecil ditambahkan untuk mencegah overfitting. Selain itu, ada juga **bias** untuk masing-masing pengguna dan anime, yang membantu model mempelajari pengaruh umum dari masing-masing pengguna dan anime.\n",
        "\n",
        "Fungsi **`call()`** adalah bagian utama dari model yang menghitung prediksi skor rating. Vektor pengguna dan anime diambil dari embedding yang sesuai, kemudian dihitung **dot product** antara keduanya untuk mengukur interaksi. **Dropout** diterapkan selama pelatihan untuk menghindari overfitting. Hasil dot product digabungkan dengan **bias** pengguna dan anime untuk menghasilkan skor akhir, yang kemudian diproses melalui fungsi aktivasi **sigmoid** untuk menghasilkan prediksi rating antara **0 dan 1**.\n",
        "\n",
        "Model ini dirancang untuk mempelajari hubungan antara pengguna dan anime untuk memberikan rekomendasi berdasarkan pola interaksi yang ditemukan selama pelatihan.\n"
      ],
      "metadata": {
        "id": "RFNBx8VH3s_x"
      }
    },
    {
      "cell_type": "code",
      "source": [
        "class RecommenderNet(tf.keras.Model):\n",
        "    def __init__(self, num_users, num_animes, embedding_size, **kwargs):\n",
        "        super(RecommenderNet, self).__init__(**kwargs)\n",
        "\n",
        "        self.num_users = num_users\n",
        "        self.num_animes = num_animes\n",
        "        self.embedding_size = embedding_size\n",
        "\n",
        "        # Perbaikan 4: Regularisasi yang lebih kecil\n",
        "        self.user_embedding = layers.Embedding(\n",
        "            num_users,\n",
        "            embedding_size,\n",
        "            embeddings_initializer='he_normal',\n",
        "            embeddings_regularizer=keras.regularizers.l2(1e-7)  # Lebih kecil\n",
        "        )\n",
        "\n",
        "        self.user_bias = layers.Embedding(\n",
        "            num_users, 1,\n",
        "            embeddings_initializer='zeros'\n",
        "        )\n",
        "\n",
        "        self.anime_embedding = layers.Embedding(\n",
        "            num_animes,\n",
        "            embedding_size,\n",
        "            embeddings_initializer='he_normal',\n",
        "            embeddings_regularizer=keras.regularizers.l2(1e-7)  # Lebih kecil\n",
        "        )\n",
        "\n",
        "        self.anime_bias = layers.Embedding(\n",
        "            num_animes, 1,\n",
        "            embeddings_initializer='zeros'\n",
        "        )\n",
        "\n",
        "        # Perbaikan 5: Tambah dropout untuk mencegah overfitting\n",
        "        self.dropout = layers.Dropout(0.2)\n",
        "\n",
        "    def call(self, inputs, training=None):\n",
        "        user_vector = self.user_embedding(inputs[:, 0])\n",
        "        user_bias = self.user_bias(inputs[:, 0])\n",
        "\n",
        "        anime_vector = self.anime_embedding(inputs[:, 1])\n",
        "        anime_bias = self.anime_bias(inputs[:, 1])\n",
        "\n",
        "        # Apply dropout\n",
        "        if training:\n",
        "            user_vector = self.dropout(user_vector, training=training)\n",
        "            anime_vector = self.dropout(anime_vector, training=training)\n",
        "\n",
        "        # Perbaikan 6: Dot product yang benar\n",
        "        dot_product = tf.reduce_sum(user_vector * anime_vector, axis=1)\n",
        "        dot_product = tf.expand_dims(dot_product, 1)\n",
        "\n",
        "        # Menghitung skor akhir\n",
        "        x = dot_product + user_bias + anime_bias\n",
        "        return tf.nn.sigmoid(x)\n"
      ],
      "metadata": {
        "id": "0g2wxhVhf4TT"
      },
      "execution_count": 88,
      "outputs": []
    },
    {
      "cell_type": "markdown",
      "source": [
        "Kode ini menghitung jumlah **pengguna** (`num_users`) dan **anime** (`num_animes`) dalam dataset berdasarkan **`user_ids_subset`** dan **`anime_ids`**, yang digunakan untuk mengatur ukuran **embedding** dalam model.\n"
      ],
      "metadata": {
        "id": "566N8vdh38HA"
      }
    },
    {
      "cell_type": "code",
      "source": [
        "num_users = len(user_ids_subset)\n",
        "num_animes = len(anime_ids)"
      ],
      "metadata": {
        "id": "mULpvimnf9HW"
      },
      "execution_count": 89,
      "outputs": []
    },
    {
      "cell_type": "markdown",
      "source": [
        "Kode ini menginisialisasi model **RecommenderNet** dengan jumlah **pengguna** (`num_users`), **anime** (`num_animes`), dan ukuran **embedding** sebesar **64**. Kemudian, model dikompilasi dengan pengaturan berikut:\n",
        "\n",
        "1. **Loss function**: Menggunakan **`MeanSquaredError`** untuk menghitung selisih kuadrat antara prediksi dan nilai asli.\n",
        "2. **Optimizer**: **Adam optimizer** dengan **learning rate** yang lebih kecil (**0.0001**) untuk meningkatkan stabilitas pelatihan dan mencegah overfitting.\n",
        "3. **Metrics**: Menggunakan dua metrik, **Root Mean Squared Error (RMSE)** dan **Mean Absolute Error (MAE)**, untuk mengevaluasi seberapa baik model memprediksi rating anime.\n",
        "\n",
        "Model ini siap untuk dilatih dengan pengaturan yang lebih baik untuk stabilitas dan akurasi.\n"
      ],
      "metadata": {
        "id": "fGHrSosS4F4s"
      }
    },
    {
      "cell_type": "code",
      "source": [
        "model = RecommenderNet(num_users, num_animes, embedding_size=64)  # Embedding size lebih besar\n",
        "\n",
        "# Perbaikan 7: Optimizer dan learning rate yang lebih baik\n",
        "model.compile(\n",
        "    loss=tf.keras.losses.MeanSquaredError(),\n",
        "    optimizer=keras.optimizers.Adam(learning_rate=0.0001),  # Learning rate lebih kecil\n",
        "    metrics=[tf.keras.metrics.RootMeanSquaredError(), tf.keras.metrics.MeanAbsoluteError()]\n",
        ")"
      ],
      "metadata": {
        "id": "dtMFFxl7f-4s"
      },
      "execution_count": 90,
      "outputs": []
    },
    {
      "cell_type": "markdown",
      "source": [
        "Kode ini menambahkan **callbacks** untuk memperbaiki pelatihan model:\n",
        "\n",
        "1. **`EarlyStopping`** menghentikan pelatihan jika **`val_loss`** tidak membaik selama 5 epoch berturut-turut, dan mengembalikan bobot terbaik.\n",
        "2. **`ReduceLROnPlateau`** mengurangi **learning rate** sebesar 50% jika **`val_loss`** stagnan selama 3 epoch berturut-turut.\n",
        "\n",
        "Keduanya membantu meningkatkan efisiensi pelatihan dan mencegah overfitting.\n"
      ],
      "metadata": {
        "id": "vWXsvueH4Uhu"
      }
    },
    {
      "cell_type": "code",
      "source": [
        "# Perbaikan 8: Callbacks untuk training yang lebih baik\n",
        "callbacks = [\n",
        "    tf.keras.callbacks.EarlyStopping(\n",
        "        patience=5,\n",
        "        restore_best_weights=True,\n",
        "        monitor='val_loss'\n",
        "    ),\n",
        "    tf.keras.callbacks.ReduceLROnPlateau(\n",
        "        monitor='val_loss',\n",
        "        factor=0.5,\n",
        "        patience=3,\n",
        "        min_lr=1e-7\n",
        "    )\n",
        "]"
      ],
      "metadata": {
        "id": "T1a9OXRdgDCF"
      },
      "execution_count": 91,
      "outputs": []
    },
    {
      "cell_type": "markdown",
      "source": [
        "Kode ini memulai pelatihan model dengan **batch size** 256 dan **50 epochs**. Data validasi digunakan untuk memantau kinerja, dan **callbacks** seperti **early stopping** serta **reduce learning rate** diaktifkan. Pelatihan akan berhenti lebih awal jika tidak ada perbaikan pada **val\\_loss**.\n"
      ],
      "metadata": {
        "id": "Ryli8tff4fMJ"
      }
    },
    {
      "cell_type": "code",
      "source": [
        "print(\"Memulai training...\")\n",
        "history = model.fit(\n",
        "    x_train, y_train,\n",
        "    batch_size=256,  # Batch size lebih besar\n",
        "    epochs=50,  # Lebih banyak epoch dengan early stopping\n",
        "    validation_data=(x_val, y_val),\n",
        "    callbacks=callbacks,\n",
        "    verbose=1\n",
        ")\n"
      ],
      "metadata": {
        "colab": {
          "base_uri": "https://localhost:8080/"
        },
        "id": "l-WYtfbfgGDO",
        "outputId": "434fa42b-52ff-4172-9011-0f7b230dda0a"
      },
      "execution_count": 92,
      "outputs": [
        {
          "output_type": "stream",
          "name": "stdout",
          "text": [
            "Memulai training...\n",
            "Epoch 1/50\n",
            "\u001b[1m316/316\u001b[0m \u001b[32m━━━━━━━━━━━━━━━━━━━━\u001b[0m\u001b[37m\u001b[0m \u001b[1m7s\u001b[0m 13ms/step - loss: 0.1361 - mean_absolute_error: 0.3432 - root_mean_squared_error: 0.3689 - val_loss: 0.1334 - val_mean_absolute_error: 0.3388 - val_root_mean_squared_error: 0.3652 - learning_rate: 1.0000e-04\n",
            "Epoch 2/50\n",
            "\u001b[1m316/316\u001b[0m \u001b[32m━━━━━━━━━━━━━━━━━━━━\u001b[0m\u001b[37m\u001b[0m \u001b[1m4s\u001b[0m 10ms/step - loss: 0.1317 - mean_absolute_error: 0.3365 - root_mean_squared_error: 0.3629 - val_loss: 0.1301 - val_mean_absolute_error: 0.3337 - val_root_mean_squared_error: 0.3606 - learning_rate: 1.0000e-04\n",
            "Epoch 3/50\n",
            "\u001b[1m316/316\u001b[0m \u001b[32m━━━━━━━━━━━━━━━━━━━━\u001b[0m\u001b[37m\u001b[0m \u001b[1m3s\u001b[0m 9ms/step - loss: 0.1284 - mean_absolute_error: 0.3311 - root_mean_squared_error: 0.3583 - val_loss: 0.1269 - val_mean_absolute_error: 0.3286 - val_root_mean_squared_error: 0.3561 - learning_rate: 1.0000e-04\n",
            "Epoch 4/50\n",
            "\u001b[1m316/316\u001b[0m \u001b[32m━━━━━━━━━━━━━━━━━━━━\u001b[0m\u001b[37m\u001b[0m \u001b[1m6s\u001b[0m 12ms/step - loss: 0.1252 - mean_absolute_error: 0.3262 - root_mean_squared_error: 0.3538 - val_loss: 0.1237 - val_mean_absolute_error: 0.3236 - val_root_mean_squared_error: 0.3517 - learning_rate: 1.0000e-04\n",
            "Epoch 5/50\n",
            "\u001b[1m316/316\u001b[0m \u001b[32m━━━━━━━━━━━━━━━━━━━━\u001b[0m\u001b[37m\u001b[0m \u001b[1m4s\u001b[0m 8ms/step - loss: 0.1218 - mean_absolute_error: 0.3207 - root_mean_squared_error: 0.3490 - val_loss: 0.1207 - val_mean_absolute_error: 0.3186 - val_root_mean_squared_error: 0.3474 - learning_rate: 1.0000e-04\n",
            "Epoch 6/50\n",
            "\u001b[1m316/316\u001b[0m \u001b[32m━━━━━━━━━━━━━━━━━━━━\u001b[0m\u001b[37m\u001b[0m \u001b[1m5s\u001b[0m 8ms/step - loss: 0.1185 - mean_absolute_error: 0.3154 - root_mean_squared_error: 0.3441 - val_loss: 0.1177 - val_mean_absolute_error: 0.3135 - val_root_mean_squared_error: 0.3430 - learning_rate: 1.0000e-04\n",
            "Epoch 7/50\n",
            "\u001b[1m316/316\u001b[0m \u001b[32m━━━━━━━━━━━━━━━━━━━━\u001b[0m\u001b[37m\u001b[0m \u001b[1m4s\u001b[0m 12ms/step - loss: 0.1154 - mean_absolute_error: 0.3101 - root_mean_squared_error: 0.3396 - val_loss: 0.1146 - val_mean_absolute_error: 0.3084 - val_root_mean_squared_error: 0.3385 - learning_rate: 1.0000e-04\n",
            "Epoch 8/50\n",
            "\u001b[1m316/316\u001b[0m \u001b[32m━━━━━━━━━━━━━━━━━━━━\u001b[0m\u001b[37m\u001b[0m \u001b[1m4s\u001b[0m 8ms/step - loss: 0.1118 - mean_absolute_error: 0.3041 - root_mean_squared_error: 0.3344 - val_loss: 0.1114 - val_mean_absolute_error: 0.3029 - val_root_mean_squared_error: 0.3337 - learning_rate: 1.0000e-04\n",
            "Epoch 9/50\n",
            "\u001b[1m316/316\u001b[0m \u001b[32m━━━━━━━━━━━━━━━━━━━━\u001b[0m\u001b[37m\u001b[0m \u001b[1m3s\u001b[0m 9ms/step - loss: 0.1089 - mean_absolute_error: 0.2990 - root_mean_squared_error: 0.3299 - val_loss: 0.1079 - val_mean_absolute_error: 0.2970 - val_root_mean_squared_error: 0.3285 - learning_rate: 1.0000e-04\n",
            "Epoch 10/50\n",
            "\u001b[1m316/316\u001b[0m \u001b[32m━━━━━━━━━━━━━━━━━━━━\u001b[0m\u001b[37m\u001b[0m \u001b[1m6s\u001b[0m 12ms/step - loss: 0.1043 - mean_absolute_error: 0.2914 - root_mean_squared_error: 0.3229 - val_loss: 0.1042 - val_mean_absolute_error: 0.2903 - val_root_mean_squared_error: 0.3227 - learning_rate: 1.0000e-04\n",
            "Epoch 11/50\n",
            "\u001b[1m316/316\u001b[0m \u001b[32m━━━━━━━━━━━━━━━━━━━━\u001b[0m\u001b[37m\u001b[0m \u001b[1m3s\u001b[0m 8ms/step - loss: 0.1005 - mean_absolute_error: 0.2842 - root_mean_squared_error: 0.3169 - val_loss: 0.1001 - val_mean_absolute_error: 0.2829 - val_root_mean_squared_error: 0.3163 - learning_rate: 1.0000e-04\n",
            "Epoch 12/50\n",
            "\u001b[1m316/316\u001b[0m \u001b[32m━━━━━━━━━━━━━━━━━━━━\u001b[0m\u001b[37m\u001b[0m \u001b[1m3s\u001b[0m 8ms/step - loss: 0.0960 - mean_absolute_error: 0.2764 - root_mean_squared_error: 0.3098 - val_loss: 0.0956 - val_mean_absolute_error: 0.2745 - val_root_mean_squared_error: 0.3092 - learning_rate: 1.0000e-04\n",
            "Epoch 13/50\n",
            "\u001b[1m316/316\u001b[0m \u001b[32m━━━━━━━━━━━━━━━━━━━━\u001b[0m\u001b[37m\u001b[0m \u001b[1m2s\u001b[0m 8ms/step - loss: 0.0917 - mean_absolute_error: 0.2678 - root_mean_squared_error: 0.3027 - val_loss: 0.0910 - val_mean_absolute_error: 0.2654 - val_root_mean_squared_error: 0.3015 - learning_rate: 1.0000e-04\n",
            "Epoch 14/50\n",
            "\u001b[1m316/316\u001b[0m \u001b[32m━━━━━━━━━━━━━━━━━━━━\u001b[0m\u001b[37m\u001b[0m \u001b[1m3s\u001b[0m 11ms/step - loss: 0.0863 - mean_absolute_error: 0.2574 - root_mean_squared_error: 0.2937 - val_loss: 0.0862 - val_mean_absolute_error: 0.2557 - val_root_mean_squared_error: 0.2935 - learning_rate: 1.0000e-04\n",
            "Epoch 15/50\n",
            "\u001b[1m316/316\u001b[0m \u001b[32m━━━━━━━━━━━━━━━━━━━━\u001b[0m\u001b[37m\u001b[0m \u001b[1m4s\u001b[0m 8ms/step - loss: 0.0822 - mean_absolute_error: 0.2486 - root_mean_squared_error: 0.2865 - val_loss: 0.0816 - val_mean_absolute_error: 0.2458 - val_root_mean_squared_error: 0.2854 - learning_rate: 1.0000e-04\n",
            "Epoch 16/50\n",
            "\u001b[1m316/316\u001b[0m \u001b[32m━━━━━━━━━━━━━━━━━━━━\u001b[0m\u001b[37m\u001b[0m \u001b[1m3s\u001b[0m 8ms/step - loss: 0.0766 - mean_absolute_error: 0.2368 - root_mean_squared_error: 0.2766 - val_loss: 0.0771 - val_mean_absolute_error: 0.2359 - val_root_mean_squared_error: 0.2776 - learning_rate: 1.0000e-04\n",
            "Epoch 17/50\n",
            "\u001b[1m316/316\u001b[0m \u001b[32m━━━━━━━━━━━━━━━━━━━━\u001b[0m\u001b[37m\u001b[0m \u001b[1m3s\u001b[0m 8ms/step - loss: 0.0720 - mean_absolute_error: 0.2268 - root_mean_squared_error: 0.2682 - val_loss: 0.0730 - val_mean_absolute_error: 0.2265 - val_root_mean_squared_error: 0.2701 - learning_rate: 1.0000e-04\n",
            "Epoch 18/50\n",
            "\u001b[1m316/316\u001b[0m \u001b[32m━━━━━━━━━━━━━━━━━━━━\u001b[0m\u001b[37m\u001b[0m \u001b[1m4s\u001b[0m 12ms/step - loss: 0.0679 - mean_absolute_error: 0.2170 - root_mean_squared_error: 0.2603 - val_loss: 0.0694 - val_mean_absolute_error: 0.2177 - val_root_mean_squared_error: 0.2632 - learning_rate: 1.0000e-04\n",
            "Epoch 19/50\n",
            "\u001b[1m316/316\u001b[0m \u001b[32m━━━━━━━━━━━━━━━━━━━━\u001b[0m\u001b[37m\u001b[0m \u001b[1m4s\u001b[0m 9ms/step - loss: 0.0641 - mean_absolute_error: 0.2080 - root_mean_squared_error: 0.2529 - val_loss: 0.0661 - val_mean_absolute_error: 0.2096 - val_root_mean_squared_error: 0.2569 - learning_rate: 1.0000e-04\n",
            "Epoch 20/50\n",
            "\u001b[1m316/316\u001b[0m \u001b[32m━━━━━━━━━━━━━━━━━━━━\u001b[0m\u001b[37m\u001b[0m \u001b[1m3s\u001b[0m 9ms/step - loss: 0.0613 - mean_absolute_error: 0.2008 - root_mean_squared_error: 0.2474 - val_loss: 0.0633 - val_mean_absolute_error: 0.2024 - val_root_mean_squared_error: 0.2514 - learning_rate: 1.0000e-04\n",
            "Epoch 21/50\n",
            "\u001b[1m316/316\u001b[0m \u001b[32m━━━━━━━━━━━━━━━━━━━━\u001b[0m\u001b[37m\u001b[0m \u001b[1m3s\u001b[0m 9ms/step - loss: 0.0587 - mean_absolute_error: 0.1943 - root_mean_squared_error: 0.2421 - val_loss: 0.0609 - val_mean_absolute_error: 0.1960 - val_root_mean_squared_error: 0.2465 - learning_rate: 1.0000e-04\n",
            "Epoch 22/50\n",
            "\u001b[1m316/316\u001b[0m \u001b[32m━━━━━━━━━━━━━━━━━━━━\u001b[0m\u001b[37m\u001b[0m \u001b[1m4s\u001b[0m 12ms/step - loss: 0.0557 - mean_absolute_error: 0.1866 - root_mean_squared_error: 0.2356 - val_loss: 0.0588 - val_mean_absolute_error: 0.1904 - val_root_mean_squared_error: 0.2422 - learning_rate: 1.0000e-04\n",
            "Epoch 23/50\n",
            "\u001b[1m316/316\u001b[0m \u001b[32m━━━━━━━━━━━━━━━━━━━━\u001b[0m\u001b[37m\u001b[0m \u001b[1m4s\u001b[0m 8ms/step - loss: 0.0536 - mean_absolute_error: 0.1809 - root_mean_squared_error: 0.2311 - val_loss: 0.0570 - val_mean_absolute_error: 0.1854 - val_root_mean_squared_error: 0.2385 - learning_rate: 1.0000e-04\n",
            "Epoch 24/50\n",
            "\u001b[1m316/316\u001b[0m \u001b[32m━━━━━━━━━━━━━━━━━━━━\u001b[0m\u001b[37m\u001b[0m \u001b[1m3s\u001b[0m 8ms/step - loss: 0.0515 - mean_absolute_error: 0.1755 - root_mean_squared_error: 0.2265 - val_loss: 0.0555 - val_mean_absolute_error: 0.1811 - val_root_mean_squared_error: 0.2352 - learning_rate: 1.0000e-04\n",
            "Epoch 25/50\n",
            "\u001b[1m316/316\u001b[0m \u001b[32m━━━━━━━━━━━━━━━━━━━━\u001b[0m\u001b[37m\u001b[0m \u001b[1m3s\u001b[0m 8ms/step - loss: 0.0497 - mean_absolute_error: 0.1709 - root_mean_squared_error: 0.2225 - val_loss: 0.0542 - val_mean_absolute_error: 0.1774 - val_root_mean_squared_error: 0.2324 - learning_rate: 1.0000e-04\n",
            "Epoch 26/50\n",
            "\u001b[1m316/316\u001b[0m \u001b[32m━━━━━━━━━━━━━━━━━━━━\u001b[0m\u001b[37m\u001b[0m \u001b[1m4s\u001b[0m 11ms/step - loss: 0.0484 - mean_absolute_error: 0.1668 - root_mean_squared_error: 0.2196 - val_loss: 0.0531 - val_mean_absolute_error: 0.1740 - val_root_mean_squared_error: 0.2299 - learning_rate: 1.0000e-04\n",
            "Epoch 27/50\n",
            "\u001b[1m316/316\u001b[0m \u001b[32m━━━━━━━━━━━━━━━━━━━━\u001b[0m\u001b[37m\u001b[0m \u001b[1m3s\u001b[0m 9ms/step - loss: 0.0467 - mean_absolute_error: 0.1626 - root_mean_squared_error: 0.2157 - val_loss: 0.0521 - val_mean_absolute_error: 0.1711 - val_root_mean_squared_error: 0.2278 - learning_rate: 1.0000e-04\n",
            "Epoch 28/50\n",
            "\u001b[1m316/316\u001b[0m \u001b[32m━━━━━━━━━━━━━━━━━━━━\u001b[0m\u001b[37m\u001b[0m \u001b[1m3s\u001b[0m 8ms/step - loss: 0.0457 - mean_absolute_error: 0.1596 - root_mean_squared_error: 0.2133 - val_loss: 0.0512 - val_mean_absolute_error: 0.1684 - val_root_mean_squared_error: 0.2259 - learning_rate: 1.0000e-04\n",
            "Epoch 29/50\n",
            "\u001b[1m316/316\u001b[0m \u001b[32m━━━━━━━━━━━━━━━━━━━━\u001b[0m\u001b[37m\u001b[0m \u001b[1m3s\u001b[0m 8ms/step - loss: 0.0455 - mean_absolute_error: 0.1582 - root_mean_squared_error: 0.2127 - val_loss: 0.0505 - val_mean_absolute_error: 0.1661 - val_root_mean_squared_error: 0.2242 - learning_rate: 1.0000e-04\n",
            "Epoch 30/50\n",
            "\u001b[1m316/316\u001b[0m \u001b[32m━━━━━━━━━━━━━━━━━━━━\u001b[0m\u001b[37m\u001b[0m \u001b[1m4s\u001b[0m 12ms/step - loss: 0.0438 - mean_absolute_error: 0.1541 - root_mean_squared_error: 0.2087 - val_loss: 0.0498 - val_mean_absolute_error: 0.1640 - val_root_mean_squared_error: 0.2227 - learning_rate: 1.0000e-04\n",
            "Epoch 31/50\n",
            "\u001b[1m316/316\u001b[0m \u001b[32m━━━━━━━━━━━━━━━━━━━━\u001b[0m\u001b[37m\u001b[0m \u001b[1m4s\u001b[0m 9ms/step - loss: 0.0430 - mean_absolute_error: 0.1520 - root_mean_squared_error: 0.2067 - val_loss: 0.0493 - val_mean_absolute_error: 0.1621 - val_root_mean_squared_error: 0.2214 - learning_rate: 1.0000e-04\n",
            "Epoch 32/50\n",
            "\u001b[1m316/316\u001b[0m \u001b[32m━━━━━━━━━━━━━━━━━━━━\u001b[0m\u001b[37m\u001b[0m \u001b[1m5s\u001b[0m 9ms/step - loss: 0.0418 - mean_absolute_error: 0.1490 - root_mean_squared_error: 0.2037 - val_loss: 0.0488 - val_mean_absolute_error: 0.1604 - val_root_mean_squared_error: 0.2202 - learning_rate: 1.0000e-04\n",
            "Epoch 33/50\n",
            "\u001b[1m316/316\u001b[0m \u001b[32m━━━━━━━━━━━━━━━━━━━━\u001b[0m\u001b[37m\u001b[0m \u001b[1m4s\u001b[0m 12ms/step - loss: 0.0415 - mean_absolute_error: 0.1476 - root_mean_squared_error: 0.2032 - val_loss: 0.0483 - val_mean_absolute_error: 0.1588 - val_root_mean_squared_error: 0.2192 - learning_rate: 1.0000e-04\n",
            "Epoch 34/50\n",
            "\u001b[1m316/316\u001b[0m \u001b[32m━━━━━━━━━━━━━━━━━━━━\u001b[0m\u001b[37m\u001b[0m \u001b[1m3s\u001b[0m 8ms/step - loss: 0.0411 - mean_absolute_error: 0.1460 - root_mean_squared_error: 0.2020 - val_loss: 0.0479 - val_mean_absolute_error: 0.1574 - val_root_mean_squared_error: 0.2182 - learning_rate: 1.0000e-04\n",
            "Epoch 35/50\n",
            "\u001b[1m316/316\u001b[0m \u001b[32m━━━━━━━━━━━━━━━━━━━━\u001b[0m\u001b[37m\u001b[0m \u001b[1m5s\u001b[0m 8ms/step - loss: 0.0403 - mean_absolute_error: 0.1442 - root_mean_squared_error: 0.2002 - val_loss: 0.0475 - val_mean_absolute_error: 0.1561 - val_root_mean_squared_error: 0.2174 - learning_rate: 1.0000e-04\n",
            "Epoch 36/50\n",
            "\u001b[1m316/316\u001b[0m \u001b[32m━━━━━━━━━━━━━━━━━━━━\u001b[0m\u001b[37m\u001b[0m \u001b[1m3s\u001b[0m 9ms/step - loss: 0.0394 - mean_absolute_error: 0.1417 - root_mean_squared_error: 0.1978 - val_loss: 0.0472 - val_mean_absolute_error: 0.1549 - val_root_mean_squared_error: 0.2166 - learning_rate: 1.0000e-04\n",
            "Epoch 37/50\n",
            "\u001b[1m316/316\u001b[0m \u001b[32m━━━━━━━━━━━━━━━━━━━━\u001b[0m\u001b[37m\u001b[0m \u001b[1m5s\u001b[0m 9ms/step - loss: 0.0393 - mean_absolute_error: 0.1410 - root_mean_squared_error: 0.1976 - val_loss: 0.0469 - val_mean_absolute_error: 0.1538 - val_root_mean_squared_error: 0.2159 - learning_rate: 1.0000e-04\n",
            "Epoch 38/50\n",
            "\u001b[1m316/316\u001b[0m \u001b[32m━━━━━━━━━━━━━━━━━━━━\u001b[0m\u001b[37m\u001b[0m \u001b[1m5s\u001b[0m 8ms/step - loss: 0.0383 - mean_absolute_error: 0.1386 - root_mean_squared_error: 0.1949 - val_loss: 0.0466 - val_mean_absolute_error: 0.1528 - val_root_mean_squared_error: 0.2152 - learning_rate: 1.0000e-04\n",
            "Epoch 39/50\n",
            "\u001b[1m316/316\u001b[0m \u001b[32m━━━━━━━━━━━━━━━━━━━━\u001b[0m\u001b[37m\u001b[0m \u001b[1m4s\u001b[0m 12ms/step - loss: 0.0380 - mean_absolute_error: 0.1378 - root_mean_squared_error: 0.1942 - val_loss: 0.0464 - val_mean_absolute_error: 0.1518 - val_root_mean_squared_error: 0.2146 - learning_rate: 1.0000e-04\n",
            "Epoch 40/50\n",
            "\u001b[1m316/316\u001b[0m \u001b[32m━━━━━━━━━━━━━━━━━━━━\u001b[0m\u001b[37m\u001b[0m \u001b[1m4s\u001b[0m 9ms/step - loss: 0.0377 - mean_absolute_error: 0.1365 - root_mean_squared_error: 0.1934 - val_loss: 0.0461 - val_mean_absolute_error: 0.1510 - val_root_mean_squared_error: 0.2141 - learning_rate: 1.0000e-04\n",
            "Epoch 41/50\n",
            "\u001b[1m316/316\u001b[0m \u001b[32m━━━━━━━━━━━━━━━━━━━━\u001b[0m\u001b[37m\u001b[0m \u001b[1m3s\u001b[0m 8ms/step - loss: 0.0369 - mean_absolute_error: 0.1346 - root_mean_squared_error: 0.1913 - val_loss: 0.0459 - val_mean_absolute_error: 0.1501 - val_root_mean_squared_error: 0.2136 - learning_rate: 1.0000e-04\n",
            "Epoch 42/50\n",
            "\u001b[1m316/316\u001b[0m \u001b[32m━━━━━━━━━━━━━━━━━━━━\u001b[0m\u001b[37m\u001b[0m \u001b[1m6s\u001b[0m 12ms/step - loss: 0.0365 - mean_absolute_error: 0.1339 - root_mean_squared_error: 0.1903 - val_loss: 0.0457 - val_mean_absolute_error: 0.1494 - val_root_mean_squared_error: 0.2131 - learning_rate: 1.0000e-04\n",
            "Epoch 43/50\n",
            "\u001b[1m316/316\u001b[0m \u001b[32m━━━━━━━━━━━━━━━━━━━━\u001b[0m\u001b[37m\u001b[0m \u001b[1m4s\u001b[0m 9ms/step - loss: 0.0363 - mean_absolute_error: 0.1326 - root_mean_squared_error: 0.1896 - val_loss: 0.0456 - val_mean_absolute_error: 0.1487 - val_root_mean_squared_error: 0.2127 - learning_rate: 1.0000e-04\n",
            "Epoch 44/50\n",
            "\u001b[1m316/316\u001b[0m \u001b[32m━━━━━━━━━━━━━━━━━━━━\u001b[0m\u001b[37m\u001b[0m \u001b[1m5s\u001b[0m 9ms/step - loss: 0.0353 - mean_absolute_error: 0.1305 - root_mean_squared_error: 0.1870 - val_loss: 0.0454 - val_mean_absolute_error: 0.1480 - val_root_mean_squared_error: 0.2123 - learning_rate: 1.0000e-04\n",
            "Epoch 45/50\n",
            "\u001b[1m316/316\u001b[0m \u001b[32m━━━━━━━━━━━━━━━━━━━━\u001b[0m\u001b[37m\u001b[0m \u001b[1m5s\u001b[0m 8ms/step - loss: 0.0352 - mean_absolute_error: 0.1299 - root_mean_squared_error: 0.1867 - val_loss: 0.0453 - val_mean_absolute_error: 0.1474 - val_root_mean_squared_error: 0.2119 - learning_rate: 1.0000e-04\n",
            "Epoch 46/50\n",
            "\u001b[1m316/316\u001b[0m \u001b[32m━━━━━━━━━━━━━━━━━━━━\u001b[0m\u001b[37m\u001b[0m \u001b[1m5s\u001b[0m 8ms/step - loss: 0.0345 - mean_absolute_error: 0.1282 - root_mean_squared_error: 0.1847 - val_loss: 0.0451 - val_mean_absolute_error: 0.1469 - val_root_mean_squared_error: 0.2116 - learning_rate: 1.0000e-04\n",
            "Epoch 47/50\n",
            "\u001b[1m316/316\u001b[0m \u001b[32m━━━━━━━━━━━━━━━━━━━━\u001b[0m\u001b[37m\u001b[0m \u001b[1m3s\u001b[0m 11ms/step - loss: 0.0343 - mean_absolute_error: 0.1279 - root_mean_squared_error: 0.1841 - val_loss: 0.0450 - val_mean_absolute_error: 0.1463 - val_root_mean_squared_error: 0.2112 - learning_rate: 1.0000e-04\n",
            "Epoch 48/50\n",
            "\u001b[1m316/316\u001b[0m \u001b[32m━━━━━━━━━━━━━━━━━━━━\u001b[0m\u001b[37m\u001b[0m \u001b[1m4s\u001b[0m 8ms/step - loss: 0.0336 - mean_absolute_error: 0.1262 - root_mean_squared_error: 0.1824 - val_loss: 0.0449 - val_mean_absolute_error: 0.1458 - val_root_mean_squared_error: 0.2109 - learning_rate: 1.0000e-04\n",
            "Epoch 49/50\n",
            "\u001b[1m316/316\u001b[0m \u001b[32m━━━━━━━━━━━━━━━━━━━━\u001b[0m\u001b[37m\u001b[0m \u001b[1m3s\u001b[0m 9ms/step - loss: 0.0334 - mean_absolute_error: 0.1253 - root_mean_squared_error: 0.1818 - val_loss: 0.0447 - val_mean_absolute_error: 0.1453 - val_root_mean_squared_error: 0.2106 - learning_rate: 1.0000e-04\n",
            "Epoch 50/50\n",
            "\u001b[1m316/316\u001b[0m \u001b[32m━━━━━━━━━━━━━━━━━━━━\u001b[0m\u001b[37m\u001b[0m \u001b[1m3s\u001b[0m 8ms/step - loss: 0.0336 - mean_absolute_error: 0.1253 - root_mean_squared_error: 0.1822 - val_loss: 0.0446 - val_mean_absolute_error: 0.1449 - val_root_mean_squared_error: 0.2104 - learning_rate: 1.0000e-04\n"
          ]
        }
      ]
    },
    {
      "cell_type": "markdown",
      "source": [
        "Hasil akhir dari pelatihan model menunjukkan bahwa model telah mengalami **penurunan loss** yang konsisten selama 50 epoch pelatihan. Berikut penjelasan dari metrik yang ditampilkan pada **epoch terakhir**:\n",
        "\n",
        "1. **Loss**: Nilai **loss** mencapai **0.0336** pada data pelatihan dan **0.0446** pada data validasi (**val\\_loss**). Penurunan loss yang stabil menunjukkan bahwa model berhasil meminimalkan kesalahan prediksi selama pelatihan.\n",
        "\n",
        "2. **Mean Absolute Error (MAE)**: MAE pada data pelatihan adalah **0.1253**, yang mengindikasikan rata-rata kesalahan absolut antara prediksi dan nilai sebenarnya adalah sekitar **0.1253**. Untuk data validasi, MAE adalah **0.1449**, yang sedikit lebih tinggi, namun masih menunjukkan kinerja model yang cukup baik.\n",
        "\n",
        "3. **Root Mean Squared Error (RMSE)**: RMSE untuk data pelatihan adalah **0.1822**, dan untuk data validasi adalah **0.2104**. RMSE mengukur kesalahan model dalam unit yang sama dengan target. Penurunan RMSE juga menunjukkan bahwa model semakin akurat dalam memprediksi rating.\n",
        "\n",
        "4. **Learning Rate**: Learning rate tetap **0.0001** sepanjang pelatihan, yang stabil dan cukup kecil untuk memungkinkan model belajar dengan hati-hati tanpa melewatkan solusi optimal.\n",
        "\n",
        "Secara keseluruhan, model menunjukkan kinerja yang baik dengan penurunan **loss** dan **error** yang stabil selama pelatihan. Meskipun ada sedikit perbedaan antara kinerja data pelatihan dan validasi, ini menunjukkan bahwa model sudah cukup tergeneralisi dan mampu memberikan prediksi yang akurat pada data yang belum terlihat.\n"
      ],
      "metadata": {
        "id": "O3KYmQkU6PQc"
      }
    },
    {
      "cell_type": "markdown",
      "source": [
        "untuk mempermudah pemantauan kinerja model berikut adalah visualisasinya"
      ],
      "metadata": {
        "id": "AUPYTst46pYi"
      }
    },
    {
      "cell_type": "code",
      "source": [
        "plt.figure(figsize=(15, 5))\n",
        "\n",
        "plt.subplot(1, 3, 1)\n",
        "plt.plot(history.history['loss'])\n",
        "plt.plot(history.history['val_loss'])\n",
        "plt.title('Model Loss')\n",
        "plt.xlabel('Epoch')\n",
        "plt.ylabel('Loss')\n",
        "plt.legend(['Train', 'Validation'])\n",
        "\n",
        "plt.subplot(1, 3, 2)\n",
        "plt.plot(history.history['root_mean_squared_error'])\n",
        "plt.plot(history.history['val_root_mean_squared_error'])\n",
        "plt.title('Root Mean Squared Error')\n",
        "plt.xlabel('Epoch')\n",
        "plt.ylabel('RMSE')\n",
        "plt.legend(['Train', 'Validation'])\n",
        "\n",
        "plt.subplot(1, 3, 3)\n",
        "plt.plot(history.history['mean_absolute_error'])\n",
        "plt.plot(history.history['val_mean_absolute_error'])\n",
        "plt.title('Mean Absolute Error')\n",
        "plt.xlabel('Epoch')\n",
        "plt.ylabel('MAE')\n",
        "plt.legend(['Train', 'Validation'])\n",
        "\n",
        "plt.tight_layout()\n",
        "plt.show()"
      ],
      "metadata": {
        "colab": {
          "base_uri": "https://localhost:8080/",
          "height": 527
        },
        "id": "kuvwQm6QhPk4",
        "outputId": "faf0484f-f36f-40dd-c658-bfa2753ba598"
      },
      "execution_count": 94,
      "outputs": [
        {
          "output_type": "display_data",
          "data": {
            "text/plain": [
              "<Figure size 1500x500 with 3 Axes>"
            ],
            "image/png": "[encoded data removed]"
          },
          "metadata": {}
        }
      ]
    },
    {
      "cell_type": "markdown",
      "source": [
        "\n",
        "Fungsi **`get_recommendations`** memberikan **rekomendasi anime** untuk pengguna berdasarkan **model rekomendasi** yang sudah dilatih. Fungsi ini pertama memeriksa apakah **user\\_id** ada dalam data, lalu mengambil anime yang sudah dinilai pengguna. Kemudian, fungsi menyaring anime yang belum dinilai dan mempersiapkan data untuk prediksi rating. Rating yang diprediksi dinormalisasi kembali ke skala asli dan diurutkan berdasarkan rating tertinggi. Fungsi mengembalikan **top\\_k** anime teratas berdasarkan rating yang diprediksi.\n"
      ],
      "metadata": {
        "id": "exTG9V6R7A01"
      }
    },
    {
      "cell_type": "code",
      "source": [
        "def get_recommendations(user_id, model, user_to_idx, anime_to_idx,\n",
        "                       idx_to_anime, ratings_subset, top_k=10):\n",
        "    \"\"\"\n",
        "    Mendapatkan rekomendasi anime untuk user tertentu\n",
        "\n",
        "    Args:\n",
        "        user_id: ID user yang ingin diberi rekomendasi\n",
        "        model: Model yang sudah ditraining\n",
        "        user_to_idx: Dictionary mapping user_id ke index\n",
        "        anime_to_idx: Dictionary mapping anime_id ke index\n",
        "        idx_to_anime: Dictionary mapping index ke anime_id\n",
        "        ratings_subset: DataFrame rating subset\n",
        "        top_k: Jumlah rekomendasi yang diinginkan\n",
        "\n",
        "    Returns:\n",
        "        List of recommended anime_ids with predicted ratings\n",
        "    \"\"\"\n",
        "\n",
        "    if user_id not in user_to_idx:\n",
        "        print(f\"User {user_id} tidak ditemukan dalam data training\")\n",
        "        return []\n",
        "\n",
        "    user_idx = user_to_idx[user_id]\n",
        "\n",
        "    # Ambil anime yang sudah dinilai user ini\n",
        "    user_rated_animes = set(ratings_subset[ratings_subset['user_id'] == user_id]['anime_id'].values)\n",
        "\n",
        "    # Buat list semua anime yang belum dinilai\n",
        "    all_anime_ids = list(anime_to_idx.keys())\n",
        "    unrated_animes = [anime_id for anime_id in all_anime_ids if anime_id not in user_rated_animes]\n",
        "\n",
        "    if not unrated_animes:\n",
        "        print(f\"User {user_id} sudah menilai semua anime\")\n",
        "        return []\n",
        "\n",
        "    # Siapkan input untuk prediksi\n",
        "    user_anime_array = np.array([[user_idx, anime_to_idx[anime_id]] for anime_id in unrated_animes])\n",
        "\n",
        "    # Prediksi rating\n",
        "    predicted_ratings = model.predict(user_anime_array)\n",
        "\n",
        "    # Denormalisasi rating kembali ke skala asli\n",
        "    predicted_ratings_denorm = predicted_ratings.flatten() * (max_rating - min_rating) + min_rating\n",
        "\n",
        "    # Gabungkan dengan anime_id dan sort berdasarkan rating tertinggi\n",
        "    anime_ratings = list(zip(unrated_animes, predicted_ratings_denorm))\n",
        "    anime_ratings.sort(key=lambda x: x[1], reverse=True)\n",
        "\n",
        "    return anime_ratings[:top_k]"
      ],
      "metadata": {
        "id": "D5FncEn3g8xL"
      },
      "execution_count": 95,
      "outputs": []
    },
    {
      "cell_type": "markdown",
      "source": [
        "Fungsi **`display_recommendations`** menampilkan **top k** rekomendasi anime untuk **user\\_id**, dengan format yang rapi. Fungsi ini menampilkan nama anime dan **predicted rating** jika **`anime_df`** tersedia, atau hanya **anime ID** jika tidak. Fungsi ini juga membuat **reverse mapping** dari **index** ke **anime\\_id** untuk menampilkan nama anime dari rekomendasi.\n"
      ],
      "metadata": {
        "id": "tt41Kh9W7XRf"
      }
    },
    {
      "cell_type": "code",
      "source": [
        "def display_recommendations(user_id, recommendations, anime_df=None):\n",
        "    \"\"\"\n",
        "    Menampilkan rekomendasi dengan format yang bagus\n",
        "    \"\"\"\n",
        "    print(f\"\\n=== Top {len(recommendations)} Rekomendasi untuk User {user_id} ===\")\n",
        "\n",
        "    for i, (anime_id, predicted_rating) in enumerate(recommendations, 1):\n",
        "        if anime_df is not None and 'name' in anime_df.columns:\n",
        "            anime_name = anime_df[anime_df['anime_id'] == anime_id]['name'].iloc[0] if len(anime_df[anime_df['anime_id'] == anime_id]) > 0 else \"Unknown\"\n",
        "            print(f\"{i}. {anime_name} (ID: {anime_id}) - Predicted Rating: {predicted_rating:.2f}\")\n",
        "        else:\n",
        "            print(f\"{i}. Anime ID: {anime_id} - Predicted Rating: {predicted_rating:.2f}\")\n",
        "\n",
        "# Buat reverse mapping untuk rekomendasi\n",
        "idx_to_anime = {idx: anime_id for anime_id, idx in anime_to_idx.items()}"
      ],
      "metadata": {
        "id": "dd1xK2eRg-E2"
      },
      "execution_count": 96,
      "outputs": []
    },
    {
      "cell_type": "markdown",
      "source": [
        "Kode ini menguji sistem rekomendasi dengan **user ID pertama** dari **`sample_users`**. Pertama, beberapa rating pengguna ditampilkan, kemudian **10 rekomendasi anime** dihasilkan menggunakan **`get_recommendations`** dan ditampilkan dengan **`display_recommendations`**. Terakhir, kinerja model pada data validasi ditampilkan, mencakup **loss**, **RMSE**, dan **MAE** pada **validation set**.\n"
      ],
      "metadata": {
        "id": "hGLSPJqc7qLo"
      }
    },
    {
      "cell_type": "code",
      "source": [
        "print(\"\\n\" + \"=\"*50)\n",
        "print(\"TESTING SISTEM REKOMENDASI\")\n",
        "print(\"=\"*50)\n",
        "\n",
        "# Ambil user ID pertama dari sample untuk testing\n",
        "test_user_id = sample_users[0]\n",
        "print(f\"Testing dengan User ID: {test_user_id}\")\n",
        "\n",
        "# Tampilkan beberapa rating user ini\n",
        "user_ratings = ratings_subset[ratings_subset['user_id'] == test_user_id][['anime_id', 'rating']].head()\n",
        "print(f\"\\nBeberapa rating user ini:\")\n",
        "print(user_ratings)\n",
        "\n",
        "# Generate rekomendasi\n",
        "recommendations = get_recommendations(\n",
        "    test_user_id,\n",
        "    model,\n",
        "    user_to_idx,\n",
        "    anime_to_idx,\n",
        "    idx_to_anime,\n",
        "    ratings_subset,\n",
        "    top_k=10\n",
        ")\n",
        "\n",
        "# Tampilkan rekomendasi\n",
        "if recommendations:\n",
        "    display_recommendations(test_user_id, recommendations, anime)\n",
        "else:\n",
        "    print(\"Tidak ada rekomendasi yang bisa diberikan\")\n",
        "\n",
        "print(f\"\\nModel performance pada validation set:\")\n",
        "print(f\"Final validation loss: {min(history.history['val_loss']):.4f}\")\n",
        "print(f\"Final validation RMSE: {min(history.history['val_root_mean_squared_error']):.4f}\")\n",
        "print(f\"Final validation MAE: {min(history.history['val_mean_absolute_error']):.4f}\")"
      ],
      "metadata": {
        "colab": {
          "base_uri": "https://localhost:8080/"
        },
        "id": "EVLlswWQhBxn",
        "outputId": "fbff0735-f177-4416-d8c8-c224bec49f71"
      },
      "execution_count": 97,
      "outputs": [
        {
          "output_type": "stream",
          "name": "stdout",
          "text": [
            "\n",
            "==================================================\n",
            "TESTING SISTEM REKOMENDASI\n",
            "==================================================\n",
            "Testing dengan User ID: 19797\n",
            "\n",
            "Beberapa rating user ini:\n",
            "         anime_id  rating\n",
            "2044833      3002       9\n",
            "2044834      6547       9\n",
            "2044835      7054       8\n",
            "2044836      8525       8\n",
            "2044837      9253      10\n",
            "\u001b[1m169/169\u001b[0m \u001b[32m━━━━━━━━━━━━━━━━━━━━\u001b[0m\u001b[37m\u001b[0m \u001b[1m1s\u001b[0m 3ms/step\n",
            "\n",
            "=== Top 10 Rekomendasi untuk User 19797 ===\n",
            "1. Fullmetal Alchemist: Brotherhood (ID: 5114) - Predicted Rating: 8.73\n",
            "2. Mononoke Hime (ID: 164) - Predicted Rating: 8.28\n",
            "3. Tengen Toppa Gurren Lagann (ID: 2001) - Predicted Rating: 8.27\n",
            "4. Code Geass: Hangyaku no Lelouch R2 (ID: 2904) - Predicted Rating: 8.25\n",
            "5. Howl no Ugoku Shiro (ID: 431) - Predicted Rating: 8.20\n",
            "6. Sen to Chihiro no Kamikakushi (ID: 199) - Predicted Rating: 8.17\n",
            "7. Clannad: After Story (ID: 4181) - Predicted Rating: 8.15\n",
            "8. Death Note (ID: 1535) - Predicted Rating: 8.11\n",
            "9. Code Geass: Hangyaku no Lelouch (ID: 1575) - Predicted Rating: 8.09\n",
            "10. Hellsing Ultimate (ID: 777) - Predicted Rating: 8.05\n",
            "\n",
            "Model performance pada validation set:\n",
            "Final validation loss: 0.0446\n",
            "Final validation RMSE: 0.2104\n",
            "Final validation MAE: 0.1449\n"
          ]
        }
      ]
    },
    {
      "cell_type": "markdown",
      "source": [
        "Output ini menunjukkan hasil dari pengujian sistem rekomendasi untuk **User ID 19797**:\n",
        "\n",
        "1. **Beberapa rating yang diberikan oleh pengguna**: Menampilkan anime yang telah dinilai oleh pengguna, dengan rating yang diberikan (misalnya, **anime ID 3002** diberi rating **9**).\n",
        "\n",
        "2. **Top 10 rekomendasi anime**: Sistem memberikan rekomendasi berdasarkan prediksi rating yang dihitung model. Anime dengan **predicted rating** tertinggi ditampilkan pertama, seperti **Fullmetal Alchemist: Brotherhood** dengan prediksi rating **8.73**.\n",
        "\n",
        "3. **Model performance pada validation set**:\n",
        "\n",
        "   * **Final validation loss**: **0.0446**, yang menunjukkan kesalahan prediksi akhir model pada data validasi.\n",
        "   * **Final validation RMSE**: **0.2104**, yang mengukur kesalahan rata-rata kuadrat pada data validasi. Semakin rendah nilai RMSE, semakin akurat model.\n",
        "   * **Final validation MAE**: **0.1449**, yang menunjukkan kesalahan rata-rata absolut dalam prediksi model. Nilai yang lebih rendah menandakan model lebih akurat.\n",
        "\n",
        "Secara keseluruhan, model berhasil memberikan rekomendasi yang relevan untuk pengguna, dengan kinerja yang baik pada data validasi (loss, RMSE, dan MAE yang rendah).\n"
      ],
      "metadata": {
        "id": "6lsmKBVx71ry"
      }
    }
  ]
}